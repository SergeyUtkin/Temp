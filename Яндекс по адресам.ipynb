{
 "cells": [
  {
   "cell_type": "code",
   "execution_count": 3,
   "id": "127d6844",
   "metadata": {},
   "outputs": [],
   "source": [
    "from selenium import webdriver\n",
    "from selenium.webdriver.chrome.options import Options\n",
    "from selenium.webdriver.common.keys import Keys\n",
    "import pandas as pd\n",
    "import time\n",
    "import random\n",
    "import tqdm\n",
    "import pyautogui\n",
    "from bs4 import BeautifulSoup\n",
    "import requests\n",
    "from selenium.webdriver.common.by import By\n",
    "import time\n",
    "import datetime"
   ]
  },
  {
   "cell_type": "code",
   "execution_count": 4,
   "id": "64a4368a",
   "metadata": {},
   "outputs": [],
   "source": [
    "browser = webdriver.Chrome()\n",
    "df = pd.DataFrame(columns = ['Что ищем','Время сбора','Ссылка','adr','work','ost','otz','osob','inf'])"
   ]
  },
  {
   "cell_type": "code",
   "execution_count": 7,
   "id": "4721ac17",
   "metadata": {},
   "outputs": [],
   "source": [
    "browser.get(r'https://yandex.ru/maps/')"
   ]
  },
  {
   "cell_type": "code",
   "execution_count": 9,
   "id": "05ddfa07",
   "metadata": {},
   "outputs": [],
   "source": [
    "Poisk = browser.find_element(By.CLASS_NAME,'input__control')"
   ]
  },
  {
   "cell_type": "code",
   "execution_count": 16,
   "id": "05fe60c9",
   "metadata": {},
   "outputs": [],
   "source": [
    "for адрес in Адреса:\n",
    "    Poisk.send_keys('Нижний Новгород Октябрьская 35 Сбербанк банкомат')\n",
    "    time.sleep(1.5)\n",
    "    Poisk.send_keys(Keys.ENTER)\n",
    "    time.sleep(5)\n",
    "    h = ''\n",
    "    elem = browser.find_elements(By.CLASS_NAME,'search-business-snippet-view')\n",
    "    while h != elem[-1]:\n",
    "        h = elem[-1]\n",
    "        browser.execute_script(\"arguments[0].scrollIntoView(true);\",elem[-1])\n",
    "        time.sleep(1)\n",
    "        elem = browser.find_elements(By.CLASS_NAME,'search-business-snippet-view')\n",
    "    for h in elem:\n",
    "        browser.execute_script(\"arguments[0].scrollIntoView(true);\",h)\n",
    "        time.sleep(1)\n",
    "        h.click()\n",
    "        time.sleep(1)\n",
    "        browser.find_elements(By.CLASS_NAME,'card-feature-view__value')[0].click()\n",
    "        time.sleep(1)\n",
    "        #browser.find_elements(By.CLASS_NAME,'business-working-status-view')[0].click()\n",
    "        time.sleep(2)\n",
    "        e = browser.find_elements(By.CLASS_NAME,'business-working-intervals-view__item')\n",
    "        work = ''\n",
    "        for ee in e:\n",
    "            work = work + ' ' + ee.text\n",
    "        time.sleep(1)\n",
    "\n",
    "        adr = browser.find_elements(By.CLASS_NAME,'business-contacts-view__address-link')\n",
    "        adr = adr[0].text\n",
    "\n",
    "        ost = browser.find_element(By.CLASS_NAME,'masstransit-stops-view__stop-name')\n",
    "        metrs = browser.find_element(By.CLASS_NAME,'masstransit-stops-view__stop-distance')\n",
    "        ost = ost.text+'  '+metrs.text\n",
    "\n",
    "        features = browser.find_elements(By.CLASS_NAME,'business-features-view__bool-text')\n",
    "\n",
    "        vkl = browser.find_elements(By.CLASS_NAME,'tabs-select-view__title')\n",
    "\n",
    "        vkl[2].click()\n",
    "        time.sleep(5)\n",
    "\n",
    "        o = browser.find_elements(By.CLASS_NAME,'business-review-view__body-text')\n",
    "        otz = []\n",
    "        for i in range(len(o)):\n",
    "            otz.append(o[i].text)\n",
    "\n",
    "        vkl[4].click()\n",
    "        time.sleep(5)\n",
    "\n",
    "        o = browser.find_elements(By.CLASS_NAME,'business-features-view__bool-text')\n",
    "        osob = []\n",
    "        for i in range(len(o)):\n",
    "            osob.append(o[i].text)\n",
    "\n",
    "        time.sleep(3)\n",
    "\n",
    "        o = browser.find_elements(By.CLASS_NAME,'business-features-view__valued-value')\n",
    "        oper = []\n",
    "        for i in range(len(o)):\n",
    "            oper.append(o[i].text)\n",
    "        df = df.append({'Что ищем':адрес,'Время сбора':datetime.datetime.now(),'Ссылка':browser.current_url,'adr':adr,'work':work,'ost':ost,'otz':otz,'osob':osob,'inf':oper},ignore_index=True)"
   ]
  },
  {
   "cell_type": "code",
   "execution_count": 19,
   "id": "6043ca4e",
   "metadata": {},
   "outputs": [
    {
     "data": {
      "text/plain": [
       "['Пришла в это отделение впервые. Сижу уже больше 30 минут, чтобы поменять валюту. Работает одна касса. Ужас!!! Руководство сбербанка, проснетесь, сделайте что нибудь. Читаю отзывы и вижу, что не только я с этим столкнулась.',\n",
       " 'Огромная очередь, время ожидания от 30 минут. Постоянно работает 1 касса из 3-х',\n",
       " 'Не смогла получить услугу Обмен валюты, ждала в очереди в кассу 1,5 часа(талон на 15-05) и ушла. Из трех касс работали две, из них одна постоянна закрывалась на «пересчет». Люди негодовали.',\n",
       " 'Кроме как услугами банкомата не пользовалась больше ничем. Удобное расположение, очередей особо нет, т.к. большое количество банкоматов',\n",
       " 'Вежливый персонал всегда готовый оказать помощь. \\nНет парковки!!!',\n",
       " 'Кофе дорогой и не вкусный. А ещё, чтобы взять кредит, нужно больше документов чем, в архиве налоговой. Ужас',\n",
       " 'Всегда есть свободные терминалы и банкоматы. Консультант поможет в любом вопросе.',\n",
       " 'лучшее в городе обслуживание :)',\n",
       " 'Очень неудобно расположены банкоматы, к одному может быть очередь, а у другого никого нет',\n",
       " 'Всегда большие очереди на личное обслуживание',\n",
       " 'В обед большие очереди к банкоматам.',\n",
       " 'Очень добрржелательные консультанты. Дольше пары минут в очереди никогда не ждала',\n",
       " 'Банкомат вовремя пополняется',\n",
       " 'все удобно. быстро.',\n",
       " 'Сбербанк-первый!!!',\n",
       " 'Отличный офис',\n",
       " 'Не работает на прием']"
      ]
     },
     "execution_count": 19,
     "metadata": {},
     "output_type": "execute_result"
    }
   ],
   "source": [
    "df['otz'][1]"
   ]
  },
  {
   "cell_type": "code",
   "execution_count": 20,
   "id": "f6d400f2",
   "metadata": {},
   "outputs": [
    {
     "data": {
      "text/html": [
       "<div>\n",
       "<style scoped>\n",
       "    .dataframe tbody tr th:only-of-type {\n",
       "        vertical-align: middle;\n",
       "    }\n",
       "\n",
       "    .dataframe tbody tr th {\n",
       "        vertical-align: top;\n",
       "    }\n",
       "\n",
       "    .dataframe thead th {\n",
       "        text-align: right;\n",
       "    }\n",
       "</style>\n",
       "<table border=\"1\" class=\"dataframe\">\n",
       "  <thead>\n",
       "    <tr style=\"text-align: right;\">\n",
       "      <th></th>\n",
       "      <th>adr</th>\n",
       "      <th>work</th>\n",
       "      <th>ost</th>\n",
       "      <th>otz</th>\n",
       "      <th>osob</th>\n",
       "      <th>inf</th>\n",
       "    </tr>\n",
       "  </thead>\n",
       "  <tbody>\n",
       "    <tr>\n",
       "      <th>0</th>\n",
       "      <td>Октябрьская ул., 35</td>\n",
       "      <td>Понедельник\\nКруглосуточно Вторник\\nКруглосут...</td>\n",
       "      <td>Горьковская  1,56 км</td>\n",
       "      <td>[Банкомат не работает ни на выдачу, ни на приё...</td>\n",
       "      <td>[, Внесение наличных, Бесконтактные технологии...</td>\n",
       "      <td>[доступно, свободный, 30.09.2023, RUB, RUB, вы...</td>\n",
       "    </tr>\n",
       "    <tr>\n",
       "      <th>1</th>\n",
       "      <td>Октябрьская ул., 35</td>\n",
       "      <td>Понедельник\\n09:00 – 18:00 Вторник\\n09:00 – 1...</td>\n",
       "      <td>Горьковская  1,57 км</td>\n",
       "      <td>[Пришла в это отделение впервые. Сижу уже боль...</td>\n",
       "      <td>[Бесконтактные технологии, Только с картами, С...</td>\n",
       "      <td>[доступно, 30.09.2023, безналичная оплата, Sbe...</td>\n",
       "    </tr>\n",
       "  </tbody>\n",
       "</table>\n",
       "</div>"
      ],
      "text/plain": [
       "                   adr                                               work  \\\n",
       "0  Октябрьская ул., 35   Понедельник\\nКруглосуточно Вторник\\nКруглосут...   \n",
       "1  Октябрьская ул., 35   Понедельник\\n09:00 – 18:00 Вторник\\n09:00 – 1...   \n",
       "\n",
       "                    ost                                                otz  \\\n",
       "0  Горьковская  1,56 км  [Банкомат не работает ни на выдачу, ни на приё...   \n",
       "1  Горьковская  1,57 км  [Пришла в это отделение впервые. Сижу уже боль...   \n",
       "\n",
       "                                                osob  \\\n",
       "0  [, Внесение наличных, Бесконтактные технологии...   \n",
       "1  [Бесконтактные технологии, Только с картами, С...   \n",
       "\n",
       "                                                 inf  \n",
       "0  [доступно, свободный, 30.09.2023, RUB, RUB, вы...  \n",
       "1  [доступно, 30.09.2023, безналичная оплата, Sbe...  "
      ]
     },
     "execution_count": 20,
     "metadata": {},
     "output_type": "execute_result"
    }
   ],
   "source": [
    "df"
   ]
  },
  {
   "cell_type": "code",
   "execution_count": null,
   "id": "cba7c864",
   "metadata": {},
   "outputs": [],
   "source": []
  }
 ],
 "metadata": {
  "kernelspec": {
   "display_name": "Python 3",
   "language": "python",
   "name": "python3"
  },
  "language_info": {
   "codemirror_mode": {
    "name": "ipython",
    "version": 3
   },
   "file_extension": ".py",
   "mimetype": "text/x-python",
   "name": "python",
   "nbconvert_exporter": "python",
   "pygments_lexer": "ipython3",
   "version": "3.8.8"
  }
 },
 "nbformat": 4,
 "nbformat_minor": 5
}
