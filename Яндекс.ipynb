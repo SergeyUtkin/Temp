{
 "cells": [
  {
   "cell_type": "code",
   "execution_count": 2,
   "id": "d2c37a8b",
   "metadata": {},
   "outputs": [],
   "source": [
    "from selenium import webdriver\n",
    "from selenium.webdriver.chrome.options import Options\n",
    "from selenium.webdriver.common.keys import Keys\n",
    "import pandas as pd\n",
    "import time\n",
    "import random\n",
    "import tqdm\n",
    "import pyautogui\n",
    "from bs4 import BeautifulSoup\n",
    "import requests\n",
    "from selenium.webdriver.common.by import By"
   ]
  },
  {
   "cell_type": "code",
   "execution_count": 3,
   "id": "a018dd5d",
   "metadata": {},
   "outputs": [],
   "source": [
    "headers = {'User-Agent': 'Mozilla/5.0 (Windows NT 10.0; Win64; x64) AppleWebKit/537.36 (KHTML, like Gecko) Chrome/114.0.0.0'}"
   ]
  },
  {
   "cell_type": "code",
   "execution_count": 4,
   "id": "9497d1bb",
   "metadata": {},
   "outputs": [],
   "source": [
    "url = 'https://yandex.ru/maps/?ll=44.628214%2C56.195699&mode=search&sll=44.628214%2C56.195699&sspn=3.576994%2C1.269095&text=%D0%BD%D0%B8%D0%B6%D0%B5%D0%B3%D0%BE%D1%80%D0%BE%D0%B4%D1%81%D0%BA%D0%B0%D1%8F%20%D0%BE%D0%B1%D0%BB%D0%B0%D1%81%D1%82%D1%8C%20%D1%81%D0%B1%D0%B5%D1%80%D0%B1%D0%B0%D0%BD%D0%BA%20%D0%B1%D0%B0%D0%BD%D0%BA%D0%BE%D0%BC%D0%B0%D1%82&z=8.2'\n",
    "l = 'https://yandex.ru'"
   ]
  },
  {
   "cell_type": "code",
   "execution_count": 5,
   "id": "af05d3b3",
   "metadata": {
    "scrolled": true
   },
   "outputs": [
    {
     "ename": "KeyboardInterrupt",
     "evalue": "",
     "output_type": "error",
     "traceback": [
      "\u001b[1;31m---------------------------------------------------------------------------\u001b[0m",
      "\u001b[1;31mKeyboardInterrupt\u001b[0m                         Traceback (most recent call last)",
      "Cell \u001b[1;32mIn[5], line 1\u001b[0m\n\u001b[1;32m----> 1\u001b[0m \u001b[38;5;28;01mwith\u001b[39;00m webdriver\u001b[38;5;241m.\u001b[39mChrome() \u001b[38;5;28;01mas\u001b[39;00m browser:\n\u001b[0;32m      2\u001b[0m     browser\u001b[38;5;241m.\u001b[39mget(url)\n\u001b[0;32m      3\u001b[0m     time\u001b[38;5;241m.\u001b[39msleep(\u001b[38;5;241m10\u001b[39m)\n",
      "File \u001b[1;32m~\\anaconda3\\Lib\\site-packages\\selenium\\webdriver\\chrome\\webdriver.py:45\u001b[0m, in \u001b[0;36mWebDriver.__init__\u001b[1;34m(self, options, service, keep_alive)\u001b[0m\n\u001b[0;32m     42\u001b[0m service \u001b[38;5;241m=\u001b[39m service \u001b[38;5;28;01mif\u001b[39;00m service \u001b[38;5;28;01melse\u001b[39;00m Service()\n\u001b[0;32m     43\u001b[0m options \u001b[38;5;241m=\u001b[39m options \u001b[38;5;28;01mif\u001b[39;00m options \u001b[38;5;28;01melse\u001b[39;00m Options()\n\u001b[1;32m---> 45\u001b[0m \u001b[38;5;28msuper\u001b[39m()\u001b[38;5;241m.\u001b[39m\u001b[38;5;21m__init__\u001b[39m(\n\u001b[0;32m     46\u001b[0m     browser_name\u001b[38;5;241m=\u001b[39mDesiredCapabilities\u001b[38;5;241m.\u001b[39mCHROME[\u001b[38;5;124m\"\u001b[39m\u001b[38;5;124mbrowserName\u001b[39m\u001b[38;5;124m\"\u001b[39m],\n\u001b[0;32m     47\u001b[0m     vendor_prefix\u001b[38;5;241m=\u001b[39m\u001b[38;5;124m\"\u001b[39m\u001b[38;5;124mgoog\u001b[39m\u001b[38;5;124m\"\u001b[39m,\n\u001b[0;32m     48\u001b[0m     options\u001b[38;5;241m=\u001b[39moptions,\n\u001b[0;32m     49\u001b[0m     service\u001b[38;5;241m=\u001b[39mservice,\n\u001b[0;32m     50\u001b[0m     keep_alive\u001b[38;5;241m=\u001b[39mkeep_alive,\n\u001b[0;32m     51\u001b[0m )\n",
      "File \u001b[1;32m~\\anaconda3\\Lib\\site-packages\\selenium\\webdriver\\chromium\\webdriver.py:49\u001b[0m, in \u001b[0;36mChromiumDriver.__init__\u001b[1;34m(self, browser_name, vendor_prefix, options, service, keep_alive)\u001b[0m\n\u001b[0;32m     37\u001b[0m \u001b[38;5;250m\u001b[39m\u001b[38;5;124;03m\"\"\"Creates a new WebDriver instance of the ChromiumDriver. Starts the\u001b[39;00m\n\u001b[0;32m     38\u001b[0m \u001b[38;5;124;03mservice and then creates new WebDriver instance of ChromiumDriver.\u001b[39;00m\n\u001b[0;32m     39\u001b[0m \n\u001b[1;32m   (...)\u001b[0m\n\u001b[0;32m     45\u001b[0m \u001b[38;5;124;03m - keep_alive - Whether to configure ChromiumRemoteConnection to use HTTP keep-alive.\u001b[39;00m\n\u001b[0;32m     46\u001b[0m \u001b[38;5;124;03m\"\"\"\u001b[39;00m\n\u001b[0;32m     47\u001b[0m \u001b[38;5;28mself\u001b[39m\u001b[38;5;241m.\u001b[39mservice \u001b[38;5;241m=\u001b[39m service\n\u001b[1;32m---> 49\u001b[0m \u001b[38;5;28mself\u001b[39m\u001b[38;5;241m.\u001b[39mservice\u001b[38;5;241m.\u001b[39mpath \u001b[38;5;241m=\u001b[39m DriverFinder\u001b[38;5;241m.\u001b[39mget_path(\u001b[38;5;28mself\u001b[39m\u001b[38;5;241m.\u001b[39mservice, options)\n\u001b[0;32m     50\u001b[0m \u001b[38;5;28mself\u001b[39m\u001b[38;5;241m.\u001b[39mservice\u001b[38;5;241m.\u001b[39mstart()\n\u001b[0;32m     52\u001b[0m executor \u001b[38;5;241m=\u001b[39m ChromiumRemoteConnection(\n\u001b[0;32m     53\u001b[0m     remote_server_addr\u001b[38;5;241m=\u001b[39m\u001b[38;5;28mself\u001b[39m\u001b[38;5;241m.\u001b[39mservice\u001b[38;5;241m.\u001b[39mservice_url,\n\u001b[0;32m     54\u001b[0m     browser_name\u001b[38;5;241m=\u001b[39mbrowser_name,\n\u001b[1;32m   (...)\u001b[0m\n\u001b[0;32m     57\u001b[0m     ignore_proxy\u001b[38;5;241m=\u001b[39moptions\u001b[38;5;241m.\u001b[39m_ignore_local_proxy,\n\u001b[0;32m     58\u001b[0m )\n",
      "File \u001b[1;32m~\\anaconda3\\Lib\\site-packages\\selenium\\webdriver\\common\\driver_finder.py:38\u001b[0m, in \u001b[0;36mDriverFinder.get_path\u001b[1;34m(service, options)\u001b[0m\n\u001b[0;32m     36\u001b[0m path \u001b[38;5;241m=\u001b[39m service\u001b[38;5;241m.\u001b[39mpath\n\u001b[0;32m     37\u001b[0m \u001b[38;5;28;01mtry\u001b[39;00m:\n\u001b[1;32m---> 38\u001b[0m     path \u001b[38;5;241m=\u001b[39m SeleniumManager()\u001b[38;5;241m.\u001b[39mdriver_location(options) \u001b[38;5;28;01mif\u001b[39;00m path \u001b[38;5;129;01mis\u001b[39;00m \u001b[38;5;28;01mNone\u001b[39;00m \u001b[38;5;28;01melse\u001b[39;00m path\n\u001b[0;32m     39\u001b[0m \u001b[38;5;28;01mexcept\u001b[39;00m \u001b[38;5;167;01mException\u001b[39;00m \u001b[38;5;28;01mas\u001b[39;00m err:\n\u001b[0;32m     40\u001b[0m     msg \u001b[38;5;241m=\u001b[39m \u001b[38;5;124mf\u001b[39m\u001b[38;5;124m\"\u001b[39m\u001b[38;5;124mUnable to obtain driver for \u001b[39m\u001b[38;5;132;01m{\u001b[39;00moptions\u001b[38;5;241m.\u001b[39mcapabilities[\u001b[38;5;124m'\u001b[39m\u001b[38;5;124mbrowserName\u001b[39m\u001b[38;5;124m'\u001b[39m]\u001b[38;5;132;01m}\u001b[39;00m\u001b[38;5;124m using Selenium Manager.\u001b[39m\u001b[38;5;124m\"\u001b[39m\n",
      "File \u001b[1;32m~\\anaconda3\\Lib\\site-packages\\selenium\\webdriver\\common\\selenium_manager.py:106\u001b[0m, in \u001b[0;36mSeleniumManager.driver_location\u001b[1;34m(self, options)\u001b[0m\n\u001b[0;32m    103\u001b[0m     value \u001b[38;5;241m=\u001b[39m proxy\u001b[38;5;241m.\u001b[39mssl_proxy \u001b[38;5;28;01mif\u001b[39;00m proxy\u001b[38;5;241m.\u001b[39mssl_proxy \u001b[38;5;28;01melse\u001b[39;00m proxy\u001b[38;5;241m.\u001b[39mhttp_proxy\n\u001b[0;32m    104\u001b[0m     args\u001b[38;5;241m.\u001b[39mappend(value)\n\u001b[1;32m--> 106\u001b[0m output \u001b[38;5;241m=\u001b[39m \u001b[38;5;28mself\u001b[39m\u001b[38;5;241m.\u001b[39mrun(args)\n\u001b[0;32m    108\u001b[0m browser_path \u001b[38;5;241m=\u001b[39m output[\u001b[38;5;124m\"\u001b[39m\u001b[38;5;124mbrowser_path\u001b[39m\u001b[38;5;124m\"\u001b[39m]\n\u001b[0;32m    109\u001b[0m driver_path \u001b[38;5;241m=\u001b[39m output[\u001b[38;5;124m\"\u001b[39m\u001b[38;5;124mdriver_path\u001b[39m\u001b[38;5;124m\"\u001b[39m]\n",
      "File \u001b[1;32m~\\anaconda3\\Lib\\site-packages\\selenium\\webdriver\\common\\selenium_manager.py:137\u001b[0m, in \u001b[0;36mSeleniumManager.run\u001b[1;34m(args)\u001b[0m\n\u001b[0;32m    135\u001b[0m \u001b[38;5;28;01mtry\u001b[39;00m:\n\u001b[0;32m    136\u001b[0m     \u001b[38;5;28;01mif\u001b[39;00m sys\u001b[38;5;241m.\u001b[39mplatform \u001b[38;5;241m==\u001b[39m \u001b[38;5;124m\"\u001b[39m\u001b[38;5;124mwin32\u001b[39m\u001b[38;5;124m\"\u001b[39m:\n\u001b[1;32m--> 137\u001b[0m         completed_proc \u001b[38;5;241m=\u001b[39m subprocess\u001b[38;5;241m.\u001b[39mrun(args, capture_output\u001b[38;5;241m=\u001b[39m\u001b[38;5;28;01mTrue\u001b[39;00m, creationflags\u001b[38;5;241m=\u001b[39msubprocess\u001b[38;5;241m.\u001b[39mCREATE_NO_WINDOW)\n\u001b[0;32m    138\u001b[0m     \u001b[38;5;28;01melse\u001b[39;00m:\n\u001b[0;32m    139\u001b[0m         completed_proc \u001b[38;5;241m=\u001b[39m subprocess\u001b[38;5;241m.\u001b[39mrun(args, capture_output\u001b[38;5;241m=\u001b[39m\u001b[38;5;28;01mTrue\u001b[39;00m)\n",
      "File \u001b[1;32m~\\anaconda3\\Lib\\subprocess.py:550\u001b[0m, in \u001b[0;36mrun\u001b[1;34m(input, capture_output, timeout, check, *popenargs, **kwargs)\u001b[0m\n\u001b[0;32m    548\u001b[0m \u001b[38;5;28;01mwith\u001b[39;00m Popen(\u001b[38;5;241m*\u001b[39mpopenargs, \u001b[38;5;241m*\u001b[39m\u001b[38;5;241m*\u001b[39mkwargs) \u001b[38;5;28;01mas\u001b[39;00m process:\n\u001b[0;32m    549\u001b[0m     \u001b[38;5;28;01mtry\u001b[39;00m:\n\u001b[1;32m--> 550\u001b[0m         stdout, stderr \u001b[38;5;241m=\u001b[39m process\u001b[38;5;241m.\u001b[39mcommunicate(\u001b[38;5;28minput\u001b[39m, timeout\u001b[38;5;241m=\u001b[39mtimeout)\n\u001b[0;32m    551\u001b[0m     \u001b[38;5;28;01mexcept\u001b[39;00m TimeoutExpired \u001b[38;5;28;01mas\u001b[39;00m exc:\n\u001b[0;32m    552\u001b[0m         process\u001b[38;5;241m.\u001b[39mkill()\n",
      "File \u001b[1;32m~\\anaconda3\\Lib\\subprocess.py:1209\u001b[0m, in \u001b[0;36mPopen.communicate\u001b[1;34m(self, input, timeout)\u001b[0m\n\u001b[0;32m   1206\u001b[0m     endtime \u001b[38;5;241m=\u001b[39m \u001b[38;5;28;01mNone\u001b[39;00m\n\u001b[0;32m   1208\u001b[0m \u001b[38;5;28;01mtry\u001b[39;00m:\n\u001b[1;32m-> 1209\u001b[0m     stdout, stderr \u001b[38;5;241m=\u001b[39m \u001b[38;5;28mself\u001b[39m\u001b[38;5;241m.\u001b[39m_communicate(\u001b[38;5;28minput\u001b[39m, endtime, timeout)\n\u001b[0;32m   1210\u001b[0m \u001b[38;5;28;01mexcept\u001b[39;00m \u001b[38;5;167;01mKeyboardInterrupt\u001b[39;00m:\n\u001b[0;32m   1211\u001b[0m     \u001b[38;5;66;03m# https://bugs.python.org/issue25942\u001b[39;00m\n\u001b[0;32m   1212\u001b[0m     \u001b[38;5;66;03m# See the detailed comment in .wait().\u001b[39;00m\n\u001b[0;32m   1213\u001b[0m     \u001b[38;5;28;01mif\u001b[39;00m timeout \u001b[38;5;129;01mis\u001b[39;00m \u001b[38;5;129;01mnot\u001b[39;00m \u001b[38;5;28;01mNone\u001b[39;00m:\n",
      "File \u001b[1;32m~\\anaconda3\\Lib\\subprocess.py:1626\u001b[0m, in \u001b[0;36mPopen._communicate\u001b[1;34m(self, input, endtime, orig_timeout)\u001b[0m\n\u001b[0;32m   1622\u001b[0m \u001b[38;5;66;03m# Wait for the reader threads, or time out.  If we time out, the\u001b[39;00m\n\u001b[0;32m   1623\u001b[0m \u001b[38;5;66;03m# threads remain reading and the fds left open in case the user\u001b[39;00m\n\u001b[0;32m   1624\u001b[0m \u001b[38;5;66;03m# calls communicate again.\u001b[39;00m\n\u001b[0;32m   1625\u001b[0m \u001b[38;5;28;01mif\u001b[39;00m \u001b[38;5;28mself\u001b[39m\u001b[38;5;241m.\u001b[39mstdout \u001b[38;5;129;01mis\u001b[39;00m \u001b[38;5;129;01mnot\u001b[39;00m \u001b[38;5;28;01mNone\u001b[39;00m:\n\u001b[1;32m-> 1626\u001b[0m     \u001b[38;5;28mself\u001b[39m\u001b[38;5;241m.\u001b[39mstdout_thread\u001b[38;5;241m.\u001b[39mjoin(\u001b[38;5;28mself\u001b[39m\u001b[38;5;241m.\u001b[39m_remaining_time(endtime))\n\u001b[0;32m   1627\u001b[0m     \u001b[38;5;28;01mif\u001b[39;00m \u001b[38;5;28mself\u001b[39m\u001b[38;5;241m.\u001b[39mstdout_thread\u001b[38;5;241m.\u001b[39mis_alive():\n\u001b[0;32m   1628\u001b[0m         \u001b[38;5;28;01mraise\u001b[39;00m TimeoutExpired(\u001b[38;5;28mself\u001b[39m\u001b[38;5;241m.\u001b[39margs, orig_timeout)\n",
      "File \u001b[1;32m~\\anaconda3\\Lib\\threading.py:1112\u001b[0m, in \u001b[0;36mThread.join\u001b[1;34m(self, timeout)\u001b[0m\n\u001b[0;32m   1109\u001b[0m     \u001b[38;5;28;01mraise\u001b[39;00m \u001b[38;5;167;01mRuntimeError\u001b[39;00m(\u001b[38;5;124m\"\u001b[39m\u001b[38;5;124mcannot join current thread\u001b[39m\u001b[38;5;124m\"\u001b[39m)\n\u001b[0;32m   1111\u001b[0m \u001b[38;5;28;01mif\u001b[39;00m timeout \u001b[38;5;129;01mis\u001b[39;00m \u001b[38;5;28;01mNone\u001b[39;00m:\n\u001b[1;32m-> 1112\u001b[0m     \u001b[38;5;28mself\u001b[39m\u001b[38;5;241m.\u001b[39m_wait_for_tstate_lock()\n\u001b[0;32m   1113\u001b[0m \u001b[38;5;28;01melse\u001b[39;00m:\n\u001b[0;32m   1114\u001b[0m     \u001b[38;5;66;03m# the behavior of a negative timeout isn't documented, but\u001b[39;00m\n\u001b[0;32m   1115\u001b[0m     \u001b[38;5;66;03m# historically .join(timeout=x) for x<0 has acted as if timeout=0\u001b[39;00m\n\u001b[0;32m   1116\u001b[0m     \u001b[38;5;28mself\u001b[39m\u001b[38;5;241m.\u001b[39m_wait_for_tstate_lock(timeout\u001b[38;5;241m=\u001b[39m\u001b[38;5;28mmax\u001b[39m(timeout, \u001b[38;5;241m0\u001b[39m))\n",
      "File \u001b[1;32m~\\anaconda3\\Lib\\threading.py:1132\u001b[0m, in \u001b[0;36mThread._wait_for_tstate_lock\u001b[1;34m(self, block, timeout)\u001b[0m\n\u001b[0;32m   1129\u001b[0m     \u001b[38;5;28;01mreturn\u001b[39;00m\n\u001b[0;32m   1131\u001b[0m \u001b[38;5;28;01mtry\u001b[39;00m:\n\u001b[1;32m-> 1132\u001b[0m     \u001b[38;5;28;01mif\u001b[39;00m lock\u001b[38;5;241m.\u001b[39macquire(block, timeout):\n\u001b[0;32m   1133\u001b[0m         lock\u001b[38;5;241m.\u001b[39mrelease()\n\u001b[0;32m   1134\u001b[0m         \u001b[38;5;28mself\u001b[39m\u001b[38;5;241m.\u001b[39m_stop()\n",
      "\u001b[1;31mKeyboardInterrupt\u001b[0m: "
     ]
    }
   ],
   "source": [
    "with webdriver.Chrome() as browser:\n",
    "    browser.get(url)\n",
    "    time.sleep(10)\n",
    "    \n",
    "    x_coord = 291\n",
    "    y_coord = 508\n",
    "    \n",
    "    pyautogui.moveTo(x_coord, y_coord)\n",
    "    time.sleep(2)\n",
    "    num_scrolls = 20\n",
    "    # Расстояние для каждой прокрутки (в пикселях)\n",
    "    scroll_distance = -500000\n",
    "    for _ in range(num_scrolls):\n",
    "        # Прокручиваем страницу вниз на фиксированное расстояние\n",
    "        pyautogui.scroll(scroll_distance)\n",
    "        # Дополнительная пауза между прокрутками (опционально)\n",
    "        time.sleep(1)\n",
    "    soup = BeautifulSoup(browser.page_source, 'html.parser')"
   ]
  },
  {
   "cell_type": "code",
   "execution_count": 57,
   "id": "dbc33a5a",
   "metadata": {},
   "outputs": [],
   "source": [
    "browser = webdriver.Chrome()"
   ]
  },
  {
   "cell_type": "code",
   "execution_count": 58,
   "id": "9cb9fa61",
   "metadata": {},
   "outputs": [],
   "source": [
    "url = 'https://yandex.ru/maps/?ll=44.628214%2C56.195699&mode=search&sll=44.628214%2C56.195699&sspn=3.576994%2C1.269095&text=%D0%BD%D0%B8%D0%B6%D0%B5%D0%B3%D0%BE%D1%80%D0%BE%D0%B4%D1%81%D0%BA%D0%B0%D1%8F%20%D0%BE%D0%B1%D0%BB%D0%B0%D1%81%D1%82%D1%8C%20%D1%81%D0%B1%D0%B5%D1%80%D0%B1%D0%B0%D0%BD%D0%BA%20%D0%B1%D0%B0%D0%BD%D0%BA%D0%BE%D0%BC%D0%B0%D1%82&z=8.2'\n",
    "browser.get(url)"
   ]
  },
  {
   "cell_type": "code",
   "execution_count": 6,
   "id": "7753d9c7",
   "metadata": {},
   "outputs": [],
   "source": [
    "links_ = soup.find_all('a', class_='search-snippet-view__link-overlay _focusable')\n",
    "links = [link['href'] for link in links_]"
   ]
  },
  {
   "cell_type": "code",
   "execution_count": 77,
   "id": "e43574a8",
   "metadata": {},
   "outputs": [],
   "source": [
    "h = ''\n",
    "while h != elem[-1]:\n",
    "    h = elem[-1]\n",
    "    elem = browser.find_elements(By.CLASS_NAME,'search-business-snippet-view')\n",
    "    browser.execute_script(\"arguments[0].scrollIntoView(true);\",elem[-1])\n",
    "    time.sleep(2)"
   ]
  },
  {
   "cell_type": "code",
   "execution_count": 80,
   "id": "9afcfc62",
   "metadata": {},
   "outputs": [],
   "source": [
    "ee = [elem[i].find_element(By.XPATH,'//a[@class=\"search-snippet-view__link-overlay _focusable\"]') for i in range(len(elem))]"
   ]
  },
  {
   "cell_type": "code",
   "execution_count": 84,
   "id": "a63deaa9",
   "metadata": {},
   "outputs": [],
   "source": [
    "Links = [ee[i].get_attribute('href') for i in range(len(ee))]"
   ]
  },
  {
   "cell_type": "code",
   "execution_count": 78,
   "id": "699f323b",
   "metadata": {},
   "outputs": [],
   "source": [
    "for i in range(len(elem)):\n",
    "    ee.append(elem[i].find_element)"
   ]
  },
  {
   "cell_type": "code",
   "execution_count": 83,
   "id": "a1961baa",
   "metadata": {},
   "outputs": [],
   "source": [
    "ee = browser.find_elements(By.XPATH,'//a[@class=\"search-snippet-view__link-overlay _focusable\"]')"
   ]
  },
  {
   "cell_type": "code",
   "execution_count": 75,
   "id": "b114192f",
   "metadata": {},
   "outputs": [],
   "source": [
    "inp = browser.find_element(By.XPATH,'/html/body/div[1]/div[2]/div[3]/header/div/div/div/form/div[2]/div/span/span/input')"
   ]
  },
  {
   "cell_type": "code",
   "execution_count": 62,
   "id": "754fa967",
   "metadata": {},
   "outputs": [],
   "source": [
    "inp.clear()\n",
    "inp.send_keys(\"Калининградская область банкоматы Сбербанк\")"
   ]
  },
  {
   "cell_type": "code",
   "execution_count": 76,
   "id": "91c25284",
   "metadata": {},
   "outputs": [],
   "source": [
    "inp.send_keys(Keys.CONTROL + \"a\")\n",
    "inp.send_keys(Keys.DELETE)\n",
    "inp.send_keys(\"Калининградская область банкоматы Сбербанк\")\n",
    "time.sleep(1.5)\n",
    "inp.send_keys(Keys.ENTER)"
   ]
  },
  {
   "cell_type": "code",
   "execution_count": 87,
   "id": "a1495218",
   "metadata": {},
   "outputs": [
    {
     "data": {
      "text/plain": [
       "'https://yandex.ru/maps/org/sberbank/33983642468/'"
      ]
     },
     "execution_count": 87,
     "metadata": {},
     "output_type": "execute_result"
    }
   ],
   "source": [
    "Links[0]"
   ]
  },
  {
   "cell_type": "code",
   "execution_count": null,
   "id": "42c861d4",
   "metadata": {},
   "outputs": [],
   "source": [
    "browser = webdriver.Chrome()\n",
    "url = 'https://yandex.ru/maps/?ll=44.628214%2C56.195699&mode=search&sll=44.628214%2C56.195699&sspn=3.576994%2C1.269095&text=%D0%BD%D0%B8%D0%B6%D0%B5%D0%B3%D0%BE%D1%80%D0%BE%D0%B4%D1%81%D0%BA%D0%B0%D1%8F%20%D0%BE%D0%B1%D0%BB%D0%B0%D1%81%D1%82%D1%8C%20%D1%81%D0%B1%D0%B5%D1%80%D0%B1%D0%B0%D0%BD%D0%BA%20%D0%B1%D0%B0%D0%BD%D0%BA%D0%BE%D0%BC%D0%B0%D1%82&z=8.2'\n",
    "browser.get(url)"
   ]
  },
  {
   "cell_type": "code",
   "execution_count": null,
   "id": "45ab6fa0",
   "metadata": {},
   "outputs": [],
   "source": [
    "inp = browser.find_element(By.XPATH,'/html/body/div[1]/div[2]/div[3]/header/div/div/div/form/div[2]/div/span/span/input')"
   ]
  },
  {
   "cell_type": "code",
   "execution_count": null,
   "id": "42b1c473",
   "metadata": {},
   "outputs": [],
   "source": [
    "inp.send_keys(Keys.CONTROL + \"a\")\n",
    "inp.send_keys(Keys.DELETE)\n",
    "inp.send_keys(\"Калининградская область банкоматы Сбербанк\")\n",
    "time.sleep(1.5)\n",
    "inp.send_keys(Keys.ENTER)\n",
    "time.sleep(5)"
   ]
  },
  {
   "cell_type": "code",
   "execution_count": null,
   "id": "b4bb7e37",
   "metadata": {},
   "outputs": [],
   "source": [
    "h = ''\n",
    "while h != elem[-1]:\n",
    "    h = elem[-1]\n",
    "    elem = browser.find_elements(By.CLASS_NAME,'search-business-snippet-view')\n",
    "    browser.execute_script(\"arguments[0].scrollIntoView(true);\",elem[-1])\n",
    "    time.sleep(2)"
   ]
  },
  {
   "cell_type": "code",
   "execution_count": null,
   "id": "d0fd5737",
   "metadata": {},
   "outputs": [],
   "source": [
    "ee = browser.find_elements(By.XPATH,'//a[@class=\"search-snippet-view__link-overlay _focusable\"]')\n",
    "Links = [ee[i].get_attribute('href') for i in range(len(ee))]"
   ]
  },
  {
   "cell_type": "code",
   "execution_count": 208,
   "id": "5701d2b2",
   "metadata": {},
   "outputs": [],
   "source": [
    "df = pd.DataFrame(columns = ['adr','work','ost','otz','osob','inf'])"
   ]
  },
  {
   "cell_type": "code",
   "execution_count": 210,
   "id": "bcb58cb9",
   "metadata": {},
   "outputs": [],
   "source": [
    "for j in range(len(Links)):\n",
    "    browser.get(Links[0])\n",
    "    time.sleep(5)\n",
    "    browser.find_elements(By.CLASS_NAME,'business-working-status-view')[0].click()\n",
    "    time.sleep(2)\n",
    "    work = ''\n",
    "    el_d = browser.find_elements(By.CLASS_NAME,'business-working-intervals-view__day')\n",
    "    el_t = browser.find_elements(By.CLASS_NAME,'business-working-intervals-view__interval')\n",
    "    for i in range(len(el_d)):\n",
    "        work = work + el_d[i].text + ' : '\n",
    "        work = work + el_t[i].text + '/n'\n",
    "    browser.find_elements(By.CLASS_NAME,'close-button')[0].click()\n",
    "    time.sleep(1)\n",
    "    \n",
    "    adr = browser.find_element(By.XPATH,'/html/body/div[1]/div[2]/div[8]/div[1]/div[1]/div[1]/div/div[1]/div/div[3]/div/div[14]/div/div/div[3]/div/div/div[1]/div[6]/div[2]/div[2]/div[1]/div/div[2]/div/div[1]/a')\n",
    "    adr = adr.text\n",
    "    \n",
    "    ost = browser.find_element(By.CLASS_NAME,'masstransit-stops-view__stop-name')\n",
    "    metrs = browser.find_element(By.CLASS_NAME,'masstransit-stops-view__stop-distance')\n",
    "    ost = ost.text+'  '+metrs.text\n",
    "    \n",
    "    features = browser.find_elements(By.CLASS_NAME,'business-features-view__bool-text')\n",
    "    \n",
    "    vkl = browser.find_elements(By.CLASS_NAME,'tabs-select-view__title')\n",
    "    \n",
    "    vkl[2].click()\n",
    "    time.sleep(5)\n",
    "    \n",
    "    o = browser.find_elements(By.CLASS_NAME,'business-review-view__body-text')\n",
    "    otz = []\n",
    "    for i in range(len(o)):\n",
    "        otz.append(o[i].text)\n",
    "    \n",
    "    vkl[4].click()\n",
    "    time.sleep(5)\n",
    "    \n",
    "    o = browser.find_elements(By.CLASS_NAME,'business-features-view__bool-text')\n",
    "    osob = []\n",
    "    for i in range(len(o)):\n",
    "        osob.append(o[i].text)\n",
    "        \n",
    "    time.sleep(3)\n",
    "    \n",
    "    o = browser.find_elements(By.CLASS_NAME,'business-features-view__valued-value')\n",
    "    oper = []\n",
    "    for i in range(len(o)):\n",
    "        oper.append(o[i].text)\n",
    "    df = df.append({'adr':adr,'work':work,'ost':ost,'otz':otz,'osob':osob,'inf':oper},ignore_index=True)\n",
    "    break"
   ]
  },
  {
   "cell_type": "code",
   "execution_count": 216,
   "id": "4ed0b91b",
   "metadata": {},
   "outputs": [
    {
     "name": "stdout",
     "output_type": "stream",
     "text": [
      "Понедельник : 08:00 – 22:00/nВторник : 08:00 – 22:00/nСреда : 08:00 – 22:00/nЧетверг : 08:00 – 22:00/nПятница : 08:00 – 22:00/nСуббота : 08:00 – 22:00/nВоскресенье : 08:00 – 22:00/n\n"
     ]
    }
   ],
   "source": []
  },
  {
   "cell_type": "code",
   "execution_count": 185,
   "id": "1e167f69",
   "metadata": {},
   "outputs": [],
   "source": [
    "browser.find_elements(By.CLASS_NAME,'business-working-status-view')[0].click()"
   ]
  },
  {
   "cell_type": "code",
   "execution_count": 186,
   "id": "97aeb2c8",
   "metadata": {},
   "outputs": [
    {
     "name": "stdout",
     "output_type": "stream",
     "text": [
      "Понедельник\n",
      "08:00 – 22:00\n",
      "Вторник\n",
      "08:00 – 22:00\n",
      "Среда\n",
      "08:00 – 22:00\n",
      "Четверг\n",
      "08:00 – 22:00\n",
      "Пятница\n",
      "08:00 – 22:00\n",
      "Суббота\n",
      "08:00 – 22:00\n",
      "Воскресенье\n",
      "08:00 – 22:00\n"
     ]
    }
   ],
   "source": [
    "work = ''\n",
    "el_d = browser.find_elements(By.CLASS_NAME,'business-working-intervals-view__day')\n",
    "el_t = browser.find_elements(By.CLASS_NAME,'business-working-intervals-view__interval')\n",
    "for i in range(len(el_d)):\n",
    "    print(el_d[i].text)\n",
    "    print(el_t[i].text)"
   ]
  },
  {
   "cell_type": "code",
   "execution_count": 188,
   "id": "d552e6c7",
   "metadata": {},
   "outputs": [],
   "source": [
    "browser.find_elements(By.CLASS_NAME,'close-button')[0].click()"
   ]
  },
  {
   "cell_type": "code",
   "execution_count": 189,
   "id": "fb481d32",
   "metadata": {},
   "outputs": [
    {
     "data": {
      "text/plain": [
       "'Калининградская ул., 15А, посёлок Чернышевское'"
      ]
     },
     "execution_count": 189,
     "metadata": {},
     "output_type": "execute_result"
    }
   ],
   "source": [
    "adr = browser.find_element(By.XPATH,'/html/body/div[1]/div[2]/div[8]/div[1]/div[1]/div[1]/div/div[1]/div/div[3]/div/div[14]/div/div/div[3]/div/div/div[1]/div[6]/div[2]/div[2]/div[1]/div/div[2]/div/div[1]/a')\n",
    "adr.text"
   ]
  },
  {
   "cell_type": "code",
   "execution_count": 190,
   "id": "7a5840b3",
   "metadata": {},
   "outputs": [],
   "source": [
    "ost = browser.find_element(By.CLASS_NAME,'masstransit-stops-view__stop-name')\n",
    "metrs = browser.find_element(By.CLASS_NAME,'masstransit-stops-view__stop-distance')"
   ]
  },
  {
   "cell_type": "code",
   "execution_count": 191,
   "id": "5544c06f",
   "metadata": {},
   "outputs": [
    {
     "name": "stdout",
     "output_type": "stream",
     "text": [
      "Чернышевское    340 м\n"
     ]
    }
   ],
   "source": [
    "print(ost.text,'  ',metrs.text)"
   ]
  },
  {
   "cell_type": "code",
   "execution_count": 192,
   "id": "d758ec8a",
   "metadata": {},
   "outputs": [],
   "source": [
    "feat = browser.find_elements(By.CLASS_NAME,'business-features-view__bool-icon')"
   ]
  },
  {
   "cell_type": "code",
   "execution_count": 193,
   "id": "3562e02e",
   "metadata": {},
   "outputs": [],
   "source": [
    "features = browser.find_elements(By.CLASS_NAME,'business-features-view__bool-text')"
   ]
  },
  {
   "cell_type": "code",
   "execution_count": 194,
   "id": "562244e2",
   "metadata": {},
   "outputs": [
    {
     "name": "stdout",
     "output_type": "stream",
     "text": [
      "Внесение наличных\n",
      "Сервис оплаты услуг\n",
      "В режиме работы места установки\n",
      "Бесконтактные технологии\n",
      "QR-коды (штрих-коды)\n",
      "Прием платежей\n"
     ]
    }
   ],
   "source": [
    "for i in range(len(features)):\n",
    "    \n",
    "    print(features[i].text)"
   ]
  },
  {
   "cell_type": "code",
   "execution_count": 132,
   "id": "565fa041",
   "metadata": {},
   "outputs": [],
   "source": [
    "browser.get('https://yandex.ru/maps/org/sberbank/1057537740/?display-text=%D0%A1%D0%B1%D0%B5%D1%80%D0%B1%D0%B0%D0%BD%D0%BA%2C%20%D0%B1%D0%B0%D0%BD%D0%BA%D0%BE%D0%BC%D0%B0%D1%82%D1%8B&ll=43.921240%2C56.292896&mode=search&sctx=ZAAAAAgBEAAaKAoSCY1iuaXVAEZAEcmutIzUKUxAEhIJJ58e2zLg4T8Rf%2FlkxXB1zj8iBgABAgMEBSgAOABA0IkGSAFiIm1pZGRsZV9wb3N0ZmlsdGVyX3RocmVzaGNoYWluPTAuNDViIG1pZGRsZV9wb3N0ZmlsdGVyX3RocmVzaF9rej0wLjQ1Yh1taWRkbGVfcG9zdGZpbHRlcl90aHJlc2g9MC40NWIucmVsZXZfcmFua2luZ19tc2VfZm9ybXVsYT0xLjA6bXNlX2RjMzg3Nzg0X2V4cGIpcmVsZXZfaXJyZWxfZmlsdGVyPTEuMDppcnJlbF9kYzM4MTUyNV9leHBiUXJlYXJyPXNjaGVtZV9Mb2NhbC9HZW8vQnVzR2VvQ2hvb3NlL1Rha2VSdWJyaWNGaXJzdFNhbWVCeVJlc3VsdHNNc2VUaHJlc2hvbGQ9MC40NWI0cmVhcnI9c2NoZW1lX0xvY2FsL0dlby9Qb3N0ZmlsdGVyL0lycmVsVGhyZXNob2xkPTAuMmoCcnWdAc3MTD2gAQCoAQC9AdxxF2TCAWyDp6fH5wKSutvbxAKFnrf0A6Dd76wE5fPB8gP7q4PBBJT2h5T1Bebpg%2FjiAfeOhbwEvP66xgTjkOTs3gOG1qeLBJiGm5IE4fme8QW4x9%2F5pQWLl9jyA%2B6umJAE5pqp%2FaIFmJDr9uQBq7OiggWCAhJjaGFpbl9pZDooNjAwMzYxMSmKAgCSAgCaAgp0b3VjaC1tYXBz&sll=43.937510%2C56.329462&sspn=0.241699%2C0.191859&text=chain_id%3A%286003611%29&z=14')"
   ]
  },
  {
   "cell_type": "code",
   "execution_count": 195,
   "id": "4a1074be",
   "metadata": {},
   "outputs": [],
   "source": [
    "otz = browser.find_elements(By.CLASS_NAME,'tabs-select-view__title')"
   ]
  },
  {
   "cell_type": "code",
   "execution_count": 196,
   "id": "9c9fe78c",
   "metadata": {},
   "outputs": [],
   "source": [
    "otz[2].click()"
   ]
  },
  {
   "cell_type": "code",
   "execution_count": 199,
   "id": "dd859079",
   "metadata": {},
   "outputs": [],
   "source": [
    "o = browser.find_elements(By.CLASS_NAME,'business-review-view__body-text')\n",
    "for i in range(len(o)):\n",
    "    print(o[i].text)"
   ]
  },
  {
   "cell_type": "code",
   "execution_count": 200,
   "id": "68723e3a",
   "metadata": {},
   "outputs": [],
   "source": [
    "otz[4].click()"
   ]
  },
  {
   "cell_type": "code",
   "execution_count": 203,
   "id": "3ba0dfd2",
   "metadata": {},
   "outputs": [],
   "source": [
    "osob = browser.find_elements(By.CLASS_NAME,'business-features-view__bool-text')"
   ]
  },
  {
   "cell_type": "code",
   "execution_count": 204,
   "id": "bc4cd691",
   "metadata": {},
   "outputs": [
    {
     "name": "stdout",
     "output_type": "stream",
     "text": [
      "\n",
      "\n",
      "\n",
      "\n",
      "\n",
      "\n",
      "Внесение наличных\n",
      "Сервис оплаты услуг\n",
      "В режиме работы места установки\n",
      "Прием платежей\n",
      "Бесконтактные технологии\n",
      "QR-коды (штрих-коды)\n"
     ]
    }
   ],
   "source": [
    "for i in range(len(osob)):\n",
    "    print(osob[i].text)"
   ]
  },
  {
   "cell_type": "code",
   "execution_count": 205,
   "id": "e119de04",
   "metadata": {},
   "outputs": [],
   "source": [
    "oper = browser.find_elements(By.CLASS_NAME,'business-features-view__valued-value')"
   ]
  },
  {
   "cell_type": "code",
   "execution_count": 207,
   "id": "ba6ac3d0",
   "metadata": {},
   "outputs": [
    {
     "name": "stdout",
     "output_type": "stream",
     "text": [
      "\n",
      "\n",
      "\n",
      "\n",
      "ограничен\n",
      "30.09.2023\n",
      "RUB\n",
      "RUB\n",
      "выдача наличных, приём наличных для оплаты, приём наличных не для оплаты, безналичная оплата\n",
      "Sberbank of Russia, Sberbank\n",
      "Публичное акционерное общество \"Сбербанк России\"\n",
      "ПАО Сбербанк\n",
      "7707083893\n",
      "1027700132195\n"
     ]
    }
   ],
   "source": [
    "for i in range(len(oper)):\n",
    "    print(oper[i].text)"
   ]
  },
  {
   "cell_type": "code",
   "execution_count": null,
   "id": "a5247816",
   "metadata": {},
   "outputs": [],
   "source": []
  }
 ],
 "metadata": {
  "kernelspec": {
   "display_name": "Python 3 (ipykernel)",
   "language": "python",
   "name": "python3"
  },
  "language_info": {
   "codemirror_mode": {
    "name": "ipython",
    "version": 3
   },
   "file_extension": ".py",
   "mimetype": "text/x-python",
   "name": "python",
   "nbconvert_exporter": "python",
   "pygments_lexer": "ipython3",
   "version": "3.11.5"
  }
 },
 "nbformat": 4,
 "nbformat_minor": 5
}
