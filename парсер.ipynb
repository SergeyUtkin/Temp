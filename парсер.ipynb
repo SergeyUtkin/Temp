{
 "cells": [
  {
   "cell_type": "code",
   "execution_count": null,
   "metadata": {},
   "outputs": [],
   "source": [
    "import requests\n",
    "import pandas as pd\n",
    "from math import radians, sin, cos, sqrt, atan2\n",
    "\n",
    "def calculate_distance(lat1, lon1, lat2, lon2):\n",
    "    # Convert degrees to radians\n",
    "    lat1, lon1, lat2, lon2 = map(radians, [lat1, lon1, lat2, lon2])\n",
    "\n",
    "    # Haversine formula\n",
    "    dlon = lon2 - lon1\n",
    "    dlat = lat2 - lat1\n",
    "    a = sin(dlat / 2) ** 2 + cos(lat1) * cos(lat2) * sin(dlon / 2) ** 2\n",
    "    c = 2 * atan2(sqrt(a), sqrt(1 - a))\n",
    "    distance = 6371 * c  # Radius of Earth in kilometers\n",
    "\n",
    "    return distance\n",
    "\n",
    "def get_atms(api_key, latitude, longitude, radius):\n",
    "    url = \"https://search-maps.yandex.ru/v1/\"\n",
    "    params = {\n",
    "        \"text\": \"банкомат Сбербанка\",\n",
    "        \"ll\": f\"{longitude},{latitude}\",\n",
    "        \"spn\": f\"{radius / 111.32},{radius / (111.32 * cos(radians(latitude)))}\",  # Convert 1 km to degrees\n",
    "        \"type\": \"biz\",\n",
    "        \"apikey\": api_key,\n",
    "        \"lang\": \"ru_RU\",\n",
    "        \"results\": 1000  # Increase the number of results\n",
    "    }\n",
    "\n",
    "    response = requests.get(url, params=params)\n",
    "    print(\"Response status code:\", response.status_code)\n",
    "    data = response.json()\n",
    "    print(\"Response data:\", data)\n",
    "\n",
    "    atms = []\n",
    "    if \"features\" in data:\n",
    "        for feature in data[\"features\"]:\n",
    "            name = feature[\"properties\"][\"name\"]\n",
    "            address = feature[\"properties\"][\"CompanyMetaData\"][\"address\"]\n",
    "            hours = feature[\"properties\"][\"CompanyMetaData\"].get(\"Hours\", \"Unknown\")\n",
    "            atm_lat = feature[\"geometry\"][\"coordinates\"][1]\n",
    "            atm_lon = feature[\"geometry\"][\"coordinates\"][0]\n",
    "            distance = calculate_distance(latitude, longitude, atm_lat, atm_lon)\n",
    "            if distance <= radius / 1000:  # Convert radius from meters to kilometers\n",
    "                atms.append({\"name\": name, \"address\": address, \"hours\": hours})\n",
    "    \n",
    "    return atms\n",
    "\n",
    "api_key = \"5cccf681-14f9-4917-b12c-94f3642ee9c6\"\n",
    "\n",
    "latitude = 56.307227\n",
    "longitude = 43.996895\n",
    "radius = 10000  # in meters\n",
    "\n",
    "# Getting information about ATMs\n",
    "atms = get_atms(api_key, latitude, longitude, radius)\n",
    "if atms:\n",
    "    df = pd.DataFrame(atms)\n",
    "    print(df)\n",
    "    df.to_excel('банкоматы3.xlsx', index=False)\n",
    "    print(\"Data successfully saved\")\n",
    "else:\n",
    "    print(\"No ATMs found in the specified radius.\")\n"
   ]
  },
  {
   "cell_type": "code",
   "execution_count": null,
   "metadata": {},
   "outputs": [],
   "source": [
    "url = \"https://search-maps.yandex.ru/v1/\"\n",
    "params = {\n",
    "    \"text\": \"банкомат Сбербанка\",\n",
    "    \"ll\": f\"{longitude},{latitude}\",\n",
    "    \"spn\": f\"{radius / 111.32},{radius / (111.32 * cos(radians(latitude)))}\",  # Convert 1 km to degrees\n",
    "    \"type\": \"biz\",\n",
    "    \"apikey\": api_key,\n",
    "    \"lang\": \"ru_RU\",\n",
    "    \"results\": 1000  # Increase the number of results\n",
    "}\n",
    "response = requests.get(url, params=params)"
   ]
  },
  {
   "cell_type": "code",
   "execution_count": null,
   "metadata": {},
   "outputs": [],
   "source": [
    "response = requests.get(url, params=params)"
   ]
  },
  {
   "cell_type": "code",
   "execution_count": null,
   "metadata": {},
   "outputs": [],
   "source": []
  }
 ],
 "metadata": {
  "kernelspec": {
   "display_name": "Python 3",
   "language": "python",
   "name": "python3"
  },
  "language_info": {
   "codemirror_mode": {
    "name": "ipython",
    "version": 3
   },
   "file_extension": ".py",
   "mimetype": "text/x-python",
   "name": "python",
   "nbconvert_exporter": "python",
   "pygments_lexer": "ipython3",
   "version": "3.7.6"
  }
 },
 "nbformat": 4,
 "nbformat_minor": 5
}
