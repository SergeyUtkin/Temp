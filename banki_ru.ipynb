{
 "cells": [
  {
   "cell_type": "code",
   "execution_count": null,
   "metadata": {},
   "outputs": [],
   "source": [
    "import requests\n",
    "from bs4 import BeautifulSoup as bs\n",
    "import pandas as pd\n",
    "from requests.exceptions import ConnectionError\n",
    "import time\n",
    "import re"
   ]
  },
  {
   "cell_type": "code",
   "execution_count": null,
   "metadata": {},
   "outputs": [],
   "source": [
    "import warnings\n",
    "warnings.filterwarnings('ignore')"
   ]
  },
  {
   "cell_type": "code",
   "execution_count": null,
   "metadata": {
    "scrolled": false
   },
   "outputs": [],
   "source": [
    "# =========================================== \n",
    "# BANKI.RU\n",
    "# =========================================== \n",
    "\n",
    "\n",
    "for i in range(36, 60):\n",
    "    df0 = pd.DataFrame()\n",
    "    print(i, pd.Timestamp.now())\n",
    "    url = f'https://www.banki.ru/services/responses/bank/sberbank/?page=' + str(i) + '&is_countable=on'\n",
    "    headers = {\n",
    "                \"User-Agent\": \"Mozilla/5.0 (Windows NT 10.0; Win64; x64) AppleWebKit/537.36 (KHTML, like Gecko) Chrome/100.0.4896.60 Safari/537.36\",\n",
    "                \"Accept-Encoding\": \"*\",\n",
    "                \"Connection\": \"keep-alive\"\n",
    "            }\n",
    "    response = requests.get(url, headers=headers, verify=False)\n",
    "    time.sleep(0.2)\n",
    "    dom = bs(response.text, 'html.parser')\n",
    "    links = dom.find_all('a', {'class': 'link-simple'})\n",
    "    links = [link for link in links if 'data-gtm-click' in str(link)]\n",
    "    time.sleep(0.2)\n",
    "    for link in links:\n",
    "        title = str(link.text).strip()\n",
    "        \n",
    "        res_link = link.get('href')\n",
    "        time.sleep(0.1)\n",
    "        p = f'https://www.banki.ru' + str(res_link)\n",
    " \n",
    "        rsp = requests.get( p, headers=headers, verify=False)\n",
    "        time.sleep(0.3)\n",
    "        dom2 = bs(rsp.text, 'html.parser')  \n",
    "        try:\n",
    "            date = re.findall('agentAnswerDate[\\s\":]*\\S*\\s*.{8}', str(dom2))[0].replace('agentAnswerDate\":\"', '')\n",
    "\n",
    "            txt = dom2.find('div', {'class': 'markdown-inside--list-type_circle-fill'}).getText().strip().replace('\\t5', '').replace('\\t', '').replace('\\n', '')\n",
    "\n",
    "            new_row = {'Сайт': 'www.banki.ru',  \n",
    "                       'Дата': date, \n",
    "                       'Заголовок': title, \n",
    "                       'Основной текст жалобы': txt}\n",
    "\n",
    "            df0 = df0.append(new_row, ignore_index=True)\n",
    "        except:\n",
    "            continue\n",
    "\n",
    "    df0.to_excel(r'C:\\Users\\19586955\\Documents\\Morzavchenkova\\python\\parse\\banki' + str(i) + '.xlsx', index=False)\n",
    "        \n",
    "    "
   ]
  },
  {
   "cell_type": "code",
   "execution_count": null,
   "metadata": {},
   "outputs": [],
   "source": []
  }
 ],
 "metadata": {
  "kernelspec": {
   "display_name": "Python 3 (ipykernel)",
   "language": "python",
   "name": "python3"
  },
  "language_info": {
   "codemirror_mode": {
    "name": "ipython",
    "version": 3
   },
   "file_extension": ".py",
   "mimetype": "text/x-python",
   "name": "python",
   "nbconvert_exporter": "python",
   "pygments_lexer": "ipython3",
   "version": "3.9.7"
  }
 },
 "nbformat": 4,
 "nbformat_minor": 4
}
