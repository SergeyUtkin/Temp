{
 "cells": [
  {
   "cell_type": "code",
   "execution_count": 152,
   "metadata": {},
   "outputs": [],
   "source": [
    "import pandas as pd\n",
    "import time\n",
    "from selenium import webdriver\n",
    "from selenium.webdriver.common.by import By\n",
    "from selenium.common.exceptions import ElementClickInterceptedException,StaleElementReferenceException\n",
    "from selenium.webdriver.common.keys import Keys\n",
    "from selenium.webdriver.common.action_chains import ActionChains\n",
    "\n",
    "import pyautogui"
   ]
  },
  {
   "cell_type": "code",
   "execution_count": 153,
   "metadata": {},
   "outputs": [],
   "source": [
    "browser = webdriver.Chrome()\n",
    "browser.get('https://www.google.com/maps/search/Камчатский+край+сбербанк+банкомат') #Не работает"
   ]
  },
  {
   "cell_type": "code",
   "execution_count": 127,
   "metadata": {},
   "outputs": [],
   "source": [
    "adress = pd.read_excel(r'адреса_всп_все.xlsx')"
   ]
  },
  {
   "cell_type": "code",
   "execution_count": 134,
   "metadata": {
    "scrolled": true
   },
   "outputs": [
    {
     "data": {
      "text/plain": [
       "0        г. Грозный ул. Ш-А Митаева дом 12 каб. 11, отд...\n",
       "1           г.Москва, ул.Вавилова, 19, отделение Сбербанка\n",
       "2        г.Владивосток, ул.Фонтанная, 18, отделение Сбе...\n",
       "3        г.Екатеринбург, ул.Бориса Ельцина, д.3/2, отде...\n",
       "4        г.Екатеринбург, ул. Бориса Ельцина, д.3/2, отд...\n",
       "                               ...                        \n",
       "12765    г. Таганрог,  ул. Октябрьская, 39/2-й Переулок...\n",
       "12766     г.Тверь, ул. Горького, 86/3, отделение Сбербанка\n",
       "12767    г.Киров, ул.Карла Маркса, 23, отделение Сбербанка\n",
       "12768    г.Россошь, проспект Труда, 12а, отделение Сбер...\n",
       "12769    г.Дзержинский, ул. Лесная, д.5, пом.900, отдел...\n",
       "Name: адрес, Length: 12770, dtype: object"
      ]
     },
     "execution_count": 134,
     "metadata": {},
     "output_type": "execute_result"
    }
   ],
   "source": [
    "adress['адрес']"
   ]
  },
  {
   "cell_type": "code",
   "execution_count": 129,
   "metadata": {},
   "outputs": [],
   "source": [
    "Poisk = browser.find_element(By.CLASS_NAME,'searchboxinput')"
   ]
  },
  {
   "cell_type": "code",
   "execution_count": 154,
   "metadata": {},
   "outputs": [
    {
     "data": {
      "text/plain": [
       "<selenium.webdriver.remote.webelement.WebElement (session=\"1da1c6d0d38740f0226fb926faab6afc\", element=\"f.182B5F261BBDB5B7F10869FCBC4D35EE.d.3268A5E6BC7B097DDCC4DA459CC373B5.e.27\")>"
      ]
     },
     "execution_count": 154,
     "metadata": {},
     "output_type": "execute_result"
    }
   ],
   "source": [
    "Poisk"
   ]
  },
  {
   "cell_type": "code",
   "execution_count": 155,
   "metadata": {},
   "outputs": [
    {
     "name": "stdout",
     "output_type": "stream",
     "text": [
      "0\n",
      "1\n",
      "2\n",
      "3\n",
      "0\n",
      "0\n",
      "0\n"
     ]
    },
    {
     "ename": "KeyboardInterrupt",
     "evalue": "",
     "output_type": "error",
     "traceback": [
      "\u001b[1;31m---------------------------------------------------------------------------\u001b[0m",
      "\u001b[1;31mKeyboardInterrupt\u001b[0m                         Traceback (most recent call last)",
      "\u001b[1;32m<ipython-input-155-f0c185eced4d>\u001b[0m in \u001b[0;36m<module>\u001b[1;34m\u001b[0m\n\u001b[0;32m     24\u001b[0m         \u001b[0mtime\u001b[0m\u001b[1;33m.\u001b[0m\u001b[0msleep\u001b[0m\u001b[1;33m(\u001b[0m\u001b[1;36m1\u001b[0m\u001b[1;33m)\u001b[0m\u001b[1;33m\u001b[0m\u001b[1;33m\u001b[0m\u001b[0m\n\u001b[0;32m     25\u001b[0m         \u001b[0mPoisk\u001b[0m\u001b[1;33m.\u001b[0m\u001b[0msend_keys\u001b[0m\u001b[1;33m(\u001b[0m\u001b[1;34m'Сбербанк отделение '\u001b[0m \u001b[1;33m+\u001b[0m \u001b[0madr\u001b[0m\u001b[1;33m.\u001b[0m\u001b[0mreplace\u001b[0m\u001b[1;33m(\u001b[0m\u001b[1;34m'отделение Сбербанка'\u001b[0m\u001b[1;33m,\u001b[0m\u001b[1;34m''\u001b[0m\u001b[1;33m)\u001b[0m\u001b[1;33m.\u001b[0m\u001b[0mreplace\u001b[0m\u001b[1;33m(\u001b[0m\u001b[1;34m'.'\u001b[0m\u001b[1;33m,\u001b[0m\u001b[1;34m' '\u001b[0m\u001b[1;33m)\u001b[0m\u001b[1;33m.\u001b[0m\u001b[0mreplace\u001b[0m\u001b[1;33m(\u001b[0m\u001b[1;34m','\u001b[0m\u001b[1;33m,\u001b[0m\u001b[1;34m' '\u001b[0m\u001b[1;33m)\u001b[0m\u001b[1;33m)\u001b[0m\u001b[1;33m\u001b[0m\u001b[1;33m\u001b[0m\u001b[0m\n\u001b[1;32m---> 26\u001b[1;33m         \u001b[0mtime\u001b[0m\u001b[1;33m.\u001b[0m\u001b[0msleep\u001b[0m\u001b[1;33m(\u001b[0m\u001b[1;36m2.5\u001b[0m\u001b[1;33m)\u001b[0m\u001b[1;33m\u001b[0m\u001b[1;33m\u001b[0m\u001b[0m\n\u001b[0m\u001b[0;32m     27\u001b[0m         \u001b[0mPoisk\u001b[0m\u001b[1;33m.\u001b[0m\u001b[0msend_keys\u001b[0m\u001b[1;33m(\u001b[0m\u001b[0mKeys\u001b[0m\u001b[1;33m.\u001b[0m\u001b[0mENTER\u001b[0m\u001b[1;33m)\u001b[0m\u001b[1;33m\u001b[0m\u001b[1;33m\u001b[0m\u001b[0m\n\u001b[0;32m     28\u001b[0m         \u001b[0mtime\u001b[0m\u001b[1;33m.\u001b[0m\u001b[0msleep\u001b[0m\u001b[1;33m(\u001b[0m\u001b[1;36m5\u001b[0m\u001b[1;33m)\u001b[0m\u001b[1;33m\u001b[0m\u001b[1;33m\u001b[0m\u001b[0m\n",
      "\u001b[1;31mKeyboardInterrupt\u001b[0m: "
     ]
    }
   ],
   "source": [
    "#browser.get('https://www.google.com/maps/search/Камчатский+край+сбербанк+банкомат') \n",
    "k = 0\n",
    "df = pd.DataFrame()\n",
    "for adr in adress['адрес']:\n",
    "    \n",
    "    if k<32:\n",
    "        pass\n",
    "    else:\n",
    "        time.sleep(2)\n",
    "        Poisk = browser.find_element(By.CLASS_NAME,'searchboxinput')\n",
    "        Poisk.send_keys(Keys.CONTROL + 'a')\n",
    "        Poisk.send_keys(Keys.DELETE)\n",
    "        time.sleep(2)\n",
    "        \n",
    "        \n",
    "        Poisk.send_keys(adr.split(',')[0].split('ул.')[0])\n",
    "        time.sleep(1.5)\n",
    "        Poisk.send_keys(Keys.ENTER)\n",
    "        time.sleep(3)\n",
    "        \n",
    "        \n",
    "        Poisk.send_keys(Keys.CONTROL + 'a')\n",
    "        Poisk.send_keys(Keys.DELETE)\n",
    "        time.sleep(1)\n",
    "        Poisk.send_keys('Сбербанк отделение ' + adr.replace('отделение Сбербанка','').replace('.',' ').replace(',',' '))\n",
    "        time.sleep(2.5)\n",
    "        Poisk.send_keys(Keys.ENTER)\n",
    "        time.sleep(3)\n",
    "        \n",
    "        aa = []\n",
    "        aa.append(adr)\n",
    "        \n",
    "        \n",
    "        if len(browser.find_elements(By.CLASS_NAME,'OFHA4'))>0:\n",
    "            browser.back()\n",
    "            continue\n",
    "        \n",
    "        \n",
    "        \n",
    "        if len(browser.find_elements(By.CLASS_NAME,'Bt0TOd'))>0:\n",
    "            if browser.find_elements(By.CLASS_NAME,'Bt0TOd')[0].text == 'Частичное совпадение' or browser.find_elements(By.CLASS_NAME,'Bt0TOd')[0].text == 'Частичные совпадения':\n",
    "                print(1)\n",
    "                continue\n",
    "            else:\n",
    "                print(browser.find_elements(By.CLASS_NAME,'Bt0TOd')[0].text)\n",
    "                \n",
    "                \n",
    "                \n",
    "        if len(browser.find_elements(By.CLASS_NAME,'Gpq6kf'))>0:\n",
    "            bb=[]\n",
    "            bb.append(adr)\n",
    "            try:\n",
    "                e = browser.find_elements(By.CLASS_NAME,'RcCsl')\n",
    "                bb.append(e[0].text)\n",
    "            except:\n",
    "                e = browser.find_elements(By.CLASS_NAME,'Io6YTe')\n",
    "                bb.append(e[0].text)\n",
    "            e = browser.find_elements(By.CLASS_NAME,'o0Svhf')\n",
    "            if len(e)>0:\n",
    "                e[0].click()\n",
    "                time.sleep(1.5)\n",
    "                tim = browser.find_elements(By.CLASS_NAME,'y0skZc')\n",
    "                cc = []\n",
    "                for i in tim:\n",
    "                    cc.append(i.text)\n",
    "\n",
    "            but = browser.find_elements(By.CLASS_NAME,'Gpq6kf')\n",
    "            bb.append(cc)\n",
    "            cc=[]\n",
    "            if len(but)>2:\n",
    "                if but[2].text == 'Информация':\n",
    "                    but[2].click()\n",
    "                    time.sleep(1.5)\n",
    "                    inf_fl = browser.find_elements(By.CLASS_NAME,'grnAab')\n",
    "                    inf = browser.find_elements(By.CLASS_NAME,'ZQ6we')\n",
    "                    cc = []\n",
    "                    for i in inf:        \n",
    "                        cc.append(i.text)\n",
    "                    for i in inf_fl:\n",
    "                        cc.append(i.get_attribute('src'))\n",
    "            if len(but)>1:\n",
    "                if but[1].text == 'Информация':\n",
    "                    but[1].click()\n",
    "                    time.sleep(1.5)\n",
    "                    inf_fl = browser.find_elements(By.CLASS_NAME,'grnAab')\n",
    "                    inf = browser.find_elements(By.CLASS_NAME,'ZQ6we')\n",
    "                    c=[]\n",
    "                    for i in inf:        \n",
    "                        cc.append(i.text)\n",
    "                    for i in inf_fl:\n",
    "                        cc.append(i.get_attribute('src'))\n",
    "                bb.append(cc)\n",
    "            cc=[]\n",
    "            if len(but)>1:\n",
    "                if but[1].text == 'Отзывы':       \n",
    "                    but[1].click()\n",
    "                    time.sleep(1.5)\n",
    "                    comm = browser.find_elements(By.CLASS_NAME,'d4r55 ')\n",
    "                    l = 0\n",
    "                    cc = []\n",
    "                    while l!= len(comm):\n",
    "                        l = len(comm)\n",
    "                        browser.execute_script(\"arguments[0].scrollIntoView(true);\",comm[-1])\n",
    "                        comm = browser.find_elements(By.CLASS_NAME,'d4r55')\n",
    "                        time.sleep(2)\n",
    "                        browser.execute_script(\"arguments[0].scrollIntoView(true);\",comm[-1])\n",
    "                        comm = browser.find_elements(By.CLASS_NAME,'d4r55')       \n",
    "                    comm = browser.find_elements(By.CLASS_NAME,'wiI7pd ')  \n",
    "                    for i in comm:\n",
    "                        cc.append(i.text)\n",
    "                bb.append(cc)\n",
    "            #if len(but)>0:\n",
    "            #    but[0].click()  \n",
    "            time.sleep(2)\n",
    "            #back = browser.find_elements(By.CLASS_NAME,'bDDiq')\n",
    "            #back[0].click()\n",
    "            #time.sleep(9)\n",
    "            aa.append(bb)\n",
    "\n",
    "            elem = browser.find_elements(By.CLASS_NAME,'Nv2PK')\n",
    "            hh = len(elem)\n",
    "            fl = True\n",
    "            df = df.append(pd.DataFrame(aa))\n",
    "        else:\n",
    "            elem = browser.find_elements(By.CLASS_NAME,'Nv2PK')\n",
    "            hh = len(elem)\n",
    "            j = 0\n",
    "            while j!=hh:\n",
    "\n",
    "                print(j)\n",
    "                elem = browser.find_elements(By.CLASS_NAME,'Nv2PK')\n",
    "                fl = False\n",
    "                pp = 0\n",
    "                #for pu in elem:\n",
    "                if 'Банк' in elem[j].text and 'анкомат' not in elem[j].text:\n",
    "                    elem[j].click()\n",
    "                    time.sleep(1.5)\n",
    "                    bb=[]\n",
    "                    bb.append(adr)\n",
    "                    try:\n",
    "                        e = browser.find_elements(By.CLASS_NAME,'RcCsl')\n",
    "                        bb.append(e[0].text)\n",
    "                    except:\n",
    "                        e = browser.find_elements(By.CLASS_NAME,'Io6YTe')\n",
    "                        bb.append(e[0].text)\n",
    "                    e = browser.find_elements(By.CLASS_NAME,'o0Svhf')\n",
    "                    if len(e)>0:\n",
    "                        e[0].click()\n",
    "                        time.sleep(2)\n",
    "                        tim = browser.find_elements(By.CLASS_NAME,'y0skZc')\n",
    "                        cc = []\n",
    "                        for i in tim:\n",
    "                            cc.append(i.text)\n",
    "\n",
    "                    but = browser.find_elements(By.CLASS_NAME,'Gpq6kf')\n",
    "                    bb.append(cc)\n",
    "                    cc=[]\n",
    "                    if len(but)>2:\n",
    "                        if but[2].text == 'Информация':\n",
    "                            but[2].click()\n",
    "                            time.sleep(1.5)\n",
    "                            inf_fl = browser.find_elements(By.CLASS_NAME,'grnAab')\n",
    "                            inf = browser.find_elements(By.CLASS_NAME,'ZQ6we')\n",
    "                            cc = []\n",
    "                            for i in inf:        \n",
    "                                cc.append(i.text)\n",
    "                            for i in inf_fl:\n",
    "                                cc.append(i.get_attribute('src'))\n",
    "                    if len(but)>1:\n",
    "                        if but[1].text == 'Информация':\n",
    "                            but[1].click()\n",
    "                            time.sleep(1.5)\n",
    "                            inf_fl = browser.find_elements(By.CLASS_NAME,'grnAab')\n",
    "                            inf = browser.find_elements(By.CLASS_NAME,'ZQ6we')\n",
    "                            c=[]\n",
    "                            for i in inf:        \n",
    "                                cc.append(i.text)\n",
    "                            for i in inf_fl:\n",
    "                                cc.append(i.get_attribute('src'))\n",
    "                        bb.append(cc)\n",
    "                    cc=[]\n",
    "                    if len(but)>1:\n",
    "                        if but[1].text == 'Отзывы':       \n",
    "                            but[1].click()\n",
    "                            time.sleep(1.5)\n",
    "                            comm = browser.find_elements(By.CLASS_NAME,'d4r55 ')\n",
    "                            l = 0\n",
    "                            cc = []\n",
    "                            while l!= len(comm):\n",
    "                                l = len(comm)\n",
    "                                browser.execute_script(\"arguments[0].scrollIntoView(true);\",comm[-1])\n",
    "                                comm = browser.find_elements(By.CLASS_NAME,'d4r55')\n",
    "                                time.sleep(2)\n",
    "                                browser.execute_script(\"arguments[0].scrollIntoView(true);\",comm[-1])\n",
    "                                comm = browser.find_elements(By.CLASS_NAME,'d4r55')       \n",
    "                            comm = browser.find_elements(By.CLASS_NAME,'wiI7pd ')  \n",
    "                            for i in comm:\n",
    "                                cc.append(i.text)\n",
    "                        bb.append(cc)\n",
    "                    #if len(but)>0:\n",
    "                    #    but[0].click()  \n",
    "                    time.sleep(2)\n",
    "                    #back = browser.find_elements(By.CLASS_NAME,'bDDiq')\n",
    "                    #back[0].click()\n",
    "                    #time.sleep(9)\n",
    "                    aa.append(bb)\n",
    "\n",
    "                    elem = browser.find_elements(By.CLASS_NAME,'Nv2PK')\n",
    "                    hh = len(elem)\n",
    "                    fl = True\n",
    "                else:\n",
    "                    pass\n",
    "                j = j + 1\n",
    "                df = df.append(pd.DataFrame(aa))  \n",
    "                if fl==True:\n",
    "                    break\n",
    "                    \n",
    "                    \n",
    "    k = k + 1\n",
    "\n",
    "    \n",
    "    \"\"\"if j == hh:\n",
    "        print(1)\n",
    "        browser.execute_script(\"arguments[0].scrollIntoView(true);\",elem[min(j,hh-1)])\n",
    "        time.sleep(3)\n",
    "        elem = browser.find_elements(By.CLASS_NAME,'Nv2PK')\n",
    "        hh = len(elem)\n",
    "        #browser.execute_script(\"arguments[0].scrollIntoView(true);\",elem[min(j,hh-1)])\n",
    "        #time.sleep(2)\n",
    "        if j==hh:\n",
    "            print(2)\n",
    "            pyautogui.moveTo(415,567)\n",
    "            pyautogui.scroll(-300)\n",
    "            time.sleep(5)\n",
    "            elem = browser.find_elements(By.CLASS_NAME,'Nv2PK')\n",
    "            hh = len(elem)\n",
    "            time.sleep(1.5)\n",
    "            browser.execute_script(\"arguments[0].scrollIntoView(true);\",elem[min(j,hh-1)])\n",
    "        #browser.execute_script(\"arguments[0].scrollIntoView(true);\",elem[-1])\n",
    "        #time.sleep(2)\n",
    "        #elem = browser.find_elements(By.CLASS_NAME,'hfpxzc')\n",
    "        #hh = len(elem)\n",
    "        #browser.execute_script(\"arguments[0].scrollIntoView(true);\",elem[-1])\n",
    "        #time.sleep(2)\n",
    "    \"\"\""
   ]
  },
  {
   "cell_type": "code",
   "execution_count": 157,
   "metadata": {},
   "outputs": [],
   "source": [
    "#df = pd.DataFrame(aa)\n",
    "df.to_excel('Google 32-36.xlsx',index=False)"
   ]
  },
  {
   "cell_type": "code",
   "execution_count": 147,
   "metadata": {},
   "outputs": [
    {
     "data": {
      "text/plain": [
       "[<selenium.webdriver.remote.webelement.WebElement (session=\"1da1c6d0d38740f0226fb926faab6afc\", element=\"f.182B5F261BBDB5B7F10869FCBC4D35EE.d.3268A5E6BC7B097DDCC4DA459CC373B5.e.1600\")>,\n",
       " <selenium.webdriver.remote.webelement.WebElement (session=\"1da1c6d0d38740f0226fb926faab6afc\", element=\"f.182B5F261BBDB5B7F10869FCBC4D35EE.d.3268A5E6BC7B097DDCC4DA459CC373B5.e.1601\")>,\n",
       " <selenium.webdriver.remote.webelement.WebElement (session=\"1da1c6d0d38740f0226fb926faab6afc\", element=\"f.182B5F261BBDB5B7F10869FCBC4D35EE.d.3268A5E6BC7B097DDCC4DA459CC373B5.e.1602\")>,\n",
       " <selenium.webdriver.remote.webelement.WebElement (session=\"1da1c6d0d38740f0226fb926faab6afc\", element=\"f.182B5F261BBDB5B7F10869FCBC4D35EE.d.3268A5E6BC7B097DDCC4DA459CC373B5.e.1603\")>,\n",
       " <selenium.webdriver.remote.webelement.WebElement (session=\"1da1c6d0d38740f0226fb926faab6afc\", element=\"f.182B5F261BBDB5B7F10869FCBC4D35EE.d.3268A5E6BC7B097DDCC4DA459CC373B5.e.1604\")>]"
      ]
     },
     "execution_count": 147,
     "metadata": {},
     "output_type": "execute_result"
    }
   ],
   "source": [
    "browser.find_elements(By.CLASS_NAME,'Io6YTe')"
   ]
  },
  {
   "cell_type": "code",
   "execution_count": 132,
   "metadata": {},
   "outputs": [],
   "source": [
    "df.to_excel('Google Архангельская область.xlsx',index=False)"
   ]
  },
  {
   "cell_type": "code",
   "execution_count": 156,
   "metadata": {},
   "outputs": [
    {
     "data": {
      "text/plain": [
       "36"
      ]
     },
     "execution_count": 156,
     "metadata": {},
     "output_type": "execute_result"
    }
   ],
   "source": [
    "k"
   ]
  },
  {
   "cell_type": "code",
   "execution_count": 108,
   "metadata": {},
   "outputs": [
    {
     "data": {
      "text/plain": [
       "0"
      ]
     },
     "execution_count": 108,
     "metadata": {},
     "output_type": "execute_result"
    }
   ],
   "source": [
    "k"
   ]
  },
  {
   "cell_type": "code",
   "execution_count": 119,
   "metadata": {},
   "outputs": [],
   "source": [
    "df = df.reset_index(drop=True)"
   ]
  },
  {
   "cell_type": "code",
   "execution_count": 60,
   "metadata": {},
   "outputs": [
    {
     "name": "stdout",
     "output_type": "stream",
     "text": [
      "Сбербанк\n",
      "2,7(10)\n",
      "Финансовое учреждение · ул. Вавилова, 19\n",
      "Сейчас открыто · 8 (800) 555-57-77\n",
      "\n",
      "Сайт\n",
      "\n",
      "Проложить маршрут\n",
      "  \"Отличное отделение Сбер!\"\n",
      "СберПервый\n",
      "2,2(6)\n",
      "Банк · ул. Вавилова, 19\n",
      "Открыто ⋅ Закроется в 19:30 · 8 (800) 555-55-50\n",
      "\n",
      "Проложить маршрут\n",
      "  \"Воистину самое крутое отделение, что я видел.\"\n"
     ]
    }
   ],
   "source": [
    "for pu in browser.find_elements(By.CLASS_NAME,'Nv2PK'):\n",
    "    print(pu.text)\n",
    "    if 'Банк' in pu.text:\n",
    "        pu.click()\n",
    "        break\n",
    "        "
   ]
  },
  {
   "cell_type": "code",
   "execution_count": 48,
   "metadata": {},
   "outputs": [
    {
     "data": {
      "text/plain": [
       "'Частичное совпадение'"
      ]
     },
     "execution_count": 48,
     "metadata": {},
     "output_type": "execute_result"
    }
   ],
   "source": [
    "e"
   ]
  },
  {
   "cell_type": "code",
   "execution_count": 434,
   "metadata": {},
   "outputs": [],
   "source": [
    "comm = browser.find_elements(By.CLASS_NAME,'hfpxzc')"
   ]
  },
  {
   "cell_type": "code",
   "execution_count": 7,
   "metadata": {},
   "outputs": [
    {
     "data": {
      "text/plain": [
       "['Московский пр., 123А, Калининград, Калининградская обл., 236006',\n",
       " ['среда\\n08:00–23:00',\n",
       "  'четверг\\n08:00–23:00',\n",
       "  'пятница\\n(День защитника Отечества)\\n08:00–23:00\\nЧасы работы могут меняться',\n",
       "  'суббота\\n08:00–23:00',\n",
       "  'воскресенье\\n08:00–23:00',\n",
       "  'понедельник\\n08:00–23:00',\n",
       "  'вторник\\n08:00–23:00']]"
      ]
     },
     "execution_count": 7,
     "metadata": {},
     "output_type": "execute_result"
    }
   ],
   "source": [
    "aa[-1]"
   ]
  },
  {
   "cell_type": "code",
   "execution_count": 527,
   "metadata": {},
   "outputs": [
    {
     "data": {
      "text/plain": [
       "1"
      ]
     },
     "execution_count": 527,
     "metadata": {},
     "output_type": "execute_result"
    }
   ],
   "source": [
    "pp"
   ]
  },
  {
   "cell_type": "code",
   "execution_count": 433,
   "metadata": {},
   "outputs": [],
   "source": [
    "browser.execute_script(\"arguments[0].scrollIntoView(true);\",comm[-1])"
   ]
  },
  {
   "cell_type": "code",
   "execution_count": 400,
   "metadata": {},
   "outputs": [],
   "source": [
    "e= browser.find_element(By.CLASS_NAME,'m6QErb ')"
   ]
  },
  {
   "cell_type": "code",
   "execution_count": 404,
   "metadata": {},
   "outputs": [
    {
     "ename": "AttributeError",
     "evalue": "'WebElement' object has no attribute 'execute_script'",
     "output_type": "error",
     "traceback": [
      "\u001b[1;31m---------------------------------------------------------------------------\u001b[0m",
      "\u001b[1;31mAttributeError\u001b[0m                            Traceback (most recent call last)",
      "Cell \u001b[1;32mIn[404], line 1\u001b[0m\n\u001b[1;32m----> 1\u001b[0m e\u001b[38;5;241m.\u001b[39mexecute_script(\u001b[38;5;124m\"\u001b[39m\u001b[38;5;124mwindow.scrollTo(0, document.body.scrollHeight);\u001b[39m\u001b[38;5;124m\"\u001b[39m)\n",
      "\u001b[1;31mAttributeError\u001b[0m: 'WebElement' object has no attribute 'execute_script'"
     ]
    }
   ],
   "source": [
    "e.execute_script(\"window.scrollTo(0, document.body.scrollHeight);\")"
   ]
  },
  {
   "cell_type": "code",
   "execution_count": 242,
   "metadata": {},
   "outputs": [
    {
     "name": "stdout",
     "output_type": "stream",
     "text": [
      "вторник\n",
      "09:00–19:00\n",
      "среда\n",
      "09:00–19:00\n",
      "четверг\n",
      "09:00–19:00\n",
      "пятница\n",
      "(День защитника Отечества)\n",
      "09:00–19:00\n",
      "Часы работы могут меняться\n",
      "суббота\n",
      "08:30–18:00\n",
      "воскресенье\n",
      "Закрыто\n",
      "понедельник\n",
      "09:00–19:00\n"
     ]
    }
   ],
   "source": [
    "e.aria_role"
   ]
  },
  {
   "cell_type": "code",
   "execution_count": 243,
   "metadata": {},
   "outputs": [],
   "source": []
  },
  {
   "cell_type": "code",
   "execution_count": 244,
   "metadata": {},
   "outputs": [],
   "source": []
  },
  {
   "cell_type": "code",
   "execution_count": 274,
   "metadata": {},
   "outputs": [
    {
     "name": "stdout",
     "output_type": "stream",
     "text": [
      "Вход для людей на инвалидных колясках\n",
      "Парковка с доступом для инвалидов-колясочников\n",
      "Кредит наличными\n",
      "https://www.gstatic.com/images/icons/material/system_gm/2x/check_black_18dp.png\n",
      "https://www.gstatic.com/images/icons/material/system_gm/2x/not_interested_gm_grey_18dp.png\n",
      "https://www.gstatic.com/images/icons/material/system_gm/2x/check_black_18dp.png\n"
     ]
    }
   ],
   "source": [
    "\n",
    "    "
   ]
  },
  {
   "cell_type": "code",
   "execution_count": 272,
   "metadata": {},
   "outputs": [],
   "source": [
    "inf = browser.find_elements(By.CLASS_NAME,'grnAab')"
   ]
  },
  {
   "cell_type": "code",
   "execution_count": 273,
   "metadata": {},
   "outputs": [
    {
     "name": "stdout",
     "output_type": "stream",
     "text": [
      "https://www.gstatic.com/images/icons/material/system_gm/2x/check_black_18dp.png\n"
     ]
    }
   ],
   "source": [
    "print(inf[2].get_attribute('src'))"
   ]
  },
  {
   "cell_type": "code",
   "execution_count": 264,
   "metadata": {},
   "outputs": [
    {
     "data": {
      "text/plain": [
       "[<selenium.webdriver.remote.webelement.WebElement (session=\"a724c8c52960a1f72332dd5683217fb7\", element=\"2071FE3A33006C700F4AE715EAB75A49_element_29930\")>,\n",
       " <selenium.webdriver.remote.webelement.WebElement (session=\"a724c8c52960a1f72332dd5683217fb7\", element=\"2071FE3A33006C700F4AE715EAB75A49_element_29933\")>,\n",
       " <selenium.webdriver.remote.webelement.WebElement (session=\"a724c8c52960a1f72332dd5683217fb7\", element=\"2071FE3A33006C700F4AE715EAB75A49_element_29941\")>]"
      ]
     },
     "execution_count": 264,
     "metadata": {},
     "output_type": "execute_result"
    }
   ],
   "source": [
    "inf"
   ]
  },
  {
   "cell_type": "code",
   "execution_count": 304,
   "metadata": {},
   "outputs": [],
   "source": []
  },
  {
   "cell_type": "code",
   "execution_count": 296,
   "metadata": {},
   "outputs": [],
   "source": []
  },
  {
   "cell_type": "code",
   "execution_count": 291,
   "metadata": {},
   "outputs": [
    {
     "name": "stdout",
     "output_type": "stream",
     "text": [
      "Обслуживание в этом отделении нулевое. В зале терминалов никогда нет консультантов. Две девочки постоянно на перерыве. Взял два толона и 40 минут просидел не дождавшись когда подойдёт моя очередь. Обратился к старшей этим отделением в 4 ое окошко. Ответ был шакирующий: ваша очередь прошла. Клоуны. Работать здесь не торопятся.\n",
      "\n",
      "Получил сегодня карту, девушка позвонила, напомнила, выяснила когда удобно, народу не много, без очереди, на все про все 10 минут, предложила какие то доп услуги, но это ее работа.  Прям вот только хорошее впечатление.\n",
      "\n",
      "Обслуживанием порадовали, мой вопрос решили и быстро и четко, раннее обращалась в другие отделения мне не помогли, здесь все объяснили и решили мой вопрос, сотрудники вежливы и доброжелательны.\n",
      "\n",
      "Меняю оценку на 4. Только тут помогли разобраться!!! В  остальных банках хамили и отправляли подальше.по поводу выдачи денег-Сказали не можем ничего выдать много людей, и ещё много отговорок. Снять евро не получилось, тоже куча отговорок! Зря в очереди просидела.\n",
      "\n",
      "Неспешное обслуживание, позиционируют работа без обеда, однако пришлось обождать пол часа пока сотрудник поест и позже 20 минут с талочиком для получения консультации\n",
      "\n",
      "Новые быстрые банкоматы очень радуют. Нетипичный для балтрайона вежливый сервис\n",
      "\n",
      "Много посетителей, приходится ждать. Но общением с сотрудниками остался доволен.\n",
      "\n",
      "для меня - удобно и быстро можно пополнить счет или снять наличку :)\n",
      "\n",
      "Обычное отделение: электронная очередь, есть консультанты\n",
      "\n",
      "Когда уже банкоматы нн перестанут жрать карты\n",
      "\n"
     ]
    }
   ],
   "source": [
    "for c in comm:\n",
    "    print(c.text)\n",
    "    print()"
   ]
  },
  {
   "cell_type": "code",
   "execution_count": 362,
   "metadata": {},
   "outputs": [],
   "source": [
    "a = 7\n",
    "for i in range(a):\n",
    "    a = a + 1"
   ]
  },
  {
   "cell_type": "code",
   "execution_count": 363,
   "metadata": {},
   "outputs": [
    {
     "data": {
      "text/plain": [
       "6"
      ]
     },
     "execution_count": 363,
     "metadata": {},
     "output_type": "execute_result"
    }
   ],
   "source": [
    "i"
   ]
  },
  {
   "cell_type": "code",
   "execution_count": null,
   "metadata": {},
   "outputs": [],
   "source": []
  }
 ],
 "metadata": {
  "kernelspec": {
   "display_name": "Python 3",
   "language": "python",
   "name": "python3"
  },
  "language_info": {
   "codemirror_mode": {
    "name": "ipython",
    "version": 3
   },
   "file_extension": ".py",
   "mimetype": "text/x-python",
   "name": "python",
   "nbconvert_exporter": "python",
   "pygments_lexer": "ipython3",
   "version": "3.8.8"
  }
 },
 "nbformat": 4,
 "nbformat_minor": 4
}
