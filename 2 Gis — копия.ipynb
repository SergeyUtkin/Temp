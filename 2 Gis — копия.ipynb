{
 "cells": [
  {
   "cell_type": "code",
   "execution_count": 1,
   "metadata": {},
   "outputs": [],
   "source": [
    "import pandas as pd\n",
    "import time\n",
    "from selenium import webdriver\n",
    "from selenium.webdriver.common.by import By\n",
    "from selenium.common.exceptions import ElementClickInterceptedException,StaleElementReferenceException\n",
    "from selenium.webdriver.common.keys import Keys"
   ]
  },
  {
   "cell_type": "code",
   "execution_count": 2,
   "metadata": {},
   "outputs": [
    {
     "ename": "ModuleNotFoundError",
     "evalue": "No module named 'ge'",
     "output_type": "error",
     "traceback": [
      "\u001b[1;31m---------------------------------------------------------------------------\u001b[0m",
      "\u001b[1;31mModuleNotFoundError\u001b[0m                       Traceback (most recent call last)",
      "\u001b[1;32m<ipython-input-2-af54fe49811b>\u001b[0m in \u001b[0;36m<module>\u001b[1;34m\u001b[0m\n\u001b[1;32m----> 1\u001b[1;33m \u001b[1;32mimport\u001b[0m \u001b[0mge\u001b[0m\u001b[1;33m\u001b[0m\u001b[1;33m\u001b[0m\u001b[0m\n\u001b[0m",
      "\u001b[1;31mModuleNotFoundError\u001b[0m: No module named 'ge'"
     ]
    }
   ],
   "source": [
    "import ge"
   ]
  },
  {
   "cell_type": "code",
   "execution_count": 12,
   "metadata": {},
   "outputs": [],
   "source": [
    "oblasty = pd.read_excel(r'C:\\Users\\Me\\Desktop\\Лист Microsoft Excel.xlsx')"
   ]
  },
  {
   "cell_type": "code",
   "execution_count": 13,
   "metadata": {},
   "outputs": [
    {
     "data": {
      "text/html": [
       "<div>\n",
       "<style scoped>\n",
       "    .dataframe tbody tr th:only-of-type {\n",
       "        vertical-align: middle;\n",
       "    }\n",
       "\n",
       "    .dataframe tbody tr th {\n",
       "        vertical-align: top;\n",
       "    }\n",
       "\n",
       "    .dataframe thead th {\n",
       "        text-align: right;\n",
       "    }\n",
       "</style>\n",
       "<table border=\"1\" class=\"dataframe\">\n",
       "  <thead>\n",
       "    <tr style=\"text-align: right;\">\n",
       "      <th></th>\n",
       "      <th>область</th>\n",
       "      <th>всего</th>\n",
       "    </tr>\n",
       "  </thead>\n",
       "  <tbody>\n",
       "    <tr>\n",
       "      <th>0</th>\n",
       "      <td>Калининградская область</td>\n",
       "      <td>45</td>\n",
       "    </tr>\n",
       "  </tbody>\n",
       "</table>\n",
       "</div>"
      ],
      "text/plain": [
       "                   область  всего\n",
       "0  Калининградская область     45"
      ]
     },
     "execution_count": 13,
     "metadata": {},
     "output_type": "execute_result"
    }
   ],
   "source": [
    "oblasty"
   ]
  },
  {
   "cell_type": "code",
   "execution_count": 14,
   "metadata": {},
   "outputs": [
    {
     "ename": "AttributeError",
     "evalue": "'DataFrame' object has no attribute 'append'",
     "output_type": "error",
     "traceback": [
      "\u001b[1;31m---------------------------------------------------------------------------\u001b[0m",
      "\u001b[1;31mAttributeError\u001b[0m                            Traceback (most recent call last)",
      "Cell \u001b[1;32mIn[14], line 2\u001b[0m\n\u001b[0;32m      1\u001b[0m oblasty \u001b[38;5;241m=\u001b[39m pd\u001b[38;5;241m.\u001b[39mDataFrame(columns \u001b[38;5;241m=\u001b[39m [\u001b[38;5;124m'\u001b[39m\u001b[38;5;124mобласть\u001b[39m\u001b[38;5;124m'\u001b[39m,\u001b[38;5;124m'\u001b[39m\u001b[38;5;124mвсего\u001b[39m\u001b[38;5;124m'\u001b[39m])\n\u001b[1;32m----> 2\u001b[0m oblasty \u001b[38;5;241m=\u001b[39m oblasty\u001b[38;5;241m.\u001b[39mappend({\u001b[38;5;124m'\u001b[39m\u001b[38;5;124mобласть\u001b[39m\u001b[38;5;124m'\u001b[39m:\u001b[38;5;124m'\u001b[39m\u001b[38;5;124mКалининградская область\u001b[39m\u001b[38;5;124m'\u001b[39m,\u001b[38;5;124m'\u001b[39m\u001b[38;5;124mвсего\u001b[39m\u001b[38;5;124m'\u001b[39m:\u001b[38;5;241m0\u001b[39m},ignore_index\u001b[38;5;241m=\u001b[39m\u001b[38;5;28;01mTrue\u001b[39;00m)\n",
      "File \u001b[1;32m~\\anaconda3\\Lib\\site-packages\\pandas\\core\\generic.py:5989\u001b[0m, in \u001b[0;36mNDFrame.__getattr__\u001b[1;34m(self, name)\u001b[0m\n\u001b[0;32m   5982\u001b[0m \u001b[38;5;28;01mif\u001b[39;00m (\n\u001b[0;32m   5983\u001b[0m     name \u001b[38;5;129;01mnot\u001b[39;00m \u001b[38;5;129;01min\u001b[39;00m \u001b[38;5;28mself\u001b[39m\u001b[38;5;241m.\u001b[39m_internal_names_set\n\u001b[0;32m   5984\u001b[0m     \u001b[38;5;129;01mand\u001b[39;00m name \u001b[38;5;129;01mnot\u001b[39;00m \u001b[38;5;129;01min\u001b[39;00m \u001b[38;5;28mself\u001b[39m\u001b[38;5;241m.\u001b[39m_metadata\n\u001b[0;32m   5985\u001b[0m     \u001b[38;5;129;01mand\u001b[39;00m name \u001b[38;5;129;01mnot\u001b[39;00m \u001b[38;5;129;01min\u001b[39;00m \u001b[38;5;28mself\u001b[39m\u001b[38;5;241m.\u001b[39m_accessors\n\u001b[0;32m   5986\u001b[0m     \u001b[38;5;129;01mand\u001b[39;00m \u001b[38;5;28mself\u001b[39m\u001b[38;5;241m.\u001b[39m_info_axis\u001b[38;5;241m.\u001b[39m_can_hold_identifiers_and_holds_name(name)\n\u001b[0;32m   5987\u001b[0m ):\n\u001b[0;32m   5988\u001b[0m     \u001b[38;5;28;01mreturn\u001b[39;00m \u001b[38;5;28mself\u001b[39m[name]\n\u001b[1;32m-> 5989\u001b[0m \u001b[38;5;28;01mreturn\u001b[39;00m \u001b[38;5;28mobject\u001b[39m\u001b[38;5;241m.\u001b[39m\u001b[38;5;21m__getattribute__\u001b[39m(\u001b[38;5;28mself\u001b[39m, name)\n",
      "\u001b[1;31mAttributeError\u001b[0m: 'DataFrame' object has no attribute 'append'"
     ]
    }
   ],
   "source": [
    "oblasty = pd.DataFrame(columns = ['область','всего'])\n",
    "oblasty = oblasty.append({'область':'Калининградская область','всего':0},ignore_index=True)"
   ]
  },
  {
   "cell_type": "code",
   "execution_count": 4,
   "metadata": {},
   "outputs": [],
   "source": [
    "browser = webdriver.Chrome()#(r'C:\\Users\\18668450\\Downloads\\msedgedriver.exe')\n",
    "#browser.implicitly_wait(40)\n",
    "browser.get('https://2gis.ru/kirov/search/' + 'Амурская область' + ' сбербанк отделения')"
   ]
  },
  {
   "cell_type": "code",
   "execution_count": 16,
   "metadata": {},
   "outputs": [
    {
     "name": "stdout",
     "output_type": "stream",
     "text": [
      ">>>>>>>>>>>>>>>>>>>>>>>>>>>>>>>>>>>>>>>>>>>>>>>>>>>>>>>>>>>>>>>>>>>>>>>>>>>>>>>>>>>>>>>\n"
     ]
    },
    {
     "ename": "KeyboardInterrupt",
     "evalue": "",
     "output_type": "error",
     "traceback": [
      "\u001b[1;31m---------------------------------------------------------------------------\u001b[0m",
      "\u001b[1;31mKeyboardInterrupt\u001b[0m                         Traceback (most recent call last)",
      "Cell \u001b[1;32mIn[16], line 22\u001b[0m\n\u001b[0;32m     20\u001b[0m     button \u001b[38;5;241m=\u001b[39m browser\u001b[38;5;241m.\u001b[39mfind_elements(By\u001b[38;5;241m.\u001b[39mXPATH,\u001b[38;5;124m\"\u001b[39m\u001b[38;5;124m//div[@class=\u001b[39m\u001b[38;5;124m'\u001b[39m\u001b[38;5;124m_1gqpn8u3\u001b[39m\u001b[38;5;124m'\u001b[39m\u001b[38;5;124m][1]/button[@class=\u001b[39m\u001b[38;5;124m'\u001b[39m\u001b[38;5;124m_1v8en2z\u001b[39m\u001b[38;5;124m'\u001b[39m\u001b[38;5;124m][2]\u001b[39m\u001b[38;5;124m\"\u001b[39m)\n\u001b[0;32m     21\u001b[0m     button[\u001b[38;5;241m0\u001b[39m]\u001b[38;5;241m.\u001b[39mclick()\n\u001b[1;32m---> 22\u001b[0m     time\u001b[38;5;241m.\u001b[39msleep(\u001b[38;5;241m1\u001b[39m)\n\u001b[0;32m     23\u001b[0m     q1 \u001b[38;5;241m=\u001b[39m browser\u001b[38;5;241m.\u001b[39mfind_elements(By\u001b[38;5;241m.\u001b[39mXPATH,\u001b[38;5;124m\"\u001b[39m\u001b[38;5;124m//div[@class=\u001b[39m\u001b[38;5;124m'\u001b[39m\u001b[38;5;124m_1667t0u\u001b[39m\u001b[38;5;124m'\u001b[39m\u001b[38;5;124m]\u001b[39m\u001b[38;5;124m\"\u001b[39m)\n\u001b[0;32m     24\u001b[0m butt \u001b[38;5;241m=\u001b[39m browser\u001b[38;5;241m.\u001b[39mfind_elements(By\u001b[38;5;241m.\u001b[39mXPATH,\u001b[38;5;124m\"\u001b[39m\u001b[38;5;124m//button[@class=\u001b[39m\u001b[38;5;124m'\u001b[39m\u001b[38;5;124m_1v8en2z\u001b[39m\u001b[38;5;124m'\u001b[39m\u001b[38;5;124m]\u001b[39m\u001b[38;5;124m\"\u001b[39m)\n",
      "\u001b[1;31mKeyboardInterrupt\u001b[0m: "
     ]
    }
   ],
   "source": [
    "#НОВАЯ ВЕРСИЯ\n",
    "for obl in range(0, 1):#len(oblasty)):\n",
    "    #print(oblasty['область'][obl])\n",
    "    print('>>>>>>>>>>>>>>>>>>>>>>>>>>>>>>>>>>>>>>>>>>>>>>>>>>>>>>>>>>>>>>>>>>>>>>>>>>>>>>>>>>>>>>>')\n",
    "    #browser = webdriver.Chrome('chromedriver.exe')\n",
    "    #browser.implicitly_wait(40)\n",
    "    browser.get('https://2gis.ru/kirov/search/Калининградская область сбербанк банкомат')\n",
    "    qwerty=browser.find_elements(By.XPATH,\"//div[@class='_ubuirc']/form/div/div/button\")\n",
    "    qwerty[0].click()\n",
    "    qwerty2=browser.find_elements(By.XPATH,\"//div[@class='_ubuirc']/form/div/input\")\n",
    "    qwerty2[0].click()\n",
    "    qwerty2[0].send_keys(oblasty['область'][obl] + ' сбербанк банкомат')\n",
    "    qwerty2[0].send_keys(Keys.ENTER)\n",
    "    time.sleep(2)\n",
    "    \n",
    "    q1 = browser.find_elements(By.XPATH,\"//div[@class='_1667t0u']\")\n",
    "    while \"не нашлось\" not in q1[0].text:\n",
    "        #mesta1 = browser.find_elements_by_xpath(\"//span[@class='_18lf326a']\")[0].text\n",
    "        button = browser.find_elements(By.XPATH,\"//div[@class='_1gqpn8u3'][1]/button[@class='_1v8en2z'][2]\")\n",
    "        button[0].click()\n",
    "        time.sleep(1)\n",
    "        q1 = browser.find_elements(By.XPATH,\"//div[@class='_1667t0u']\")\n",
    "    butt = browser.find_elements(By.XPATH,\"//button[@class='_1v8en2z']\")\n",
    "    butt[1].click()\n",
    "    time.sleep(1)    \n",
    "    try:    \n",
    "        element = browser.find_elements(By.XPATH,\"//div[@class='_6yblqz']\")\n",
    "        browser.execute_script(\"\"\"\n",
    "        var element = arguments[0];\n",
    "        element.parentNode.removeChild(element);\n",
    "        \"\"\", element)\n",
    "    except:\n",
    "        break\n",
    "    \n",
    "    \n",
    "    nup = 1\n",
    "    mesta1 = browser.find_elements(By.XPATH,\"//span[@class='_18lf326a']\")[0].text\n",
    "    if int(mesta1)%12>0:\n",
    "        num_page = int(mesta1)//12 + 1\n",
    "    else:\n",
    "        num_page = int(mesta1)//12\n",
    "    df = pd.DataFrame(columns = ['адр','вре','тел','сай','МГН','отз'])\n",
    "    while nup<=num_page:\n",
    "        try:\n",
    "\n",
    "            filials = browser.find_elements(By.XPATH,\"//div[@class='_awwm2v']/div\")\n",
    "            #df = pd.DataFrame(columns = ['адр','вре','тел','сай','МГН','отз'])\n",
    "            for i in range (0,len(filials)):\n",
    "                if 'Реклама' in filials[i].text:\n",
    "                    pass\n",
    "                else:\n",
    "                    try:\n",
    "                        filials[i].click()\n",
    "                        time.sleep(2)\n",
    "\n",
    "\n",
    "                    #на какой случай\n",
    "\n",
    "                        #адрес\n",
    "                        pp = browser.find_elements(By.CLASS_NAME,\"_er2xx9\")\n",
    "                        dd = browser.find_elements(By.CLASS_NAME,'_1p8iqzw')\n",
    "                        ad = pp[0].text+', '+dd[len(dd)-1].text\n",
    "                        #время работы, телефон, сайт\n",
    "                        time.sleep(2)\n",
    "                        d = browser.find_elements(By.CLASS_NAME,'_49kxlr')\n",
    "                        if 'Филиал закрыт'  in filials[i].text:\n",
    "                            b = \"Филиал закрыт для посещений\"\n",
    "                            l = d[2].text\n",
    "                            d[1].click()\n",
    "                            w = browser.find_elements(By.CLASS_NAME,'_b0ke8')\n",
    "                            k=''\n",
    "                            for il in range(0,len(w)):\n",
    "                                k=k+' '+w[il].text\n",
    "                        elif 'Круглосуточно' in filials[i].text:\n",
    "                            b = \"Круглосуточно\"\n",
    "                            l = d[3].text\n",
    "                            d[2].click()\n",
    "                            w = browser.find_elements(By.CLASS_NAME,'_b0ke8')\n",
    "                            k=''\n",
    "                            for il in range(0,len(w)):\n",
    "                                k=k+' '+w[il].text\n",
    "                        else:\n",
    "                            try:\n",
    "                                sth = browser.find_elements(By.XPATH,'//div[@class=\"_15t9xwf\"][2]/div/div/div[@class=\"_z3fqkm\"]')\n",
    "                                sth[0].click()\n",
    "                                b=browser.find_elements(By.XPATH,'//div[@class=\"_18zamfw\"]')[0].text\n",
    "                                l = d[3].text\n",
    "                                d[2].click()\n",
    "                                w = browser.find_elements(By.CLASS_NAME,'_b0ke8')\n",
    "                                k=''\n",
    "                                for il in range(0,len(w)):\n",
    "                                    k=k+' '+w[il].text\n",
    "                            except: \n",
    "                                b='нет режима работы'\n",
    "                                l = d[2].text\n",
    "                                d[1].click()\n",
    "                                w = browser.find_elements(By.CLASS_NAME,'_b0ke8')\n",
    "                                k=''\n",
    "                                for il in range(0,len(w)):\n",
    "                                    k=k+' '+w[il].text\n",
    "                        #переход на вкладку Инфо\n",
    "                        e = browser.find_elements(By.CLASS_NAME,'_ke2cp9k')\n",
    "                        e[0].click()\n",
    "                        #ММГН\n",
    "                        f = browser.find_elements(By.XPATH,'//span[@class=\"_btwk9a2\"]')\n",
    "                        g=f[0].text\n",
    "                        #переход на вкладку Отзывы\n",
    "                        e[1].click()\n",
    "                        #ждем\n",
    "                        time.sleep(1)\n",
    "                        #кол-во отзывов\n",
    "                        ot = browser.find_elements(By.CLASS_NAME,'_18lf326a')\n",
    "                        if len(ot)==2:\n",
    "                            #кол-во скролов\n",
    "                            scr_n = int(ot[1].text)//12 +1\n",
    "                            scr = browser.find_elements(By.XPATH,\"//div[@class='_1667t0u']/div[1]/div[1]\")\n",
    "                            ###SCROLL###\n",
    "                            for sn in range (0,scr_n+1):\n",
    "                                browser.execute_script(\"arguments[0].scrollTop=arguments[0].scrollHeight\",scr[1])\n",
    "                                time.sleep(1)\n",
    "                                sn=sn+1\n",
    "                            o = browser.find_elements(By.CLASS_NAME,'_1fgfff')\n",
    "                            for ji in range(0,len(o)):\n",
    "                                q = pd.DataFrame([[ad,b,k,l,g,o[ji].text]],columns = ['адр','вре','тел','сай','МГН','отз'])\n",
    "                                df = df.append(q, ignore_index=True)\n",
    "                        else:\n",
    "                            q = pd.DataFrame([[ad,b,k,l,g,'Нет отзывов']],columns = ['адр','вре','тел','сай','МГН','отз'])\n",
    "                            df = df.append(q, ignore_index=True)\n",
    "\n",
    "                        print(q)\n",
    "                    #except \"все остальные\"\n",
    "                    except Exception as e:\n",
    "                        print(i,e)\n",
    "                        pass\n",
    "                    except ElementClickInterceptedException:\n",
    "                        print('ОШИБКА_________________________________________2')\n",
    "                        continue\n",
    "\n",
    "\n",
    "            #if nup ==num_page:################\n",
    "            if num_page == 1:\n",
    "                print('Одна страница')\n",
    "                break\n",
    "            else:\n",
    "                if nup == 1:\n",
    "                    browser.find_elements(By.XPATH,\"//div[@class='_n5hmn94']\")[0].click()\n",
    "                if nup == num_page:\n",
    "                    print('последняя страница')\n",
    "                    break\n",
    "                if nup != 1 and nup!=num_page:\n",
    "                    browser.find_elements(By.XPATH,\"//div[@class='_n5hmn94']\")[1].click()\n",
    "                time.sleep(2)\n",
    "                nup +=1\n",
    "\n",
    "\n",
    "        except IndexError:\n",
    "            print('ОШИБКА_ВЫШЕЛ_ЗА_ГРАНИЦЫ_ИНДЕКСАЦИИ')\n",
    "            continue\n",
    "    break\n",
    "    df.to_excel('output\\\\'+oblasty['область'][obl]+'.xlsx')"
   ]
  },
  {
   "cell_type": "code",
   "execution_count": 92,
   "metadata": {},
   "outputs": [],
   "source": []
  },
  {
   "cell_type": "code",
   "execution_count": 93,
   "metadata": {},
   "outputs": [],
   "source": [
    "ButNext = browser.find_elements(By.XPATH,\"/html/body/div[2]/div/div/div[1]/div[1]/div[2]/div/div/div[2]/div/div/div/div[2]/div[2]/div[1]/div/div/div/div[4]/div[2]/div[2]\")"
   ]
  },
  {
   "cell_type": "code",
   "execution_count": 24,
   "metadata": {},
   "outputs": [],
   "source": [
    "ButNext[0].click()"
   ]
  },
  {
   "cell_type": "code",
   "execution_count": 72,
   "metadata": {},
   "outputs": [],
   "source": []
  },
  {
   "cell_type": "code",
   "execution_count": 198,
   "metadata": {},
   "outputs": [
    {
     "name": "stdout",
     "output_type": "stream",
     "text": [
      "1\n",
      "2\n",
      "3\n",
      "4\n",
      "5\n",
      "6\n",
      "7\n",
      "8\n",
      "9\n",
      "10\n",
      "11\n",
      "12\n",
      "13\n",
      "14\n",
      "15\n",
      "16\n",
      "17\n",
      "18\n",
      "19\n",
      "20\n"
     ]
    }
   ],
   "source": [
    "browser.get('https://2gis.ru/kirov/search/Калининградская область сбербанк банкомат')\n",
    "\n",
    "\n",
    "aa = []\n",
    "for c in range(20):\n",
    "    \n",
    "    print(c + 1)\n",
    "    but_next = browser.find_elements(By.CLASS_NAME,'_n5hmn94')\n",
    "    if c<0:\n",
    "        browser.execute_script(\"arguments[0].scrollIntoView(true);\", but_next[max(0,len(but_next)-1)])\n",
    "        but_next[max(0,len(but_next)-1)].click()\n",
    "        time.sleep(5)\n",
    "        continue\n",
    "    g = browser.find_element(By.CLASS_NAME,'_awwm2v')\n",
    "    elem = browser.find_elements(By.CLASS_NAME, \"_1kf6gff\")\n",
    "    \n",
    "    for i in range(len(elem)):\n",
    "        \n",
    "            \n",
    "        bb = []\n",
    "        \n",
    "        try:\n",
    "            e = elem[i].find_element(By.CLASS_NAME, '_klarpw')\n",
    "        except:\n",
    "            e = elem[i].find_element(By.CLASS_NAME,'_jvhrnjy')\n",
    "        bb.append(e.text)\n",
    "        #print(e.text)\n",
    "        #print(e.get_attribute('class'))\n",
    "        \n",
    "        elem[i].click()\n",
    "        \n",
    "        browser.execute_script(\"arguments[0].scrollIntoView(true);\", elem[min(len(elem)-1,i+1)])\n",
    "        try:\n",
    "            e = browser.find_element(By.XPATH,'/html/body/div[2]/div/div/div[1]/div[1]/div[2]/div[2]/div/div/div/div/div[2]/div[2]/div/div[1]/div/div/div/div/div[2]/div[2]/div[1]/div[1]/div/div[2]/div[2]/div')\n",
    "            #print(e.text)                     \n",
    "            bb.append(e.text)\n",
    "        except:\n",
    "            bb.append('')\n",
    "        but = browser.find_elements(By.CLASS_NAME,'_6e8ght')\n",
    "        but[0].click()\n",
    "        time.sleep(2)\n",
    "        e = browser.find_elements(By.CLASS_NAME,'_49kxlr')\n",
    "        for ee in e:\n",
    "            bb.append(ee.text)\n",
    "        #e2 = e.find_elements(By.XPATH,'//div[@class='']')\n",
    "        #,'/html/body/div[2]/div/div/div[1]/div[1]/div[2]/div[2]/div/div/div/div/div[2]/div[2]/div/div[1]/div/div/div/div/div[2]/div[2]/div[1]/div/div/div[1]/div[1]/div[2]/div/span')\n",
    "        #print(e.text)\n",
    "        #bb.append(e.text)\n",
    "        \n",
    "        \n",
    "        #e = browser.find_elements(By.CLASS_NAME,'_49kxlr')[3]\n",
    "        #'/html/body/div[2]/div/div/div[1]/div[1]/div[2]/div[2]/div/div/div/div/div[2]/div[2]/div/div[1]/div/div/div/div/div[2]/div[2]/div[1]/div/div/div[1]/div[2]/div[2]/div/span')\n",
    "        #print(e.text)                      \n",
    "        #bb.append(e.text)\n",
    "        #bb.append(browser.find_elements(By.CLASS_NAME,'_49kxlr')[7].text)\n",
    "        #bb.append(browser.find_elements(By.CLASS_NAME,'_49kxlr')[8].text)\n",
    "        aa.append(bb)\n",
    "        \n",
    "    but_next[max(0,len(but_next)-1)].click()\n",
    "    time.sleep(5)"
   ]
  },
  {
   "cell_type": "code",
   "execution_count": 199,
   "metadata": {},
   "outputs": [],
   "source": [
    "import pandas as pd\n",
    "\n",
    "df = pd.DataFrame(aa)"
   ]
  },
  {
   "cell_type": "code",
   "execution_count": 183,
   "metadata": {},
   "outputs": [],
   "source": [
    "e = browser.find_element(By.XPATH,'/html/body/div[2]/div/div/div[1]/div[1]/div[2]/div[2]/div/div/div/div/div[2]/div[2]/div/div[1]/div/div/div/div/div[2]/div[2]/div[1]/div[1]/div/div[2]/div[2]/div')"
   ]
  },
  {
   "cell_type": "code",
   "execution_count": 200,
   "metadata": {},
   "outputs": [],
   "source": [
    "df.to_excel('2 GIS.xlsx',index=False)"
   ]
  },
  {
   "cell_type": "code",
   "execution_count": 191,
   "metadata": {},
   "outputs": [],
   "source": []
  },
  {
   "cell_type": "code",
   "execution_count": 194,
   "metadata": {},
   "outputs": [],
   "source": []
  },
  {
   "cell_type": "code",
   "execution_count": 117,
   "metadata": {},
   "outputs": [],
   "source": [
    "browser.execute_script(\"arguments[0].scrollIntoView(true);\", but);"
   ]
  },
  {
   "cell_type": "code",
   "execution_count": 135,
   "metadata": {},
   "outputs": [
    {
     "data": {
      "text/plain": [
       "'_49kxlr'"
      ]
     },
     "execution_count": 135,
     "metadata": {},
     "output_type": "execute_result"
    }
   ],
   "source": [
    "browser.find_elements(By.XPATH, \"/html/body/div[2]/div/div/div[1]/div[1]/div[2]/div[2]/div/div/div/div/div[2]/div[2]/div/div[1]/div/div/div/div/div[2]/div[2]/div[1]/div/div/div[1]/div[1]/div[2]/div\")[0].get_attribute('class')"
   ]
  },
  {
   "cell_type": "code",
   "execution_count": 148,
   "metadata": {},
   "outputs": [
    {
     "data": {
      "text/plain": [
       "'Бесконтактное обслуживание (NFC)Приём наличныхОплата кредитов'"
      ]
     },
     "execution_count": 148,
     "metadata": {},
     "output_type": "execute_result"
    }
   ],
   "source": [
    "browser.find_elements(By.CLASS_NAME,'_49kxlr')[1].text"
   ]
  },
  {
   "cell_type": "code",
   "execution_count": 174,
   "metadata": {},
   "outputs": [],
   "source": [
    "but_next = browser.find_elements(By.CLASS_NAME,'_n5hmn94')"
   ]
  },
  {
   "cell_type": "code",
   "execution_count": 175,
   "metadata": {},
   "outputs": [
    {
     "data": {
      "text/plain": [
       "[<selenium.webdriver.remote.webelement.WebElement (session=\"a724c8c52960a1f72332dd5683217fb7\", element=\"3833DDE7E7DDD3B6D31E582C84094161_element_64035\")>]"
      ]
     },
     "execution_count": 175,
     "metadata": {},
     "output_type": "execute_result"
    }
   ],
   "source": [
    "but_next"
   ]
  },
  {
   "cell_type": "code",
   "execution_count": null,
   "metadata": {},
   "outputs": [],
   "source": []
  }
 ],
 "metadata": {
  "kernelspec": {
   "display_name": "Python 3 (ipykernel)",
   "language": "python",
   "name": "python3"
  },
  "language_info": {
   "codemirror_mode": {
    "name": "ipython",
    "version": 3
   },
   "file_extension": ".py",
   "mimetype": "text/x-python",
   "name": "python",
   "nbconvert_exporter": "python",
   "pygments_lexer": "ipython3",
   "version": "3.11.5"
  }
 },
 "nbformat": 4,
 "nbformat_minor": 4
}
