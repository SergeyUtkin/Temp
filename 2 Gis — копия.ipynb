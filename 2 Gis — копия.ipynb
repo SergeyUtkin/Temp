{
 "cells": [
  {
   "cell_type": "code",
   "execution_count": 73,
   "metadata": {},
   "outputs": [],
   "source": [
    "import pandas as pd\n",
    "import time\n",
    "from selenium import webdriver\n",
    "from selenium.webdriver.common.by import By\n",
    "from selenium.common.exceptions import ElementClickInterceptedException,StaleElementReferenceException\n",
    "from selenium.webdriver.common.keys import Keys\n",
    "from selenium.webdriver.common.action_chains import ActionChains\n",
    "import pyautogui"
   ]
  },
  {
   "cell_type": "code",
   "execution_count": 12,
   "metadata": {},
   "outputs": [],
   "source": [
    "oblasty = pd.read_excel(r'C:\\Users\\Me\\Desktop\\Лист Microsoft Excel.xlsx')"
   ]
  },
  {
   "cell_type": "code",
   "execution_count": 13,
   "metadata": {},
   "outputs": [
    {
     "data": {
      "text/html": [
       "<div>\n",
       "<style scoped>\n",
       "    .dataframe tbody tr th:only-of-type {\n",
       "        vertical-align: middle;\n",
       "    }\n",
       "\n",
       "    .dataframe tbody tr th {\n",
       "        vertical-align: top;\n",
       "    }\n",
       "\n",
       "    .dataframe thead th {\n",
       "        text-align: right;\n",
       "    }\n",
       "</style>\n",
       "<table border=\"1\" class=\"dataframe\">\n",
       "  <thead>\n",
       "    <tr style=\"text-align: right;\">\n",
       "      <th></th>\n",
       "      <th>область</th>\n",
       "      <th>всего</th>\n",
       "    </tr>\n",
       "  </thead>\n",
       "  <tbody>\n",
       "    <tr>\n",
       "      <th>0</th>\n",
       "      <td>Калининградская область</td>\n",
       "      <td>45</td>\n",
       "    </tr>\n",
       "  </tbody>\n",
       "</table>\n",
       "</div>"
      ],
      "text/plain": [
       "                   область  всего\n",
       "0  Калининградская область     45"
      ]
     },
     "execution_count": 13,
     "metadata": {},
     "output_type": "execute_result"
    }
   ],
   "source": [
    "oblasty"
   ]
  },
  {
   "cell_type": "code",
   "execution_count": 77,
   "metadata": {},
   "outputs": [
    {
     "ename": "AttributeError",
     "evalue": "'DataFrame' object has no attribute 'append'",
     "output_type": "error",
     "traceback": [
      "\u001b[1;31m---------------------------------------------------------------------------\u001b[0m",
      "\u001b[1;31mAttributeError\u001b[0m                            Traceback (most recent call last)",
      "Cell \u001b[1;32mIn[77], line 2\u001b[0m\n\u001b[0;32m      1\u001b[0m oblasty \u001b[38;5;241m=\u001b[39m pd\u001b[38;5;241m.\u001b[39mDataFrame(columns \u001b[38;5;241m=\u001b[39m [\u001b[38;5;124m'\u001b[39m\u001b[38;5;124mобласть\u001b[39m\u001b[38;5;124m'\u001b[39m,\u001b[38;5;124m'\u001b[39m\u001b[38;5;124mвсего\u001b[39m\u001b[38;5;124m'\u001b[39m])\n\u001b[1;32m----> 2\u001b[0m oblasty \u001b[38;5;241m=\u001b[39m oblasty\u001b[38;5;241m.\u001b[39mappend({\u001b[38;5;124m'\u001b[39m\u001b[38;5;124mобласть\u001b[39m\u001b[38;5;124m'\u001b[39m:\u001b[38;5;124m'\u001b[39m\u001b[38;5;124mМосква\u001b[39m\u001b[38;5;124m'\u001b[39m,\u001b[38;5;124m'\u001b[39m\u001b[38;5;124mвсего\u001b[39m\u001b[38;5;124m'\u001b[39m:\u001b[38;5;241m0\u001b[39m},ignore_index\u001b[38;5;241m=\u001b[39m\u001b[38;5;28;01mTrue\u001b[39;00m)\n",
      "File \u001b[1;32m~\\anaconda3\\Lib\\site-packages\\pandas\\core\\generic.py:5989\u001b[0m, in \u001b[0;36mNDFrame.__getattr__\u001b[1;34m(self, name)\u001b[0m\n\u001b[0;32m   5982\u001b[0m \u001b[38;5;28;01mif\u001b[39;00m (\n\u001b[0;32m   5983\u001b[0m     name \u001b[38;5;129;01mnot\u001b[39;00m \u001b[38;5;129;01min\u001b[39;00m \u001b[38;5;28mself\u001b[39m\u001b[38;5;241m.\u001b[39m_internal_names_set\n\u001b[0;32m   5984\u001b[0m     \u001b[38;5;129;01mand\u001b[39;00m name \u001b[38;5;129;01mnot\u001b[39;00m \u001b[38;5;129;01min\u001b[39;00m \u001b[38;5;28mself\u001b[39m\u001b[38;5;241m.\u001b[39m_metadata\n\u001b[0;32m   5985\u001b[0m     \u001b[38;5;129;01mand\u001b[39;00m name \u001b[38;5;129;01mnot\u001b[39;00m \u001b[38;5;129;01min\u001b[39;00m \u001b[38;5;28mself\u001b[39m\u001b[38;5;241m.\u001b[39m_accessors\n\u001b[0;32m   5986\u001b[0m     \u001b[38;5;129;01mand\u001b[39;00m \u001b[38;5;28mself\u001b[39m\u001b[38;5;241m.\u001b[39m_info_axis\u001b[38;5;241m.\u001b[39m_can_hold_identifiers_and_holds_name(name)\n\u001b[0;32m   5987\u001b[0m ):\n\u001b[0;32m   5988\u001b[0m     \u001b[38;5;28;01mreturn\u001b[39;00m \u001b[38;5;28mself\u001b[39m[name]\n\u001b[1;32m-> 5989\u001b[0m \u001b[38;5;28;01mreturn\u001b[39;00m \u001b[38;5;28mobject\u001b[39m\u001b[38;5;241m.\u001b[39m\u001b[38;5;21m__getattribute__\u001b[39m(\u001b[38;5;28mself\u001b[39m, name)\n",
      "\u001b[1;31mAttributeError\u001b[0m: 'DataFrame' object has no attribute 'append'"
     ]
    }
   ],
   "source": [
    "oblasty = pd.DataFrame(columns = ['область','всего'])\n",
    "oblasty = oblasty.append({'область':'Москва','всего':0},ignore_index=True)"
   ]
  },
  {
   "cell_type": "code",
   "execution_count": 75,
   "metadata": {},
   "outputs": [],
   "source": [
    "browser = webdriver.Chrome()#(r'C:\\Users\\18668450\\Downloads\\msedgedriver.exe')\n",
    "#browser.implicitly_wait(40)\n",
    "#browser.get('https://2gis.ru/kirov/search/' + 'Амурская область' + ' сбербанк отделения')"
   ]
  },
  {
   "cell_type": "code",
   "execution_count": 76,
   "metadata": {},
   "outputs": [
    {
     "name": "stdout",
     "output_type": "stream",
     "text": [
      ">>>>>>>>>>>>>>>>>>>>>>>>>>>>>>>>>>>>>>>>>>>>>>>>>>>>>>>>>>>>>>>>>>>>>>>>>>>>>>>>>>>>>>>\n"
     ]
    },
    {
     "ename": "NameError",
     "evalue": "name 'oblasty' is not defined",
     "output_type": "error",
     "traceback": [
      "\u001b[1;31m---------------------------------------------------------------------------\u001b[0m",
      "\u001b[1;31mNameError\u001b[0m                                 Traceback (most recent call last)",
      "Cell \u001b[1;32mIn[76], line 12\u001b[0m\n\u001b[0;32m     10\u001b[0m qwerty2\u001b[38;5;241m=\u001b[39mbrowser\u001b[38;5;241m.\u001b[39mfind_elements(By\u001b[38;5;241m.\u001b[39mXPATH,\u001b[38;5;124m\"\u001b[39m\u001b[38;5;124m//div[@class=\u001b[39m\u001b[38;5;124m'\u001b[39m\u001b[38;5;124m_ubuirc\u001b[39m\u001b[38;5;124m'\u001b[39m\u001b[38;5;124m]/form/div/input\u001b[39m\u001b[38;5;124m\"\u001b[39m)\n\u001b[0;32m     11\u001b[0m qwerty2[\u001b[38;5;241m0\u001b[39m]\u001b[38;5;241m.\u001b[39mclick()\n\u001b[1;32m---> 12\u001b[0m qwerty2[\u001b[38;5;241m0\u001b[39m]\u001b[38;5;241m.\u001b[39msend_keys(oblasty[\u001b[38;5;124m'\u001b[39m\u001b[38;5;124mобласть\u001b[39m\u001b[38;5;124m'\u001b[39m][obl] \u001b[38;5;241m+\u001b[39m \u001b[38;5;124m'\u001b[39m\u001b[38;5;124m сбербанк банкомат\u001b[39m\u001b[38;5;124m'\u001b[39m)\n\u001b[0;32m     13\u001b[0m qwerty2[\u001b[38;5;241m0\u001b[39m]\u001b[38;5;241m.\u001b[39msend_keys(Keys\u001b[38;5;241m.\u001b[39mENTER)\n\u001b[0;32m     14\u001b[0m time\u001b[38;5;241m.\u001b[39msleep(\u001b[38;5;241m2\u001b[39m)\n",
      "\u001b[1;31mNameError\u001b[0m: name 'oblasty' is not defined"
     ]
    }
   ],
   "source": [
    "#НОВАЯ ВЕРСИЯ\n",
    "for obl in range(0, 1):#len(oblasty)):\n",
    "    #print(oblasty['область'][obl])\n",
    "    print('>>>>>>>>>>>>>>>>>>>>>>>>>>>>>>>>>>>>>>>>>>>>>>>>>>>>>>>>>>>>>>>>>>>>>>>>>>>>>>>>>>>>>>>')\n",
    "    #browser = webdriver.Chrome('chromedriver.exe')\n",
    "    #browser.implicitly_wait(40)\n",
    "    browser.get('https://2gis.ru/kirov/search/Калининградская область сбербанк банкомат')\n",
    "    qwerty=browser.find_elements(By.XPATH,\"//div[@class='_ubuirc']/form/div/div/button\")\n",
    "    qwerty[0].click()\n",
    "    qwerty2=browser.find_elements(By.XPATH,\"//div[@class='_ubuirc']/form/div/input\")\n",
    "    qwerty2[0].click()\n",
    "    qwerty2[0].send_keys(oblasty['область'][obl] + ' сбербанк банкомат')\n",
    "    qwerty2[0].send_keys(Keys.ENTER)\n",
    "    time.sleep(2)\n",
    "    \n",
    "    q1 = browser.find_elements(By.XPATH,\"//div[@class='_1667t0u']\")\n",
    "    while \"не нашлось\" not in q1[0].text:\n",
    "        #mesta1 = browser.find_elements_by_xpath(\"//span[@class='_18lf326a']\")[0].text\n",
    "        button = browser.find_elements(By.XPATH,\"//div[@class='_1gqpn8u3'][1]/button[@class='_1v8en2z'][2]\")\n",
    "        button[0].click()\n",
    "        time.sleep(1)\n",
    "        q1 = browser.find_elements(By.XPATH,\"//div[@class='_1667t0u']\")\n",
    "    butt = browser.find_elements(By.XPATH,\"//button[@class='_1v8en2z']\")\n",
    "    butt[1].click()\n",
    "    time.sleep(1)    \n",
    "    try:    \n",
    "        element = browser.find_elements(By.XPATH,\"//div[@class='_6yblqz']\")\n",
    "        browser.execute_script(\"\"\"\n",
    "        var element = arguments[0];\n",
    "        element.parentNode.removeChild(element);\n",
    "        \"\"\", element)\n",
    "    except:\n",
    "        break\n",
    "    \n",
    "    \n",
    "    nup = 1\n",
    "    mesta1 = browser.find_elements(By.XPATH,\"//span[@class='_18lf326a']\")[0].text\n",
    "    if int(mesta1)%12>0:\n",
    "        num_page = int(mesta1)//12 + 1\n",
    "    else:\n",
    "        num_page = int(mesta1)//12\n",
    "    df = pd.DataFrame(columns = ['адр','вре','тел','сай','МГН','отз'])\n",
    "    while nup<=num_page:\n",
    "        try:\n",
    "\n",
    "            filials = browser.find_elements(By.XPATH,\"//div[@class='_awwm2v']/div\")\n",
    "            #df = pd.DataFrame(columns = ['адр','вре','тел','сай','МГН','отз'])\n",
    "            for i in range (0,len(filials)):\n",
    "                if 'Реклама' in filials[i].text:\n",
    "                    pass\n",
    "                else:\n",
    "                    try:\n",
    "                        filials[i].click()\n",
    "                        time.sleep(2)\n",
    "\n",
    "\n",
    "                    #на какой случай\n",
    "\n",
    "                        #адрес\n",
    "                        pp = browser.find_elements(By.CLASS_NAME,\"_er2xx9\")\n",
    "                        dd = browser.find_elements(By.CLASS_NAME,'_1p8iqzw')\n",
    "                        ad = pp[0].text+', '+dd[len(dd)-1].text\n",
    "                        #время работы, телефон, сайт\n",
    "                        time.sleep(2)\n",
    "                        d = browser.find_elements(By.CLASS_NAME,'_49kxlr')\n",
    "                        if 'Филиал закрыт'  in filials[i].text:\n",
    "                            b = \"Филиал закрыт для посещений\"\n",
    "                            l = d[2].text\n",
    "                            d[1].click()\n",
    "                            w = browser.find_elements(By.CLASS_NAME,'_b0ke8')\n",
    "                            k=''\n",
    "                            for il in range(0,len(w)):\n",
    "                                k=k+' '+w[il].text\n",
    "                        elif 'Круглосуточно' in filials[i].text:\n",
    "                            b = \"Круглосуточно\"\n",
    "                            l = d[3].text\n",
    "                            d[2].click()\n",
    "                            w = browser.find_elements(By.CLASS_NAME,'_b0ke8')\n",
    "                            k=''\n",
    "                            for il in range(0,len(w)):\n",
    "                                k=k+' '+w[il].text\n",
    "                        else:\n",
    "                            try:\n",
    "                                sth = browser.find_elements(By.XPATH,'//div[@class=\"_15t9xwf\"][2]/div/div/div[@class=\"_z3fqkm\"]')\n",
    "                                sth[0].click()\n",
    "                                b=browser.find_elements(By.XPATH,'//div[@class=\"_18zamfw\"]')[0].text\n",
    "                                l = d[3].text\n",
    "                                d[2].click()\n",
    "                                w = browser.find_elements(By.CLASS_NAME,'_b0ke8')\n",
    "                                k=''\n",
    "                                for il in range(0,len(w)):\n",
    "                                    k=k+' '+w[il].text\n",
    "                            except: \n",
    "                                b='нет режима работы'\n",
    "                                l = d[2].text\n",
    "                                d[1].click()\n",
    "                                w = browser.find_elements(By.CLASS_NAME,'_b0ke8')\n",
    "                                k=''\n",
    "                                for il in range(0,len(w)):\n",
    "                                    k=k+' '+w[il].text\n",
    "                        #переход на вкладку Инфо\n",
    "                        e = browser.find_elements(By.CLASS_NAME,'_ke2cp9k')\n",
    "                        e[0].click()\n",
    "                        #ММГН\n",
    "                        f = browser.find_elements(By.XPATH,'//span[@class=\"_btwk9a2\"]')\n",
    "                        g=f[0].text\n",
    "                        #переход на вкладку Отзывы\n",
    "                        e[1].click()\n",
    "                        #ждем\n",
    "                        time.sleep(1)\n",
    "                        #кол-во отзывов\n",
    "                        ot = browser.find_elements(By.CLASS_NAME,'_18lf326a')\n",
    "                        if len(ot)==2:\n",
    "                            #кол-во скролов\n",
    "                            scr_n = int(ot[1].text)//12 +1\n",
    "                            scr = browser.find_elements(By.XPATH,\"//div[@class='_1667t0u']/div[1]/div[1]\")\n",
    "                            ###SCROLL###\n",
    "                            for sn in range (0,scr_n+1):\n",
    "                                browser.execute_script(\"arguments[0].scrollTop=arguments[0].scrollHeight\",scr[1])\n",
    "                                time.sleep(1)\n",
    "                                sn=sn+1\n",
    "                            o = browser.find_elements(By.CLASS_NAME,'_1fgfff')\n",
    "                            for ji in range(0,len(o)):\n",
    "                                q = pd.DataFrame([[ad,b,k,l,g,o[ji].text]],columns = ['адр','вре','тел','сай','МГН','отз'])\n",
    "                                df = df.append(q, ignore_index=True)\n",
    "                        else:\n",
    "                            q = pd.DataFrame([[ad,b,k,l,g,'Нет отзывов']],columns = ['адр','вре','тел','сай','МГН','отз'])\n",
    "                            df = df.append(q, ignore_index=True)\n",
    "\n",
    "                        print(q)\n",
    "                    #except \"все остальные\"\n",
    "                    except Exception as e:\n",
    "                        print(i,e)\n",
    "                        pass\n",
    "                    except ElementClickInterceptedException:\n",
    "                        print('ОШИБКА_________________________________________2')\n",
    "                        continue\n",
    "\n",
    "\n",
    "            #if nup ==num_page:################\n",
    "            if num_page == 1:\n",
    "                print('Одна страница')\n",
    "                break\n",
    "            else:\n",
    "                if nup == 1:\n",
    "                    browser.find_elements(By.XPATH,\"//div[@class='_n5hmn94']\")[0].click()\n",
    "                if nup == num_page:\n",
    "                    print('последняя страница')\n",
    "                    break\n",
    "                if nup != 1 and nup!=num_page:\n",
    "                    browser.find_elements(By.XPATH,\"//div[@class='_n5hmn94']\")[1].click()\n",
    "                time.sleep(2)\n",
    "                nup +=1\n",
    "\n",
    "\n",
    "        except IndexError:\n",
    "            print('ОШИБКА_ВЫШЕЛ_ЗА_ГРАНИЦЫ_ИНДЕКСАЦИИ')\n",
    "            continue\n",
    "    break\n",
    "    df.to_excel('output\\\\'+oblasty['область'][obl]+'.xlsx')"
   ]
  },
  {
   "cell_type": "code",
   "execution_count": 92,
   "metadata": {},
   "outputs": [],
   "source": []
  },
  {
   "cell_type": "code",
   "execution_count": 93,
   "metadata": {},
   "outputs": [],
   "source": [
    "ButNext = browser.find_elements(By.XPATH,\"/html/body/div[2]/div/div/div[1]/div[1]/div[2]/div/div/div[2]/div/div/div/div[2]/div[2]/div[1]/div/div/div/div[4]/div[2]/div[2]\")"
   ]
  },
  {
   "cell_type": "code",
   "execution_count": 24,
   "metadata": {},
   "outputs": [],
   "source": [
    "ButNext[0].click()"
   ]
  },
  {
   "cell_type": "code",
   "execution_count": 72,
   "metadata": {},
   "outputs": [],
   "source": []
  },
  {
   "cell_type": "code",
   "execution_count": 94,
   "metadata": {},
   "outputs": [
    {
     "name": "stdout",
     "output_type": "stream",
     "text": [
      "1\n",
      "2\n",
      "3\n",
      "4\n",
      "5\n",
      "6\n",
      "7\n",
      "8\n",
      "9\n",
      "10\n",
      "11\n",
      "12\n",
      "13\n",
      "14\n",
      "15\n",
      "16\n",
      "17\n",
      "18\n",
      "19\n",
      "20\n",
      "21\n",
      "22\n"
     ]
    },
    {
     "ename": "TimeoutException",
     "evalue": "Message: script timeout\n  (Session info: chrome=122.0.6261.94)\nStacktrace:\n\tGetHandleVerifier [0x00007FF78018AD22+56930]\n\t(No symbol) [0x00007FF7800FF622]\n\t(No symbol) [0x00007FF77FFB419D]\n\t(No symbol) [0x00007FF780038F97]\n\t(No symbol) [0x00007FF78001BC9A]\n\t(No symbol) [0x00007FF7800381E2]\n\t(No symbol) [0x00007FF78001BA43]\n\t(No symbol) [0x00007FF77FFED438]\n\t(No symbol) [0x00007FF77FFEE4D1]\n\tGetHandleVerifier [0x00007FF780506AAD+3709933]\n\tGetHandleVerifier [0x00007FF78055FFED+4075821]\n\tGetHandleVerifier [0x00007FF78055817F+4043455]\n\tGetHandleVerifier [0x00007FF780229756+706710]\n\t(No symbol) [0x00007FF78010B8FF]\n\t(No symbol) [0x00007FF780106AE4]\n\t(No symbol) [0x00007FF780106C3C]\n\t(No symbol) [0x00007FF7800F68F4]\n\tBaseThreadInitThunk [0x00007FFDDC1F7344+20]\n\tRtlUserThreadStart [0x00007FFDDD3426B1+33]\n",
     "output_type": "error",
     "traceback": [
      "\u001b[1;31m---------------------------------------------------------------------------\u001b[0m",
      "\u001b[1;31mTimeoutException\u001b[0m                          Traceback (most recent call last)",
      "Cell \u001b[1;32mIn[94], line 33\u001b[0m\n\u001b[0;32m     31\u001b[0m time\u001b[38;5;241m.\u001b[39msleep(\u001b[38;5;241m1\u001b[39m)\n\u001b[0;32m     32\u001b[0m bb\u001b[38;5;241m.\u001b[39mappend(browser\u001b[38;5;241m.\u001b[39mcurrent_url)\n\u001b[1;32m---> 33\u001b[0m browser\u001b[38;5;241m.\u001b[39mexecute_script(\u001b[38;5;124m\"\u001b[39m\u001b[38;5;124marguments[0].scrollIntoView(true);\u001b[39m\u001b[38;5;124m\"\u001b[39m, elem[\u001b[38;5;28mmin\u001b[39m(\u001b[38;5;28mlen\u001b[39m(elem)\u001b[38;5;241m-\u001b[39m\u001b[38;5;241m1\u001b[39m,i\u001b[38;5;241m+\u001b[39m\u001b[38;5;241m1\u001b[39m)])\n\u001b[0;32m     34\u001b[0m \u001b[38;5;28;01mtry\u001b[39;00m:\n\u001b[0;32m     35\u001b[0m     e \u001b[38;5;241m=\u001b[39m browser\u001b[38;5;241m.\u001b[39mfind_element(By\u001b[38;5;241m.\u001b[39mXPATH,\u001b[38;5;124m'\u001b[39m\u001b[38;5;124m/html/body/div[2]/div/div/div[1]/div[1]/div[2]/div[2]/div/div/div/div/div[2]/div[2]/div/div[1]/div/div/div/div/div[2]/div[2]/div[1]/div[1]/div/div[2]/div[2]/div\u001b[39m\u001b[38;5;124m'\u001b[39m)\n",
      "File \u001b[1;32m~\\anaconda3\\Lib\\site-packages\\selenium\\webdriver\\remote\\webdriver.py:407\u001b[0m, in \u001b[0;36mWebDriver.execute_script\u001b[1;34m(self, script, *args)\u001b[0m\n\u001b[0;32m    404\u001b[0m converted_args \u001b[38;5;241m=\u001b[39m \u001b[38;5;28mlist\u001b[39m(args)\n\u001b[0;32m    405\u001b[0m command \u001b[38;5;241m=\u001b[39m Command\u001b[38;5;241m.\u001b[39mW3C_EXECUTE_SCRIPT\n\u001b[1;32m--> 407\u001b[0m \u001b[38;5;28;01mreturn\u001b[39;00m \u001b[38;5;28mself\u001b[39m\u001b[38;5;241m.\u001b[39mexecute(command, {\u001b[38;5;124m\"\u001b[39m\u001b[38;5;124mscript\u001b[39m\u001b[38;5;124m\"\u001b[39m: script, \u001b[38;5;124m\"\u001b[39m\u001b[38;5;124margs\u001b[39m\u001b[38;5;124m\"\u001b[39m: converted_args})[\u001b[38;5;124m\"\u001b[39m\u001b[38;5;124mvalue\u001b[39m\u001b[38;5;124m\"\u001b[39m]\n",
      "File \u001b[1;32m~\\anaconda3\\Lib\\site-packages\\selenium\\webdriver\\remote\\webdriver.py:347\u001b[0m, in \u001b[0;36mWebDriver.execute\u001b[1;34m(self, driver_command, params)\u001b[0m\n\u001b[0;32m    345\u001b[0m response \u001b[38;5;241m=\u001b[39m \u001b[38;5;28mself\u001b[39m\u001b[38;5;241m.\u001b[39mcommand_executor\u001b[38;5;241m.\u001b[39mexecute(driver_command, params)\n\u001b[0;32m    346\u001b[0m \u001b[38;5;28;01mif\u001b[39;00m response:\n\u001b[1;32m--> 347\u001b[0m     \u001b[38;5;28mself\u001b[39m\u001b[38;5;241m.\u001b[39merror_handler\u001b[38;5;241m.\u001b[39mcheck_response(response)\n\u001b[0;32m    348\u001b[0m     response[\u001b[38;5;124m\"\u001b[39m\u001b[38;5;124mvalue\u001b[39m\u001b[38;5;124m\"\u001b[39m] \u001b[38;5;241m=\u001b[39m \u001b[38;5;28mself\u001b[39m\u001b[38;5;241m.\u001b[39m_unwrap_value(response\u001b[38;5;241m.\u001b[39mget(\u001b[38;5;124m\"\u001b[39m\u001b[38;5;124mvalue\u001b[39m\u001b[38;5;124m\"\u001b[39m, \u001b[38;5;28;01mNone\u001b[39;00m))\n\u001b[0;32m    349\u001b[0m     \u001b[38;5;28;01mreturn\u001b[39;00m response\n",
      "File \u001b[1;32m~\\anaconda3\\Lib\\site-packages\\selenium\\webdriver\\remote\\errorhandler.py:229\u001b[0m, in \u001b[0;36mErrorHandler.check_response\u001b[1;34m(self, response)\u001b[0m\n\u001b[0;32m    227\u001b[0m         alert_text \u001b[38;5;241m=\u001b[39m value[\u001b[38;5;124m\"\u001b[39m\u001b[38;5;124malert\u001b[39m\u001b[38;5;124m\"\u001b[39m]\u001b[38;5;241m.\u001b[39mget(\u001b[38;5;124m\"\u001b[39m\u001b[38;5;124mtext\u001b[39m\u001b[38;5;124m\"\u001b[39m)\n\u001b[0;32m    228\u001b[0m     \u001b[38;5;28;01mraise\u001b[39;00m exception_class(message, screen, stacktrace, alert_text)  \u001b[38;5;66;03m# type: ignore[call-arg]  # mypy is not smart enough here\u001b[39;00m\n\u001b[1;32m--> 229\u001b[0m \u001b[38;5;28;01mraise\u001b[39;00m exception_class(message, screen, stacktrace)\n",
      "\u001b[1;31mTimeoutException\u001b[0m: Message: script timeout\n  (Session info: chrome=122.0.6261.94)\nStacktrace:\n\tGetHandleVerifier [0x00007FF78018AD22+56930]\n\t(No symbol) [0x00007FF7800FF622]\n\t(No symbol) [0x00007FF77FFB419D]\n\t(No symbol) [0x00007FF780038F97]\n\t(No symbol) [0x00007FF78001BC9A]\n\t(No symbol) [0x00007FF7800381E2]\n\t(No symbol) [0x00007FF78001BA43]\n\t(No symbol) [0x00007FF77FFED438]\n\t(No symbol) [0x00007FF77FFEE4D1]\n\tGetHandleVerifier [0x00007FF780506AAD+3709933]\n\tGetHandleVerifier [0x00007FF78055FFED+4075821]\n\tGetHandleVerifier [0x00007FF78055817F+4043455]\n\tGetHandleVerifier [0x00007FF780229756+706710]\n\t(No symbol) [0x00007FF78010B8FF]\n\t(No symbol) [0x00007FF780106AE4]\n\t(No symbol) [0x00007FF780106C3C]\n\t(No symbol) [0x00007FF7800F68F4]\n\tBaseThreadInitThunk [0x00007FFDDC1F7344+20]\n\tRtlUserThreadStart [0x00007FFDDD3426B1+33]\n"
     ]
    }
   ],
   "source": [
    "browser.get('https://2gis.ru/kirov/search/Нижегородская область сбербанк банкомат')\n",
    "\n",
    "\n",
    "aa = []\n",
    "for c in range(200):\n",
    "    \n",
    "    print(c + 1)\n",
    "    but_next = browser.find_elements(By.CLASS_NAME,'_n5hmn94')\n",
    "    if c<0:\n",
    "        browser.execute_script(\"arguments[0].scrollIntoView(true);\", but_next[max(0,len(but_next)-1)])\n",
    "        but_next[max(0,len(but_next)-1)].click()\n",
    "        time.sleep(8)\n",
    "        continue\n",
    "    g = browser.find_element(By.CLASS_NAME,'_awwm2v')\n",
    "    elem = browser.find_elements(By.CLASS_NAME, \"_1kf6gff\")\n",
    "    \n",
    "    for i in range(len(elem)):\n",
    "        \n",
    "            \n",
    "        bb = []\n",
    "        bb.append(datetime.datetime.now())\n",
    "        try:\n",
    "            e = elem[i].find_element(By.CLASS_NAME, '_klarpw')\n",
    "        except:\n",
    "            e = elem[i].find_element(By.CLASS_NAME,'_jvhrnjy')\n",
    "        bb.append(e.text)\n",
    "        #print(e.text)\n",
    "        #print(e.get_attribute('class'))\n",
    "        \n",
    "        elem[i].click()\n",
    "        time.sleep(1)\n",
    "        bb.append(browser.current_url)\n",
    "        browser.execute_script(\"arguments[0].scrollIntoView(true);\", elem[min(len(elem)-1,i+1)])\n",
    "        try:\n",
    "            e = browser.find_element(By.XPATH,'/html/body/div[2]/div/div/div[1]/div[1]/div[2]/div[2]/div/div/div/div/div[2]/div[2]/div/div[1]/div/div/div/div/div[2]/div[2]/div[1]/div[1]/div/div[2]/div[2]/div')\n",
    "            #print(e.text)                     /html/body/div[2]/div/div/div[1]/div[1]/div[2]/div[2]/div/div/div/div/div[2]/div[2]/div/div[1]/div/div/div/div/div[2]/div[2]/div[1]/div[1]/div/div[2]/div[2]/div\n",
    "            bb.append(e.text)\n",
    "        except:\n",
    "            bb.append('')\n",
    "        but = browser.find_elements(By.CLASS_NAME,'_6e8ght')\n",
    "        but[0].click()\n",
    "        time.sleep(2)\n",
    "        e = browser.find_elements(By.CLASS_NAME,'_49kxlr')\n",
    "        for ee in e:\n",
    "            bb.append(ee.text)\n",
    "        #e2 = e.find_elements(By.XPATH,'//div[@class='']')\n",
    "        #,'/html/body/div[2]/div/div/div[1]/div[1]/div[2]/div[2]/div/div/div/div/div[2]/div[2]/div/div[1]/div/div/div/div/div[2]/div[2]/div[1]/div/div/div[1]/div[1]/div[2]/div/span')\n",
    "        #print(e.text)\n",
    "        #bb.append(e.text)\n",
    "        \n",
    "        \n",
    "        #e = browser.find_elements(By.CLASS_NAME,'_49kxlr')[3]\n",
    "        #'/html/body/div[2]/div/div/div[1]/div[1]/div[2]/div[2]/div/div/div/div/div[2]/div[2]/div/div[1]/div/div/div/div/div[2]/div[2]/div[1]/div/div/div[1]/div[2]/div[2]/div/span')\n",
    "        #print(e.text)                      \n",
    "        #bb.append(e.text)\n",
    "        #bb.append(browser.find_elements(By.CLASS_NAME,'_49kxlr')[7].text)\n",
    "        #bb.append(browser.find_elements(By.CLASS_NAME,'_49kxlr')[8].text)\n",
    "        \n",
    "        aa.append(bb)\n",
    "        \n",
    "    but_next[max(0,len(but_next)-1)].click()\n",
    "    time.sleep(5)"
   ]
  },
  {
   "cell_type": "code",
   "execution_count": 95,
   "metadata": {},
   "outputs": [],
   "source": [
    "import pandas as pd\n",
    "\n"
   ]
  },
  {
   "cell_type": "code",
   "execution_count": 96,
   "metadata": {},
   "outputs": [
    {
     "data": {
      "text/html": [
       "<div>\n",
       "<style scoped>\n",
       "    .dataframe tbody tr th:only-of-type {\n",
       "        vertical-align: middle;\n",
       "    }\n",
       "\n",
       "    .dataframe tbody tr th {\n",
       "        vertical-align: top;\n",
       "    }\n",
       "\n",
       "    .dataframe thead th {\n",
       "        text-align: right;\n",
       "    }\n",
       "</style>\n",
       "<table border=\"1\" class=\"dataframe\">\n",
       "  <thead>\n",
       "    <tr style=\"text-align: right;\">\n",
       "      <th></th>\n",
       "      <th>0</th>\n",
       "      <th>1</th>\n",
       "      <th>2</th>\n",
       "      <th>3</th>\n",
       "      <th>4</th>\n",
       "      <th>5</th>\n",
       "      <th>6</th>\n",
       "      <th>7</th>\n",
       "      <th>8</th>\n",
       "      <th>9</th>\n",
       "      <th>10</th>\n",
       "      <th>11</th>\n",
       "      <th>12</th>\n",
       "      <th>13</th>\n",
       "      <th>14</th>\n",
       "      <th>15</th>\n",
       "      <th>16</th>\n",
       "      <th>17</th>\n",
       "    </tr>\n",
       "  </thead>\n",
       "  <tbody>\n",
       "    <tr>\n",
       "      <th>0</th>\n",
       "      <td>Улица Белинского, 69, Нижний Новгород304 филиала</td>\n",
       "      <td>https://2gis.ru/n_novgorod/search/%D0%9D%D0%B8...</td>\n",
       "      <td>Ежедневно с 05:00 до 24:00\\nОткрыто</td>\n",
       "      <td>Банкоматы</td>\n",
       "      <td>Бесконтактное обслуживание (NFC)Приём наличных...</td>\n",
       "      <td>Доступная среда</td>\n",
       "      <td>Подходит для незрячих и слабовидящихДоступный ...</td>\n",
       "      <td>В справочнике</td>\n",
       "      <td>Банкоматы</td>\n",
       "      <td>Транспорт</td>\n",
       "      <td>Полтавская\\n1 мин150 м</td>\n",
       "      <td>16 парковок</td>\n",
       "      <td>2024-03-04 15:45:41.466087</td>\n",
       "      <td>None</td>\n",
       "      <td>None</td>\n",
       "      <td>None</td>\n",
       "      <td>None</td>\n",
       "      <td>NaT</td>\n",
       "    </tr>\n",
       "    <tr>\n",
       "      <th>1</th>\n",
       "      <td>Большая Покровская, 13/1, Нижний Новгород304 ф...</td>\n",
       "      <td>https://2gis.ru/n_novgorod/search/%D0%9D%D0%B8...</td>\n",
       "      <td>Сегодня c 08:00 до 22:00\\nОткрыто</td>\n",
       "      <td>Банкоматы</td>\n",
       "      <td>Бесконтактное обслуживание (NFC)Приём наличных...</td>\n",
       "      <td>Доступная среда</td>\n",
       "      <td>Подходит для незрячих и слабовидящих</td>\n",
       "      <td>В справочнике</td>\n",
       "      <td>Банкоматы</td>\n",
       "      <td>Транспорт</td>\n",
       "      <td>Горьковская\\n16 мин1.5 км</td>\n",
       "      <td>11 парковок</td>\n",
       "      <td>2024-03-04 15:45:46.335784</td>\n",
       "      <td>None</td>\n",
       "      <td>None</td>\n",
       "      <td>None</td>\n",
       "      <td>None</td>\n",
       "      <td>NaT</td>\n",
       "    </tr>\n",
       "    <tr>\n",
       "      <th>2</th>\n",
       "      <td>Площадь Максима Горького, 4, Нижний Новгород30...</td>\n",
       "      <td>https://2gis.ru/n_novgorod/search/%D0%9D%D0%B8...</td>\n",
       "      <td>Круглосуточно</td>\n",
       "      <td>Банкоматы</td>\n",
       "      <td>Бесконтактное обслуживание (NFC)Приём наличных...</td>\n",
       "      <td>Доступная среда</td>\n",
       "      <td>Подходит для незрячих и слабовидящихДоступный ...</td>\n",
       "      <td>В справочнике</td>\n",
       "      <td>Банкоматы</td>\n",
       "      <td>Транспорт</td>\n",
       "      <td>Горьковская\\n6 мин500 м</td>\n",
       "      <td>12 парковок</td>\n",
       "      <td>2024-03-04 15:45:50.442050</td>\n",
       "      <td>None</td>\n",
       "      <td>None</td>\n",
       "      <td>None</td>\n",
       "      <td>None</td>\n",
       "      <td>NaT</td>\n",
       "    </tr>\n",
       "    <tr>\n",
       "      <th>3</th>\n",
       "      <td>Улица Белинского, 38, Нижний Новгород304 филиала</td>\n",
       "      <td>https://2gis.ru/n_novgorod/search/%D0%9D%D0%B8...</td>\n",
       "      <td>Круглосуточно</td>\n",
       "      <td>Банкоматы</td>\n",
       "      <td>Бесконтактное обслуживание (NFC)Приём наличных...</td>\n",
       "      <td>Доступная среда</td>\n",
       "      <td>Подходит для незрячих и слабовидящихДоступный ...</td>\n",
       "      <td>В справочнике</td>\n",
       "      <td>Банкоматы</td>\n",
       "      <td>Транспорт</td>\n",
       "      <td>Горьковская\\n7 мин600 м</td>\n",
       "      <td>15 парковок</td>\n",
       "      <td>2024-03-04 15:45:55.030503</td>\n",
       "      <td>None</td>\n",
       "      <td>None</td>\n",
       "      <td>None</td>\n",
       "      <td>None</td>\n",
       "      <td>NaT</td>\n",
       "    </tr>\n",
       "    <tr>\n",
       "      <th>4</th>\n",
       "      <td>Небо, Большая Покровская, 82, Нижний Новгород3...</td>\n",
       "      <td>https://2gis.ru/n_novgorod/search/%D0%9D%D0%B8...</td>\n",
       "      <td>Ежедневно с 08:00 до 23:00\\nОткрыто</td>\n",
       "      <td>Банкоматы</td>\n",
       "      <td>Бесконтактное обслуживание (NFC)Приём наличных...</td>\n",
       "      <td>Доступная среда</td>\n",
       "      <td>Подходит для незрячих и слабовидящихДоступный ...</td>\n",
       "      <td>В справочнике</td>\n",
       "      <td>Банкоматы</td>\n",
       "      <td>Парковка</td>\n",
       "      <td>500 местПлатная</td>\n",
       "      <td>30 местБесплатная</td>\n",
       "      <td>Транспорт</td>\n",
       "      <td>Горьковская\\n12 мин1 км</td>\n",
       "      <td>1 парковка</td>\n",
       "      <td>2024-03-04 15:45:59.805976</td>\n",
       "      <td>None</td>\n",
       "      <td>NaT</td>\n",
       "    </tr>\n",
       "    <tr>\n",
       "      <th>...</th>\n",
       "      <td>...</td>\n",
       "      <td>...</td>\n",
       "      <td>...</td>\n",
       "      <td>...</td>\n",
       "      <td>...</td>\n",
       "      <td>...</td>\n",
       "      <td>...</td>\n",
       "      <td>...</td>\n",
       "      <td>...</td>\n",
       "      <td>...</td>\n",
       "      <td>...</td>\n",
       "      <td>...</td>\n",
       "      <td>...</td>\n",
       "      <td>...</td>\n",
       "      <td>...</td>\n",
       "      <td>...</td>\n",
       "      <td>...</td>\n",
       "      <td>...</td>\n",
       "    </tr>\n",
       "    <tr>\n",
       "      <th>232</th>\n",
       "      <td>Литвинова, 74 к30, Нижний Новгород304 филиала</td>\n",
       "      <td>https://2gis.ru/n_novgorod/search/%D0%9D%D0%B8...</td>\n",
       "      <td>Сегодня c 08:00 до 17:00\\nЗакроется через 38 м...</td>\n",
       "      <td>Банкоматы</td>\n",
       "      <td>Бесконтактное обслуживание (NFC)Приём наличных...</td>\n",
       "      <td>Доступная среда</td>\n",
       "      <td>Подходит для незрячих и слабовидящих</td>\n",
       "      <td>В справочнике</td>\n",
       "      <td>Банкоматы</td>\n",
       "      <td>Транспорт</td>\n",
       "      <td>Московская\\n9 мин800 м</td>\n",
       "      <td>Чкаловская\\n11 мин1 км</td>\n",
       "      <td>Московская\\n13 мин1 км</td>\n",
       "      <td>4 парковки</td>\n",
       "      <td>2024-03-04 16:25:05.613279</td>\n",
       "      <td>None</td>\n",
       "      <td>None</td>\n",
       "      <td>NaT</td>\n",
       "    </tr>\n",
       "    <tr>\n",
       "      <th>233</th>\n",
       "      <td>Сормовское шоссе, 1а, Нижний Новгород304 филиала</td>\n",
       "      <td>https://2gis.ru/n_novgorod/search/%D0%9D%D0%B8...</td>\n",
       "      <td>Ежедневно с 08:00 до 18:00\\nОткрыто</td>\n",
       "      <td>Банкоматы</td>\n",
       "      <td>Бесконтактное обслуживание (NFC)Без приёма нал...</td>\n",
       "      <td>Доступная среда</td>\n",
       "      <td>Подходит для незрячих и слабовидящих</td>\n",
       "      <td>В справочнике</td>\n",
       "      <td>Банкоматы</td>\n",
       "      <td>Транспорт</td>\n",
       "      <td>Бурнаковская\\n9 мин800 м</td>\n",
       "      <td>Буревестник\\n10 мин900 м</td>\n",
       "      <td>3 парковки</td>\n",
       "      <td>2024-03-04 16:25:11.609075</td>\n",
       "      <td>None</td>\n",
       "      <td>None</td>\n",
       "      <td>None</td>\n",
       "      <td>NaT</td>\n",
       "    </tr>\n",
       "    <tr>\n",
       "      <th>234</th>\n",
       "      <td>Кремль, 4, Нижний Новгород304 филиала</td>\n",
       "      <td>https://2gis.ru/n_novgorod/search/%D0%9D%D0%B8...</td>\n",
       "      <td>Сегодня c 08:00 до 17:00\\nЗакроется через 35 м...</td>\n",
       "      <td>Банкоматы</td>\n",
       "      <td>Бесконтактное обслуживание (NFC)</td>\n",
       "      <td>В справочнике</td>\n",
       "      <td>Банкоматы</td>\n",
       "      <td>Транспорт</td>\n",
       "      <td>Пл. Минина и Пожарского\\n3 мин250 м</td>\n",
       "      <td>3 парковки</td>\n",
       "      <td>2024-03-04 16:25:16.290299</td>\n",
       "      <td>None</td>\n",
       "      <td>None</td>\n",
       "      <td>None</td>\n",
       "      <td>None</td>\n",
       "      <td>None</td>\n",
       "      <td>None</td>\n",
       "      <td>NaT</td>\n",
       "    </tr>\n",
       "    <tr>\n",
       "      <th>235</th>\n",
       "      <td>Спутник, Зайцева улица, 15а, Нижний Новгород30...</td>\n",
       "      <td>https://2gis.ru/n_novgorod/search/%D0%9D%D0%B8...</td>\n",
       "      <td>Ежедневно с 07:30 до 22:00\\nОткрыто</td>\n",
       "      <td>Банкоматы</td>\n",
       "      <td>Бесконтактное обслуживание (NFC)Без приёма нал...</td>\n",
       "      <td>Доступная среда</td>\n",
       "      <td>Подходит для незрячих и слабовидящих</td>\n",
       "      <td>В справочнике</td>\n",
       "      <td>Банкоматы</td>\n",
       "      <td>Парковка</td>\n",
       "      <td>15 местБесплатная</td>\n",
       "      <td>Транспорт</td>\n",
       "      <td>Магазин Горьковские товары\\n3 мин250 м</td>\n",
       "      <td>13 парковок</td>\n",
       "      <td>2024-03-04 16:25:20.607629</td>\n",
       "      <td>None</td>\n",
       "      <td>None</td>\n",
       "      <td>NaT</td>\n",
       "    </tr>\n",
       "    <tr>\n",
       "      <th>236</th>\n",
       "      <td>Львовская, 7, Нижний Новгород304 филиала</td>\n",
       "      <td>https://2gis.ru/n_novgorod/search/%D0%9D%D0%B8...</td>\n",
       "      <td>Ежедневно с 07:00 до 22:00\\nОткрыто</td>\n",
       "      <td>Банкоматы</td>\n",
       "      <td>Бесконтактное обслуживание (NFC)Приём наличных...</td>\n",
       "      <td>Доступная среда</td>\n",
       "      <td>Подходит для незрячих и слабовидящих</td>\n",
       "      <td>В справочнике</td>\n",
       "      <td>Банкоматы</td>\n",
       "      <td>Транспорт</td>\n",
       "      <td>Дружаева\\n1 мин80 м</td>\n",
       "      <td>6 парковок</td>\n",
       "      <td>2024-03-04 16:25:25.037370</td>\n",
       "      <td>None</td>\n",
       "      <td>None</td>\n",
       "      <td>None</td>\n",
       "      <td>None</td>\n",
       "      <td>NaT</td>\n",
       "    </tr>\n",
       "  </tbody>\n",
       "</table>\n",
       "<p>237 rows × 18 columns</p>\n",
       "</div>"
      ],
      "text/plain": [
       "                                                    0   \\\n",
       "0     Улица Белинского, 69, Нижний Новгород304 филиала   \n",
       "1    Большая Покровская, 13/1, Нижний Новгород304 ф...   \n",
       "2    Площадь Максима Горького, 4, Нижний Новгород30...   \n",
       "3     Улица Белинского, 38, Нижний Новгород304 филиала   \n",
       "4    Небо, Большая Покровская, 82, Нижний Новгород3...   \n",
       "..                                                 ...   \n",
       "232      Литвинова, 74 к30, Нижний Новгород304 филиала   \n",
       "233   Сормовское шоссе, 1а, Нижний Новгород304 филиала   \n",
       "234              Кремль, 4, Нижний Новгород304 филиала   \n",
       "235  Спутник, Зайцева улица, 15а, Нижний Новгород30...   \n",
       "236           Львовская, 7, Нижний Новгород304 филиала   \n",
       "\n",
       "                                                    1   \\\n",
       "0    https://2gis.ru/n_novgorod/search/%D0%9D%D0%B8...   \n",
       "1    https://2gis.ru/n_novgorod/search/%D0%9D%D0%B8...   \n",
       "2    https://2gis.ru/n_novgorod/search/%D0%9D%D0%B8...   \n",
       "3    https://2gis.ru/n_novgorod/search/%D0%9D%D0%B8...   \n",
       "4    https://2gis.ru/n_novgorod/search/%D0%9D%D0%B8...   \n",
       "..                                                 ...   \n",
       "232  https://2gis.ru/n_novgorod/search/%D0%9D%D0%B8...   \n",
       "233  https://2gis.ru/n_novgorod/search/%D0%9D%D0%B8...   \n",
       "234  https://2gis.ru/n_novgorod/search/%D0%9D%D0%B8...   \n",
       "235  https://2gis.ru/n_novgorod/search/%D0%9D%D0%B8...   \n",
       "236  https://2gis.ru/n_novgorod/search/%D0%9D%D0%B8...   \n",
       "\n",
       "                                                    2          3   \\\n",
       "0                  Ежедневно с 05:00 до 24:00\\nОткрыто  Банкоматы   \n",
       "1                    Сегодня c 08:00 до 22:00\\nОткрыто  Банкоматы   \n",
       "2                                        Круглосуточно  Банкоматы   \n",
       "3                                        Круглосуточно  Банкоматы   \n",
       "4                  Ежедневно с 08:00 до 23:00\\nОткрыто  Банкоматы   \n",
       "..                                                 ...        ...   \n",
       "232  Сегодня c 08:00 до 17:00\\nЗакроется через 38 м...  Банкоматы   \n",
       "233                Ежедневно с 08:00 до 18:00\\nОткрыто  Банкоматы   \n",
       "234  Сегодня c 08:00 до 17:00\\nЗакроется через 35 м...  Банкоматы   \n",
       "235                Ежедневно с 07:30 до 22:00\\nОткрыто  Банкоматы   \n",
       "236                Ежедневно с 07:00 до 22:00\\nОткрыто  Банкоматы   \n",
       "\n",
       "                                                    4                5   \\\n",
       "0    Бесконтактное обслуживание (NFC)Приём наличных...  Доступная среда   \n",
       "1    Бесконтактное обслуживание (NFC)Приём наличных...  Доступная среда   \n",
       "2    Бесконтактное обслуживание (NFC)Приём наличных...  Доступная среда   \n",
       "3    Бесконтактное обслуживание (NFC)Приём наличных...  Доступная среда   \n",
       "4    Бесконтактное обслуживание (NFC)Приём наличных...  Доступная среда   \n",
       "..                                                 ...              ...   \n",
       "232  Бесконтактное обслуживание (NFC)Приём наличных...  Доступная среда   \n",
       "233  Бесконтактное обслуживание (NFC)Без приёма нал...  Доступная среда   \n",
       "234                   Бесконтактное обслуживание (NFC)    В справочнике   \n",
       "235  Бесконтактное обслуживание (NFC)Без приёма нал...  Доступная среда   \n",
       "236  Бесконтактное обслуживание (NFC)Приём наличных...  Доступная среда   \n",
       "\n",
       "                                                    6              7   \\\n",
       "0    Подходит для незрячих и слабовидящихДоступный ...  В справочнике   \n",
       "1                 Подходит для незрячих и слабовидящих  В справочнике   \n",
       "2    Подходит для незрячих и слабовидящихДоступный ...  В справочнике   \n",
       "3    Подходит для незрячих и слабовидящихДоступный ...  В справочнике   \n",
       "4    Подходит для незрячих и слабовидящихДоступный ...  В справочнике   \n",
       "..                                                 ...            ...   \n",
       "232               Подходит для незрячих и слабовидящих  В справочнике   \n",
       "233               Подходит для незрячих и слабовидящих  В справочнике   \n",
       "234                                          Банкоматы      Транспорт   \n",
       "235               Подходит для незрячих и слабовидящих  В справочнике   \n",
       "236               Подходит для незрячих и слабовидящих  В справочнике   \n",
       "\n",
       "                                      8           9   \\\n",
       "0                              Банкоматы   Транспорт   \n",
       "1                              Банкоматы   Транспорт   \n",
       "2                              Банкоматы   Транспорт   \n",
       "3                              Банкоматы   Транспорт   \n",
       "4                              Банкоматы    Парковка   \n",
       "..                                   ...         ...   \n",
       "232                            Банкоматы   Транспорт   \n",
       "233                            Банкоматы   Транспорт   \n",
       "234  Пл. Минина и Пожарского\\n3 мин250 м  3 парковки   \n",
       "235                            Банкоматы    Парковка   \n",
       "236                            Банкоматы   Транспорт   \n",
       "\n",
       "                             10                        11  \\\n",
       "0        Полтавская\\n1 мин150 м               16 парковок   \n",
       "1     Горьковская\\n16 мин1.5 км               11 парковок   \n",
       "2       Горьковская\\n6 мин500 м               12 парковок   \n",
       "3       Горьковская\\n7 мин600 м               15 парковок   \n",
       "4               500 местПлатная         30 местБесплатная   \n",
       "..                          ...                       ...   \n",
       "232      Московская\\n9 мин800 м    Чкаловская\\n11 мин1 км   \n",
       "233    Бурнаковская\\n9 мин800 м  Буревестник\\n10 мин900 м   \n",
       "234  2024-03-04 16:25:16.290299                      None   \n",
       "235           15 местБесплатная                 Транспорт   \n",
       "236         Дружаева\\n1 мин80 м                6 парковок   \n",
       "\n",
       "                                         12                          13  \\\n",
       "0                2024-03-04 15:45:41.466087                        None   \n",
       "1                2024-03-04 15:45:46.335784                        None   \n",
       "2                2024-03-04 15:45:50.442050                        None   \n",
       "3                2024-03-04 15:45:55.030503                        None   \n",
       "4                                 Транспорт     Горьковская\\n12 мин1 км   \n",
       "..                                      ...                         ...   \n",
       "232                  Московская\\n13 мин1 км                  4 парковки   \n",
       "233                              3 парковки  2024-03-04 16:25:11.609075   \n",
       "234                                    None                        None   \n",
       "235  Магазин Горьковские товары\\n3 мин250 м                 13 парковок   \n",
       "236              2024-03-04 16:25:25.037370                        None   \n",
       "\n",
       "                             14                          15    16  17  \n",
       "0                          None                        None  None NaT  \n",
       "1                          None                        None  None NaT  \n",
       "2                          None                        None  None NaT  \n",
       "3                          None                        None  None NaT  \n",
       "4                    1 парковка  2024-03-04 15:45:59.805976  None NaT  \n",
       "..                          ...                         ...   ...  ..  \n",
       "232  2024-03-04 16:25:05.613279                        None  None NaT  \n",
       "233                        None                        None  None NaT  \n",
       "234                        None                        None  None NaT  \n",
       "235  2024-03-04 16:25:20.607629                        None  None NaT  \n",
       "236                        None                        None  None NaT  \n",
       "\n",
       "[237 rows x 18 columns]"
      ]
     },
     "execution_count": 96,
     "metadata": {},
     "output_type": "execute_result"
    }
   ],
   "source": [
    "df"
   ]
  },
  {
   "cell_type": "code",
   "execution_count": 87,
   "metadata": {},
   "outputs": [
    {
     "data": {
      "text/plain": [
       "datetime.datetime(2024, 3, 4, 15, 39, 43, 86930)"
      ]
     },
     "execution_count": 87,
     "metadata": {},
     "output_type": "execute_result"
    }
   ],
   "source": [
    "import datetime\n",
    "datetime.datetime.now()"
   ]
  },
  {
   "cell_type": "code",
   "execution_count": 89,
   "metadata": {},
   "outputs": [],
   "source": [
    "elem = browser.find_elements(By.CLASS_NAME, \"_1kf6gff\")"
   ]
  },
  {
   "cell_type": "code",
   "execution_count": 93,
   "metadata": {},
   "outputs": [],
   "source": [
    "browser.execute_script(\"arguments[0].scrollIntoView(true);\", elem[min(len(elem)-1,i+1)])"
   ]
  },
  {
   "cell_type": "code",
   "execution_count": 12,
   "metadata": {},
   "outputs": [],
   "source": [
    "df.to_excel('GOOGLE.xlsx',index=False)"
   ]
  },
  {
   "cell_type": "code",
   "execution_count": 191,
   "metadata": {},
   "outputs": [],
   "source": []
  },
  {
   "cell_type": "code",
   "execution_count": 194,
   "metadata": {},
   "outputs": [],
   "source": []
  },
  {
   "cell_type": "code",
   "execution_count": 117,
   "metadata": {},
   "outputs": [],
   "source": [
    "browser.execute_script(\"arguments[0].scrollIntoView(true);\", but);"
   ]
  },
  {
   "cell_type": "code",
   "execution_count": 135,
   "metadata": {},
   "outputs": [
    {
     "data": {
      "text/plain": [
       "'_49kxlr'"
      ]
     },
     "execution_count": 135,
     "metadata": {},
     "output_type": "execute_result"
    }
   ],
   "source": [
    "browser.find_elements(By.XPATH, \"/html/body/div[2]/div/div/div[1]/div[1]/div[2]/div[2]/div/div/div/div/div[2]/div[2]/div/div[1]/div/div/div/div/div[2]/div[2]/div[1]/div/div/div[1]/div[1]/div[2]/div\")[0].get_attribute('class')"
   ]
  },
  {
   "cell_type": "code",
   "execution_count": 148,
   "metadata": {},
   "outputs": [
    {
     "data": {
      "text/plain": [
       "'Бесконтактное обслуживание (NFC)Приём наличныхОплата кредитов'"
      ]
     },
     "execution_count": 148,
     "metadata": {},
     "output_type": "execute_result"
    }
   ],
   "source": [
    "browser.find_elements(By.CLASS_NAME,'_49kxlr')[1].text"
   ]
  },
  {
   "cell_type": "code",
   "execution_count": 174,
   "metadata": {},
   "outputs": [],
   "source": [
    "but_next = browser.find_elements(By.CLASS_NAME,'_n5hmn94')"
   ]
  },
  {
   "cell_type": "code",
   "execution_count": 67,
   "metadata": {},
   "outputs": [],
   "source": [
    "import pandas as pd\n",
    "import time\n",
    "from selenium import webdriver\n",
    "from selenium.webdriver.common.by import By\n",
    "from selenium.common.exceptions import ElementClickInterceptedException,StaleElementReferenceException\n",
    "from selenium.webdriver.common.keys import Keys\n",
    "from selenium.webdriver.common.action_chains import ActionChains\n",
    "import pyautogui"
   ]
  },
  {
   "cell_type": "code",
   "execution_count": 68,
   "metadata": {},
   "outputs": [],
   "source": [
    "browser = webdriver.Chrome()\n",
    "browser.get('https://www.google.com/maps/search/Камчатский+край+сбербанк+банкомат')"
   ]
  },
  {
   "cell_type": "code",
   "execution_count": 72,
   "metadata": {},
   "outputs": [
    {
     "name": "stdout",
     "output_type": "stream",
     "text": [
      "0\n",
      "1\n",
      "2\n",
      "3\n",
      "4\n",
      "5\n",
      "6\n",
      "7\n",
      "8\n",
      "9\n",
      "10\n",
      "11\n",
      "12\n",
      "13\n",
      "14\n",
      "15\n",
      "16\n",
      "17\n",
      "18\n",
      "19\n",
      "20\n",
      "21\n",
      "22\n",
      "23\n",
      "24\n",
      "25\n",
      "26\n",
      "27\n",
      "28\n",
      "29\n",
      "30\n",
      "31\n",
      "32\n",
      "33\n",
      "34\n",
      "35\n",
      "36\n",
      "37\n",
      "38\n",
      "39\n",
      "40\n",
      "41\n",
      "42\n",
      "43\n",
      "44\n",
      "45\n",
      "46\n",
      "47\n",
      "48\n",
      "49\n",
      "50\n",
      "51\n",
      "52\n",
      "53\n",
      "54\n",
      "55\n",
      "56\n",
      "57\n",
      "58\n",
      "59\n",
      "60\n",
      "61\n",
      "62\n",
      "63\n",
      "64\n",
      "65\n",
      "66\n",
      "67\n",
      "68\n",
      "69\n",
      "70\n",
      "71\n",
      "72\n",
      "73\n",
      "74\n",
      "75\n",
      "76\n",
      "77\n",
      "78\n",
      "79\n",
      "80\n",
      "81\n",
      "82\n",
      "83\n",
      "84\n",
      "85\n",
      "86\n",
      "87\n",
      "88\n"
     ]
    },
    {
     "ename": "WebDriverException",
     "evalue": "Message: disconnected: not connected to DevTools\n  (failed to check if window was closed: disconnected: not connected to DevTools)\n  (Session info: chrome=122.0.6261.94)\nStacktrace:\n\tGetHandleVerifier [0x00007FF78018AD22+56930]\n\t(No symbol) [0x00007FF7800FF622]\n\t(No symbol) [0x00007FF77FFB42E5]\n\t(No symbol) [0x00007FF77FFA191F]\n\t(No symbol) [0x00007FF77FFA1490]\n\t(No symbol) [0x00007FF77FFB6411]\n\t(No symbol) [0x00007FF7800378B9]\n\t(No symbol) [0x00007FF78001BA43]\n\t(No symbol) [0x00007FF77FFED438]\n\t(No symbol) [0x00007FF77FFEE4D1]\n\tGetHandleVerifier [0x00007FF780506AAD+3709933]\n\tGetHandleVerifier [0x00007FF78055FFED+4075821]\n\tGetHandleVerifier [0x00007FF78055817F+4043455]\n\tGetHandleVerifier [0x00007FF780229756+706710]\n\t(No symbol) [0x00007FF78010B8FF]\n\t(No symbol) [0x00007FF780106AE4]\n\t(No symbol) [0x00007FF780106C3C]\n\t(No symbol) [0x00007FF7800F68F4]\n\tBaseThreadInitThunk [0x00007FFDDC1F7344+20]\n\tRtlUserThreadStart [0x00007FFDDD3426B1+33]\n",
     "output_type": "error",
     "traceback": [
      "\u001b[1;31m---------------------------------------------------------------------------\u001b[0m",
      "\u001b[1;31mWebDriverException\u001b[0m                        Traceback (most recent call last)",
      "Cell \u001b[1;32mIn[72], line 95\u001b[0m\n\u001b[0;32m     93\u001b[0m     but[\u001b[38;5;241m0\u001b[39m]\u001b[38;5;241m.\u001b[39mclick()  \n\u001b[0;32m     94\u001b[0m time\u001b[38;5;241m.\u001b[39msleep(\u001b[38;5;241m9\u001b[39m)\n\u001b[1;32m---> 95\u001b[0m back \u001b[38;5;241m=\u001b[39m browser\u001b[38;5;241m.\u001b[39mfind_elements(By\u001b[38;5;241m.\u001b[39mCLASS_NAME,\u001b[38;5;124m'\u001b[39m\u001b[38;5;124mbDDiq\u001b[39m\u001b[38;5;124m'\u001b[39m)\n\u001b[0;32m     96\u001b[0m back[\u001b[38;5;241m0\u001b[39m]\u001b[38;5;241m.\u001b[39mclick()\n\u001b[0;32m     97\u001b[0m time\u001b[38;5;241m.\u001b[39msleep(\u001b[38;5;241m9\u001b[39m)\n",
      "File \u001b[1;32m~\\anaconda3\\Lib\\site-packages\\selenium\\webdriver\\remote\\webdriver.py:771\u001b[0m, in \u001b[0;36mWebDriver.find_elements\u001b[1;34m(self, by, value)\u001b[0m\n\u001b[0;32m    767\u001b[0m     value \u001b[38;5;241m=\u001b[39m \u001b[38;5;124mf\u001b[39m\u001b[38;5;124m'\u001b[39m\u001b[38;5;124m[name=\u001b[39m\u001b[38;5;124m\"\u001b[39m\u001b[38;5;132;01m{\u001b[39;00mvalue\u001b[38;5;132;01m}\u001b[39;00m\u001b[38;5;124m\"\u001b[39m\u001b[38;5;124m]\u001b[39m\u001b[38;5;124m'\u001b[39m\n\u001b[0;32m    769\u001b[0m \u001b[38;5;66;03m# Return empty list if driver returns null\u001b[39;00m\n\u001b[0;32m    770\u001b[0m \u001b[38;5;66;03m# See https://github.com/SeleniumHQ/selenium/issues/4555\u001b[39;00m\n\u001b[1;32m--> 771\u001b[0m \u001b[38;5;28;01mreturn\u001b[39;00m \u001b[38;5;28mself\u001b[39m\u001b[38;5;241m.\u001b[39mexecute(Command\u001b[38;5;241m.\u001b[39mFIND_ELEMENTS, {\u001b[38;5;124m\"\u001b[39m\u001b[38;5;124musing\u001b[39m\u001b[38;5;124m\"\u001b[39m: by, \u001b[38;5;124m\"\u001b[39m\u001b[38;5;124mvalue\u001b[39m\u001b[38;5;124m\"\u001b[39m: value})[\u001b[38;5;124m\"\u001b[39m\u001b[38;5;124mvalue\u001b[39m\u001b[38;5;124m\"\u001b[39m] \u001b[38;5;129;01mor\u001b[39;00m []\n",
      "File \u001b[1;32m~\\anaconda3\\Lib\\site-packages\\selenium\\webdriver\\remote\\webdriver.py:347\u001b[0m, in \u001b[0;36mWebDriver.execute\u001b[1;34m(self, driver_command, params)\u001b[0m\n\u001b[0;32m    345\u001b[0m response \u001b[38;5;241m=\u001b[39m \u001b[38;5;28mself\u001b[39m\u001b[38;5;241m.\u001b[39mcommand_executor\u001b[38;5;241m.\u001b[39mexecute(driver_command, params)\n\u001b[0;32m    346\u001b[0m \u001b[38;5;28;01mif\u001b[39;00m response:\n\u001b[1;32m--> 347\u001b[0m     \u001b[38;5;28mself\u001b[39m\u001b[38;5;241m.\u001b[39merror_handler\u001b[38;5;241m.\u001b[39mcheck_response(response)\n\u001b[0;32m    348\u001b[0m     response[\u001b[38;5;124m\"\u001b[39m\u001b[38;5;124mvalue\u001b[39m\u001b[38;5;124m\"\u001b[39m] \u001b[38;5;241m=\u001b[39m \u001b[38;5;28mself\u001b[39m\u001b[38;5;241m.\u001b[39m_unwrap_value(response\u001b[38;5;241m.\u001b[39mget(\u001b[38;5;124m\"\u001b[39m\u001b[38;5;124mvalue\u001b[39m\u001b[38;5;124m\"\u001b[39m, \u001b[38;5;28;01mNone\u001b[39;00m))\n\u001b[0;32m    349\u001b[0m     \u001b[38;5;28;01mreturn\u001b[39;00m response\n",
      "File \u001b[1;32m~\\anaconda3\\Lib\\site-packages\\selenium\\webdriver\\remote\\errorhandler.py:229\u001b[0m, in \u001b[0;36mErrorHandler.check_response\u001b[1;34m(self, response)\u001b[0m\n\u001b[0;32m    227\u001b[0m         alert_text \u001b[38;5;241m=\u001b[39m value[\u001b[38;5;124m\"\u001b[39m\u001b[38;5;124malert\u001b[39m\u001b[38;5;124m\"\u001b[39m]\u001b[38;5;241m.\u001b[39mget(\u001b[38;5;124m\"\u001b[39m\u001b[38;5;124mtext\u001b[39m\u001b[38;5;124m\"\u001b[39m)\n\u001b[0;32m    228\u001b[0m     \u001b[38;5;28;01mraise\u001b[39;00m exception_class(message, screen, stacktrace, alert_text)  \u001b[38;5;66;03m# type: ignore[call-arg]  # mypy is not smart enough here\u001b[39;00m\n\u001b[1;32m--> 229\u001b[0m \u001b[38;5;28;01mraise\u001b[39;00m exception_class(message, screen, stacktrace)\n",
      "\u001b[1;31mWebDriverException\u001b[0m: Message: disconnected: not connected to DevTools\n  (failed to check if window was closed: disconnected: not connected to DevTools)\n  (Session info: chrome=122.0.6261.94)\nStacktrace:\n\tGetHandleVerifier [0x00007FF78018AD22+56930]\n\t(No symbol) [0x00007FF7800FF622]\n\t(No symbol) [0x00007FF77FFB42E5]\n\t(No symbol) [0x00007FF77FFA191F]\n\t(No symbol) [0x00007FF77FFA1490]\n\t(No symbol) [0x00007FF77FFB6411]\n\t(No symbol) [0x00007FF7800378B9]\n\t(No symbol) [0x00007FF78001BA43]\n\t(No symbol) [0x00007FF77FFED438]\n\t(No symbol) [0x00007FF77FFEE4D1]\n\tGetHandleVerifier [0x00007FF780506AAD+3709933]\n\tGetHandleVerifier [0x00007FF78055FFED+4075821]\n\tGetHandleVerifier [0x00007FF78055817F+4043455]\n\tGetHandleVerifier [0x00007FF780229756+706710]\n\t(No symbol) [0x00007FF78010B8FF]\n\t(No symbol) [0x00007FF780106AE4]\n\t(No symbol) [0x00007FF780106C3C]\n\t(No symbol) [0x00007FF7800F68F4]\n\tBaseThreadInitThunk [0x00007FFDDC1F7344+20]\n\tRtlUserThreadStart [0x00007FFDDD3426B1+33]\n"
     ]
    }
   ],
   "source": [
    "#browser.get('https://www.google.com/maps/search/Камчатский+край+сбербанк+банкомат')\n",
    "\n",
    "aa = []\n",
    "time.sleep(6)\n",
    "elem = browser.find_elements(By.CLASS_NAME,'Nv2PK')\n",
    "hh = len(elem)\n",
    "j = 0\n",
    "while j!=hh:\n",
    "    print(j)\n",
    "    elem = browser.find_elements(By.CLASS_NAME,'Nv2PK')\n",
    "    fl = False\n",
    "    pp = 0\n",
    "    time.sleep(7)\n",
    "    while fl == False:\n",
    "        try:\n",
    "            elem[j].click()\n",
    "            fl = True\n",
    "        except:\n",
    "            pp = pp + 1\n",
    "            time.sleep(pp+1)\n",
    "            elem = browser.find_elements(By.CLASS_NAME,'Nv2PK') \n",
    "            try:\n",
    "                elem[j].click()\n",
    "                fl = True\n",
    "            except:\n",
    "                pp = pp + 1\n",
    "                time.sleep(pp+1)\n",
    "                elem = browser.find_elements(By.CLASS_NAME,'Nv2PK') \n",
    "                elem[j].click()\n",
    "    time.sleep(8)\n",
    "    bb=[]\n",
    "    try:\n",
    "        e = browser.find_elements(By.CLASS_NAME,'RcCsl')\n",
    "        bb.append(e[0].text)\n",
    "    except:\n",
    "        e = browser.find_elements(By.CLASS_NAME,'Io6YTe')\n",
    "        bb.append(e[0].text)\n",
    "    e = browser.find_elements(By.CLASS_NAME,'o0Svhf')\n",
    "    if len(e)>0:\n",
    "        e[0].click()\n",
    "        time.sleep(2)\n",
    "        tim = browser.find_elements(By.CLASS_NAME,'y0skZc')\n",
    "        cc = []\n",
    "        for i in tim:\n",
    "            cc.append(i.text)\n",
    "    \n",
    "    but = browser.find_elements(By.CLASS_NAME,'Gpq6kf')\n",
    "    bb.append(cc)\n",
    "    cc=[]\n",
    "    if len(but)>2:\n",
    "        if but[2].text == 'Информация':\n",
    "            but[2].click()\n",
    "            time.sleep(2)\n",
    "            inf_fl = browser.find_elements(By.CLASS_NAME,'grnAab')\n",
    "            inf = browser.find_elements(By.CLASS_NAME,'ZQ6we')\n",
    "            cc = []\n",
    "            for i in inf:        \n",
    "                cc.append(i.text)\n",
    "            for i in inf_fl:\n",
    "                cc.append(i.get_attribute('src'))\n",
    "    if len(but)>1:\n",
    "        if but[1].text == 'Информация':\n",
    "            but[1].click()\n",
    "            time.sleep(2)\n",
    "            inf_fl = browser.find_elements(By.CLASS_NAME,'grnAab')\n",
    "            inf = browser.find_elements(By.CLASS_NAME,'ZQ6we')\n",
    "            c=[]\n",
    "            for i in inf:        \n",
    "                cc.append(i.text)\n",
    "            for i in inf_fl:\n",
    "                cc.append(i.get_attribute('src'))\n",
    "        bb.append(cc)\n",
    "    cc=[]\n",
    "    if len(but)>1:\n",
    "        if but[1].text == 'Отзывы':       \n",
    "            but[1].click()\n",
    "            time.sleep(5)\n",
    "            comm = browser.find_elements(By.CLASS_NAME,'d4r55 ')\n",
    "            l = 0\n",
    "            cc = []\n",
    "            while l!= len(comm):\n",
    "                l = len(comm)\n",
    "                browser.execute_script(\"arguments[0].scrollIntoView(true);\",comm[-1])\n",
    "                comm = browser.find_elements(By.CLASS_NAME,'d4r55')\n",
    "                time.sleep(3)\n",
    "                browser.execute_script(\"arguments[0].scrollIntoView(true);\",comm[-1])\n",
    "                comm = browser.find_elements(By.CLASS_NAME,'d4r55')       \n",
    "            comm = browser.find_elements(By.CLASS_NAME,'wiI7pd ')  \n",
    "            for i in comm:\n",
    "                cc.append(i.text)\n",
    "        bb.append(cc)\n",
    "    if len(but)>0:\n",
    "        but[0].click()  \n",
    "    time.sleep(9)\n",
    "    back = browser.find_elements(By.CLASS_NAME,'bDDiq')\n",
    "    back[0].click()\n",
    "    time.sleep(9)\n",
    "    aa.append(bb)\n",
    "    j = j + 1\n",
    "    elem = browser.find_elements(By.CLASS_NAME,'Nv2PK')\n",
    "    hh = len(elem)\n",
    "    browser.execute_script(\"arguments[0].scrollIntoView(true);\",elem[min(j+1,hh-1)])\n",
    "    \"\"\"if j == hh:\n",
    "        print(1)\n",
    "        browser.execute_script(\"arguments[0].scrollIntoView(true);\",elem[min(j,hh-1)])\n",
    "        time.sleep(3)\n",
    "        elem = browser.find_elements(By.CLASS_NAME,'Nv2PK')\n",
    "        hh = len(elem)\n",
    "        #browser.execute_script(\"arguments[0].scrollIntoView(true);\",elem[min(j,hh-1)])\n",
    "        #time.sleep(2)\n",
    "        if j==hh:\n",
    "            print(2)\n",
    "            pyautogui.moveTo(415,567)\n",
    "            pyautogui.scroll(-300)\n",
    "            time.sleep(5)\n",
    "            elem = browser.find_elements(By.CLASS_NAME,'Nv2PK')\n",
    "            hh = len(elem)\n",
    "            time.sleep(1.5)\n",
    "            browser.execute_script(\"arguments[0].scrollIntoView(true);\",elem[min(j,hh-1)])\n",
    "        #browser.execute_script(\"arguments[0].scrollIntoView(true);\",elem[-1])\n",
    "        #time.sleep(2)\n",
    "        #elem = browser.find_elements(By.CLASS_NAME,'hfpxzc')\n",
    "        #hh = len(elem)\n",
    "        #browser.execute_script(\"arguments[0].scrollIntoView(true);\",elem[-1])\n",
    "        #time.sleep(2)\n",
    "    \"\"\""
   ]
  },
  {
   "cell_type": "code",
   "execution_count": 71,
   "metadata": {},
   "outputs": [],
   "source": [
    "df = pd.DataFrame(aa)\n",
    "df.to_excel('Google Киров.xlsx',index=False)"
   ]
  },
  {
   "cell_type": "code",
   "execution_count": 42,
   "metadata": {},
   "outputs": [],
   "source": [
    "e = browser.find_element(By.CLASS_NAME,'bDDiq')"
   ]
  },
  {
   "cell_type": "code",
   "execution_count": 43,
   "metadata": {},
   "outputs": [],
   "source": [
    "e.click()"
   ]
  },
  {
   "cell_type": "code",
   "execution_count": 11,
   "metadata": {},
   "outputs": [],
   "source": [
    "time.sleep(2)\n",
    "pyautogui.moveTo(415,567)\n",
    "pyautogui.scroll(-70)"
   ]
  },
  {
   "cell_type": "code",
   "execution_count": 10,
   "metadata": {},
   "outputs": [
    {
     "ename": "IndexError",
     "evalue": "list index out of range",
     "output_type": "error",
     "traceback": [
      "\u001b[1;31m---------------------------------------------------------------------------\u001b[0m",
      "\u001b[1;31mIndexError\u001b[0m                                Traceback (most recent call last)",
      "Cell \u001b[1;32mIn[10], line 1\u001b[0m\n\u001b[1;32m----> 1\u001b[0m browser\u001b[38;5;241m.\u001b[39mfind_elements(By\u001b[38;5;241m.\u001b[39mCLASS_NAME,\u001b[38;5;124m'\u001b[39m\u001b[38;5;124mIo6YTe\u001b[39m\u001b[38;5;124m'\u001b[39m)[\u001b[38;5;241m0\u001b[39m]\u001b[38;5;241m.\u001b[39mtext\n",
      "\u001b[1;31mIndexError\u001b[0m: list index out of range"
     ]
    }
   ],
   "source": [
    "browser.find_elements(By.CLASS_NAME,'Io6YTe')[0].text"
   ]
  },
  {
   "cell_type": "code",
   "execution_count": 9,
   "metadata": {},
   "outputs": [
    {
     "data": {
      "text/plain": [
       "20"
      ]
     },
     "execution_count": 9,
     "metadata": {},
     "output_type": "execute_result"
    }
   ],
   "source": [
    "hh"
   ]
  },
  {
   "cell_type": "code",
   "execution_count": 434,
   "metadata": {},
   "outputs": [],
   "source": [
    "comm = browser.find_elements(By.CLASS_NAME,'hfpxzc')"
   ]
  },
  {
   "cell_type": "code",
   "execution_count": 7,
   "metadata": {},
   "outputs": [
    {
     "data": {
      "text/plain": [
       "['Московский пр., 123А, Калининград, Калининградская обл., 236006',\n",
       " ['среда\\n08:00–23:00',\n",
       "  'четверг\\n08:00–23:00',\n",
       "  'пятница\\n(День защитника Отечества)\\n08:00–23:00\\nЧасы работы могут меняться',\n",
       "  'суббота\\n08:00–23:00',\n",
       "  'воскресенье\\n08:00–23:00',\n",
       "  'понедельник\\n08:00–23:00',\n",
       "  'вторник\\n08:00–23:00']]"
      ]
     },
     "execution_count": 7,
     "metadata": {},
     "output_type": "execute_result"
    }
   ],
   "source": [
    "aa[-1]"
   ]
  },
  {
   "cell_type": "code",
   "execution_count": 527,
   "metadata": {},
   "outputs": [
    {
     "data": {
      "text/plain": [
       "1"
      ]
     },
     "execution_count": 527,
     "metadata": {},
     "output_type": "execute_result"
    }
   ],
   "source": [
    "pp"
   ]
  },
  {
   "cell_type": "code",
   "execution_count": 433,
   "metadata": {},
   "outputs": [],
   "source": [
    "browser.execute_script(\"arguments[0].scrollIntoView(true);\",comm[-1])"
   ]
  },
  {
   "cell_type": "code",
   "execution_count": 400,
   "metadata": {},
   "outputs": [],
   "source": [
    "e= browser.find_element(By.CLASS_NAME,'m6QErb ')"
   ]
  },
  {
   "cell_type": "code",
   "execution_count": 404,
   "metadata": {},
   "outputs": [
    {
     "ename": "AttributeError",
     "evalue": "'WebElement' object has no attribute 'execute_script'",
     "output_type": "error",
     "traceback": [
      "\u001b[1;31m---------------------------------------------------------------------------\u001b[0m",
      "\u001b[1;31mAttributeError\u001b[0m                            Traceback (most recent call last)",
      "Cell \u001b[1;32mIn[404], line 1\u001b[0m\n\u001b[1;32m----> 1\u001b[0m e\u001b[38;5;241m.\u001b[39mexecute_script(\u001b[38;5;124m\"\u001b[39m\u001b[38;5;124mwindow.scrollTo(0, document.body.scrollHeight);\u001b[39m\u001b[38;5;124m\"\u001b[39m)\n",
      "\u001b[1;31mAttributeError\u001b[0m: 'WebElement' object has no attribute 'execute_script'"
     ]
    }
   ],
   "source": [
    "e.execute_script(\"window.scrollTo(0, document.body.scrollHeight);\")"
   ]
  },
  {
   "cell_type": "code",
   "execution_count": 242,
   "metadata": {},
   "outputs": [
    {
     "name": "stdout",
     "output_type": "stream",
     "text": [
      "вторник\n",
      "09:00–19:00\n",
      "среда\n",
      "09:00–19:00\n",
      "четверг\n",
      "09:00–19:00\n",
      "пятница\n",
      "(День защитника Отечества)\n",
      "09:00–19:00\n",
      "Часы работы могут меняться\n",
      "суббота\n",
      "08:30–18:00\n",
      "воскресенье\n",
      "Закрыто\n",
      "понедельник\n",
      "09:00–19:00\n"
     ]
    }
   ],
   "source": [
    "e.aria_role"
   ]
  },
  {
   "cell_type": "code",
   "execution_count": 243,
   "metadata": {},
   "outputs": [],
   "source": []
  },
  {
   "cell_type": "code",
   "execution_count": 244,
   "metadata": {},
   "outputs": [],
   "source": []
  },
  {
   "cell_type": "code",
   "execution_count": 274,
   "metadata": {},
   "outputs": [
    {
     "name": "stdout",
     "output_type": "stream",
     "text": [
      "Вход для людей на инвалидных колясках\n",
      "Парковка с доступом для инвалидов-колясочников\n",
      "Кредит наличными\n",
      "https://www.gstatic.com/images/icons/material/system_gm/2x/check_black_18dp.png\n",
      "https://www.gstatic.com/images/icons/material/system_gm/2x/not_interested_gm_grey_18dp.png\n",
      "https://www.gstatic.com/images/icons/material/system_gm/2x/check_black_18dp.png\n"
     ]
    }
   ],
   "source": [
    "\n",
    "    "
   ]
  },
  {
   "cell_type": "code",
   "execution_count": 272,
   "metadata": {},
   "outputs": [],
   "source": [
    "inf = browser.find_elements(By.CLASS_NAME,'grnAab')"
   ]
  },
  {
   "cell_type": "code",
   "execution_count": 273,
   "metadata": {},
   "outputs": [
    {
     "name": "stdout",
     "output_type": "stream",
     "text": [
      "https://www.gstatic.com/images/icons/material/system_gm/2x/check_black_18dp.png\n"
     ]
    }
   ],
   "source": [
    "print(inf[2].get_attribute('src'))"
   ]
  },
  {
   "cell_type": "code",
   "execution_count": 264,
   "metadata": {},
   "outputs": [
    {
     "data": {
      "text/plain": [
       "[<selenium.webdriver.remote.webelement.WebElement (session=\"a724c8c52960a1f72332dd5683217fb7\", element=\"2071FE3A33006C700F4AE715EAB75A49_element_29930\")>,\n",
       " <selenium.webdriver.remote.webelement.WebElement (session=\"a724c8c52960a1f72332dd5683217fb7\", element=\"2071FE3A33006C700F4AE715EAB75A49_element_29933\")>,\n",
       " <selenium.webdriver.remote.webelement.WebElement (session=\"a724c8c52960a1f72332dd5683217fb7\", element=\"2071FE3A33006C700F4AE715EAB75A49_element_29941\")>]"
      ]
     },
     "execution_count": 264,
     "metadata": {},
     "output_type": "execute_result"
    }
   ],
   "source": [
    "inf"
   ]
  },
  {
   "cell_type": "code",
   "execution_count": 304,
   "metadata": {},
   "outputs": [],
   "source": []
  },
  {
   "cell_type": "code",
   "execution_count": 296,
   "metadata": {},
   "outputs": [],
   "source": []
  },
  {
   "cell_type": "code",
   "execution_count": 291,
   "metadata": {},
   "outputs": [
    {
     "name": "stdout",
     "output_type": "stream",
     "text": [
      "Обслуживание в этом отделении нулевое. В зале терминалов никогда нет консультантов. Две девочки постоянно на перерыве. Взял два толона и 40 минут просидел не дождавшись когда подойдёт моя очередь. Обратился к старшей этим отделением в 4 ое окошко. Ответ был шакирующий: ваша очередь прошла. Клоуны. Работать здесь не торопятся.\n",
      "\n",
      "Получил сегодня карту, девушка позвонила, напомнила, выяснила когда удобно, народу не много, без очереди, на все про все 10 минут, предложила какие то доп услуги, но это ее работа.  Прям вот только хорошее впечатление.\n",
      "\n",
      "Обслуживанием порадовали, мой вопрос решили и быстро и четко, раннее обращалась в другие отделения мне не помогли, здесь все объяснили и решили мой вопрос, сотрудники вежливы и доброжелательны.\n",
      "\n",
      "Меняю оценку на 4. Только тут помогли разобраться!!! В  остальных банках хамили и отправляли подальше.по поводу выдачи денег-Сказали не можем ничего выдать много людей, и ещё много отговорок. Снять евро не получилось, тоже куча отговорок! Зря в очереди просидела.\n",
      "\n",
      "Неспешное обслуживание, позиционируют работа без обеда, однако пришлось обождать пол часа пока сотрудник поест и позже 20 минут с талочиком для получения консультации\n",
      "\n",
      "Новые быстрые банкоматы очень радуют. Нетипичный для балтрайона вежливый сервис\n",
      "\n",
      "Много посетителей, приходится ждать. Но общением с сотрудниками остался доволен.\n",
      "\n",
      "для меня - удобно и быстро можно пополнить счет или снять наличку :)\n",
      "\n",
      "Обычное отделение: электронная очередь, есть консультанты\n",
      "\n",
      "Когда уже банкоматы нн перестанут жрать карты\n",
      "\n"
     ]
    }
   ],
   "source": [
    "for c in comm:\n",
    "    print(c.text)\n",
    "    print()"
   ]
  },
  {
   "cell_type": "code",
   "execution_count": 362,
   "metadata": {},
   "outputs": [],
   "source": [
    "a = 7\n",
    "for i in range(a):\n",
    "    a = a + 1"
   ]
  },
  {
   "cell_type": "code",
   "execution_count": 363,
   "metadata": {},
   "outputs": [
    {
     "data": {
      "text/plain": [
       "6"
      ]
     },
     "execution_count": 363,
     "metadata": {},
     "output_type": "execute_result"
    }
   ],
   "source": [
    "i"
   ]
  },
  {
   "cell_type": "code",
   "execution_count": null,
   "metadata": {},
   "outputs": [],
   "source": []
  }
 ],
 "metadata": {
  "kernelspec": {
   "display_name": "Python 3 (ipykernel)",
   "language": "python",
   "name": "python3"
  },
  "language_info": {
   "codemirror_mode": {
    "name": "ipython",
    "version": 3
   },
   "file_extension": ".py",
   "mimetype": "text/x-python",
   "name": "python",
   "nbconvert_exporter": "python",
   "pygments_lexer": "ipython3",
   "version": "3.11.5"
  }
 },
 "nbformat": 4,
 "nbformat_minor": 4
}
