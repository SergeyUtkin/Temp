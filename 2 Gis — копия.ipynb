{
 "cells": [
  {
   "cell_type": "code",
   "execution_count": 1,
   "metadata": {},
   "outputs": [],
   "source": [
    "import pandas as pd\n",
    "import time\n",
    "from selenium import webdriver\n",
    "from selenium.webdriver.common.by import By\n",
    "from selenium.common.exceptions import ElementClickInterceptedException,StaleElementReferenceException\n",
    "from selenium.webdriver.common.keys import Keys"
   ]
  },
  {
   "cell_type": "code",
   "execution_count": 2,
   "metadata": {},
   "outputs": [
    {
     "ename": "ModuleNotFoundError",
     "evalue": "No module named 'ge'",
     "output_type": "error",
     "traceback": [
      "\u001b[1;31m---------------------------------------------------------------------------\u001b[0m",
      "\u001b[1;31mModuleNotFoundError\u001b[0m                       Traceback (most recent call last)",
      "\u001b[1;32m<ipython-input-2-af54fe49811b>\u001b[0m in \u001b[0;36m<module>\u001b[1;34m\u001b[0m\n\u001b[1;32m----> 1\u001b[1;33m \u001b[1;32mimport\u001b[0m \u001b[0mge\u001b[0m\u001b[1;33m\u001b[0m\u001b[1;33m\u001b[0m\u001b[0m\n\u001b[0m",
      "\u001b[1;31mModuleNotFoundError\u001b[0m: No module named 'ge'"
     ]
    }
   ],
   "source": [
    "import ge"
   ]
  },
  {
   "cell_type": "code",
   "execution_count": 2,
   "metadata": {},
   "outputs": [],
   "source": [
    "oblasty = pd.read_excel(r'C:\\Users\\Lenovo\\Downloads\\Лист Microsoft Excel.xlsx')"
   ]
  },
  {
   "cell_type": "code",
   "execution_count": 16,
   "metadata": {},
   "outputs": [
    {
     "data": {
      "text/html": [
       "<div>\n",
       "<style scoped>\n",
       "    .dataframe tbody tr th:only-of-type {\n",
       "        vertical-align: middle;\n",
       "    }\n",
       "\n",
       "    .dataframe tbody tr th {\n",
       "        vertical-align: top;\n",
       "    }\n",
       "\n",
       "    .dataframe thead th {\n",
       "        text-align: right;\n",
       "    }\n",
       "</style>\n",
       "<table border=\"1\" class=\"dataframe\">\n",
       "  <thead>\n",
       "    <tr style=\"text-align: right;\">\n",
       "      <th></th>\n",
       "      <th>область</th>\n",
       "      <th>всего</th>\n",
       "    </tr>\n",
       "  </thead>\n",
       "  <tbody>\n",
       "    <tr>\n",
       "      <th>0</th>\n",
       "      <td>Калининградская область</td>\n",
       "      <td>67</td>\n",
       "    </tr>\n",
       "  </tbody>\n",
       "</table>\n",
       "</div>"
      ],
      "text/plain": [
       "                   область  всего\n",
       "0  Калининградская область     67"
      ]
     },
     "execution_count": 16,
     "metadata": {},
     "output_type": "execute_result"
    }
   ],
   "source": [
    "oblasty"
   ]
  },
  {
   "cell_type": "code",
   "execution_count": 14,
   "metadata": {},
   "outputs": [
    {
     "ename": "AttributeError",
     "evalue": "'DataFrame' object has no attribute 'append'",
     "output_type": "error",
     "traceback": [
      "\u001b[1;31m---------------------------------------------------------------------------\u001b[0m",
      "\u001b[1;31mAttributeError\u001b[0m                            Traceback (most recent call last)",
      "Cell \u001b[1;32mIn[14], line 2\u001b[0m\n\u001b[0;32m      1\u001b[0m oblasty \u001b[38;5;241m=\u001b[39m pd\u001b[38;5;241m.\u001b[39mDataFrame(columns \u001b[38;5;241m=\u001b[39m [\u001b[38;5;124m'\u001b[39m\u001b[38;5;124mобласть\u001b[39m\u001b[38;5;124m'\u001b[39m,\u001b[38;5;124m'\u001b[39m\u001b[38;5;124mвсего\u001b[39m\u001b[38;5;124m'\u001b[39m])\n\u001b[1;32m----> 2\u001b[0m oblasty \u001b[38;5;241m=\u001b[39m oblasty\u001b[38;5;241m.\u001b[39mappend({\u001b[38;5;124m'\u001b[39m\u001b[38;5;124mобласть\u001b[39m\u001b[38;5;124m'\u001b[39m:\u001b[38;5;124m'\u001b[39m\u001b[38;5;124mКалининградская область\u001b[39m\u001b[38;5;124m'\u001b[39m,\u001b[38;5;124m'\u001b[39m\u001b[38;5;124mвсего\u001b[39m\u001b[38;5;124m'\u001b[39m:\u001b[38;5;241m0\u001b[39m},ignore_index\u001b[38;5;241m=\u001b[39m\u001b[38;5;28;01mTrue\u001b[39;00m)\n",
      "File \u001b[1;32m~\\anaconda3\\Lib\\site-packages\\pandas\\core\\generic.py:5989\u001b[0m, in \u001b[0;36mNDFrame.__getattr__\u001b[1;34m(self, name)\u001b[0m\n\u001b[0;32m   5982\u001b[0m \u001b[38;5;28;01mif\u001b[39;00m (\n\u001b[0;32m   5983\u001b[0m     name \u001b[38;5;129;01mnot\u001b[39;00m \u001b[38;5;129;01min\u001b[39;00m \u001b[38;5;28mself\u001b[39m\u001b[38;5;241m.\u001b[39m_internal_names_set\n\u001b[0;32m   5984\u001b[0m     \u001b[38;5;129;01mand\u001b[39;00m name \u001b[38;5;129;01mnot\u001b[39;00m \u001b[38;5;129;01min\u001b[39;00m \u001b[38;5;28mself\u001b[39m\u001b[38;5;241m.\u001b[39m_metadata\n\u001b[0;32m   5985\u001b[0m     \u001b[38;5;129;01mand\u001b[39;00m name \u001b[38;5;129;01mnot\u001b[39;00m \u001b[38;5;129;01min\u001b[39;00m \u001b[38;5;28mself\u001b[39m\u001b[38;5;241m.\u001b[39m_accessors\n\u001b[0;32m   5986\u001b[0m     \u001b[38;5;129;01mand\u001b[39;00m \u001b[38;5;28mself\u001b[39m\u001b[38;5;241m.\u001b[39m_info_axis\u001b[38;5;241m.\u001b[39m_can_hold_identifiers_and_holds_name(name)\n\u001b[0;32m   5987\u001b[0m ):\n\u001b[0;32m   5988\u001b[0m     \u001b[38;5;28;01mreturn\u001b[39;00m \u001b[38;5;28mself\u001b[39m[name]\n\u001b[1;32m-> 5989\u001b[0m \u001b[38;5;28;01mreturn\u001b[39;00m \u001b[38;5;28mobject\u001b[39m\u001b[38;5;241m.\u001b[39m\u001b[38;5;21m__getattribute__\u001b[39m(\u001b[38;5;28mself\u001b[39m, name)\n",
      "\u001b[1;31mAttributeError\u001b[0m: 'DataFrame' object has no attribute 'append'"
     ]
    }
   ],
   "source": [
    "oblasty = pd.DataFrame(columns = ['область','всего'])\n",
    "oblasty = oblasty.append({'область':'Калининградская область','всего':0},ignore_index=True)"
   ]
  },
  {
   "cell_type": "code",
   "execution_count": 8,
   "metadata": {},
   "outputs": [],
   "source": [
    "browser = webdriver.Chrome()#(r'C:\\Users\\18668450\\Downloads\\msedgedriver.exe')\n",
    "#browser.implicitly_wait(40)\n",
    "browser.get('https://2gis.ru/kirov/search/' + 'Амурская область' + ' сбербанк отделения')"
   ]
  },
  {
   "cell_type": "code",
   "execution_count": null,
   "metadata": {},
   "outputs": [
    {
     "name": "stdout",
     "output_type": "stream",
     "text": [
      ">>>>>>>>>>>>>>>>>>>>>>>>>>>>>>>>>>>>>>>>>>>>>>>>>>>>>>>>>>>>>>>>>>>>>>>>>>>>>>>>>>>>>>>\n"
     ]
    }
   ],
   "source": [
    "#НОВАЯ ВЕРСИЯ\n",
    "for obl in range(0, 1):#len(oblasty)):\n",
    "    #print(oblasty['область'][obl])\n",
    "    print('>>>>>>>>>>>>>>>>>>>>>>>>>>>>>>>>>>>>>>>>>>>>>>>>>>>>>>>>>>>>>>>>>>>>>>>>>>>>>>>>>>>>>>>')\n",
    "    #browser = webdriver.Chrome('chromedriver.exe')\n",
    "    #browser.implicitly_wait(40)\n",
    "    browser.get('https://2gis.ru/kirov/search/Калининградская область сбербанк банкомат')\n",
    "    qwerty=browser.find_elements(By.XPATH,\"//div[@class='_ubuirc']/form/div/div/button\")\n",
    "    qwerty[0].click()\n",
    "    qwerty2=browser.find_elements(By.XPATH,\"//div[@class='_ubuirc']/form/div/input\")\n",
    "    qwerty2[0].click()\n",
    "    qwerty2[0].send_keys(oblasty['область'][obl] + ' сбербанк банкомат')\n",
    "    qwerty2[0].send_keys(Keys.ENTER)\n",
    "    time.sleep(2)\n",
    "    \n",
    "    q1 = browser.find_elements(By.XPATH,\"//div[@class='_1667t0u']\")\n",
    "    while \"не нашлось\" not in q1[0].text:\n",
    "        #mesta1 = browser.find_elements_by_xpath(\"//span[@class='_18lf326a']\")[0].text\n",
    "        button = browser.find_elements(By.XPATH,\"//div[@class='_1gqpn8u3'][1]/button[@class='_1v8en2z'][2]\")\n",
    "        button[0].click()\n",
    "        time.sleep(1)\n",
    "        q1 = browser.find_elements(By.XPATH,\"//div[@class='_1667t0u']\")\n",
    "    butt = browser.find_elements(By.XPATH,\"//button[@class='_1v8en2z']\")\n",
    "    butt[1].click()\n",
    "    time.sleep(1)    \n",
    "    try:    \n",
    "        element = browser.find_elements(By.XPATH,\"//div[@class='_6yblqz']\")\n",
    "        browser.execute_script(\"\"\"\n",
    "        var element = arguments[0];\n",
    "        element.parentNode.removeChild(element);\n",
    "        \"\"\", element)\n",
    "    except:\n",
    "        break\n",
    "    \n",
    "    \n",
    "    nup = 1\n",
    "    mesta1 = browser.find_elements(By.XPATH,\"//span[@class='_18lf326a']\")[0].text\n",
    "    if int(mesta1)%12>0:\n",
    "        num_page = int(mesta1)//12 + 1\n",
    "    else:\n",
    "        num_page = int(mesta1)//12\n",
    "    df = pd.DataFrame(columns = ['адр','вре','тел','сай','МГН','отз'])\n",
    "    while nup<=num_page:\n",
    "        try:\n",
    "\n",
    "            filials = browser.find_elements(By.XPATH,\"//div[@class='_awwm2v']/div\")\n",
    "            #df = pd.DataFrame(columns = ['адр','вре','тел','сай','МГН','отз'])\n",
    "            for i in range (0,len(filials)):\n",
    "                if 'Реклама' in filials[i].text:\n",
    "                    pass\n",
    "                else:\n",
    "                    try:\n",
    "                        filials[i].click()\n",
    "                        time.sleep(2)\n",
    "\n",
    "\n",
    "                    #на какой случай\n",
    "\n",
    "                        #адрес\n",
    "                        pp = browser.find_elements(By.CLASS_NAME,\"_er2xx9\")\n",
    "                        dd = browser.find_elements(By.CLASS_NAME,'_1p8iqzw')\n",
    "                        ad = pp[0].text+', '+dd[len(dd)-1].text\n",
    "                        #время работы, телефон, сайт\n",
    "                        time.sleep(2)\n",
    "                        d = browser.find_elements(By.CLASS_NAME,'_49kxlr')\n",
    "                        if 'Филиал закрыт'  in filials[i].text:\n",
    "                            b = \"Филиал закрыт для посещений\"\n",
    "                            l = d[2].text\n",
    "                            d[1].click()\n",
    "                            w = browser.find_elements(By.CLASS_NAME,'_b0ke8')\n",
    "                            k=''\n",
    "                            for il in range(0,len(w)):\n",
    "                                k=k+' '+w[il].text\n",
    "                        elif 'Круглосуточно' in filials[i].text:\n",
    "                            b = \"Круглосуточно\"\n",
    "                            l = d[3].text\n",
    "                            d[2].click()\n",
    "                            w = browser.find_elements(By.CLASS_NAME,'_b0ke8')\n",
    "                            k=''\n",
    "                            for il in range(0,len(w)):\n",
    "                                k=k+' '+w[il].text\n",
    "                        else:\n",
    "                            try:\n",
    "                                sth = browser.find_elements(By.XPATH,'//div[@class=\"_15t9xwf\"][2]/div/div/div[@class=\"_z3fqkm\"]')\n",
    "                                sth[0].click()\n",
    "                                b=browser.find_elements(By.XPATH,'//div[@class=\"_18zamfw\"]')[0].text\n",
    "                                l = d[3].text\n",
    "                                d[2].click()\n",
    "                                w = browser.find_elements(By.CLASS_NAME,'_b0ke8')\n",
    "                                k=''\n",
    "                                for il in range(0,len(w)):\n",
    "                                    k=k+' '+w[il].text\n",
    "                            except: \n",
    "                                b='нет режима работы'\n",
    "                                l = d[2].text\n",
    "                                d[1].click()\n",
    "                                w = browser.find_elements(By.CLASS_NAME,'_b0ke8')\n",
    "                                k=''\n",
    "                                for il in range(0,len(w)):\n",
    "                                    k=k+' '+w[il].text\n",
    "                        #переход на вкладку Инфо\n",
    "                        e = browser.find_elements(By.CLASS_NAME,'_ke2cp9k')\n",
    "                        e[0].click()\n",
    "                        #ММГН\n",
    "                        f = browser.find_elements(By.XPATH,'//span[@class=\"_btwk9a2\"]')\n",
    "                        g=f[0].text\n",
    "                        #переход на вкладку Отзывы\n",
    "                        e[1].click()\n",
    "                        #ждем\n",
    "                        time.sleep(1)\n",
    "                        #кол-во отзывов\n",
    "                        ot = browser.find_elements(By.CLASS_NAME,'_18lf326a')\n",
    "                        if len(ot)==2:\n",
    "                            #кол-во скролов\n",
    "                            scr_n = int(ot[1].text)//12 +1\n",
    "                            scr = browser.find_elements(By.XPATH,\"//div[@class='_1667t0u']/div[1]/div[1]\")\n",
    "                            ###SCROLL###\n",
    "                            for sn in range (0,scr_n+1):\n",
    "                                browser.execute_script(\"arguments[0].scrollTop=arguments[0].scrollHeight\",scr[1])\n",
    "                                time.sleep(1)\n",
    "                                sn=sn+1\n",
    "                            o = browser.find_elements(By.CLASS_NAME,'_1fgfff')\n",
    "                            for ji in range(0,len(o)):\n",
    "                                q = pd.DataFrame([[ad,b,k,l,g,o[ji].text]],columns = ['адр','вре','тел','сай','МГН','отз'])\n",
    "                                df = df.append(q, ignore_index=True)\n",
    "                        else:\n",
    "                            q = pd.DataFrame([[ad,b,k,l,g,'Нет отзывов']],columns = ['адр','вре','тел','сай','МГН','отз'])\n",
    "                            df = df.append(q, ignore_index=True)\n",
    "\n",
    "                        print(q)\n",
    "                    #except \"все остальные\"\n",
    "                    except Exception as e:\n",
    "                        print(i,e)\n",
    "                        pass\n",
    "                    except ElementClickInterceptedException:\n",
    "                        print('ОШИБКА_________________________________________2')\n",
    "                        continue\n",
    "\n",
    "\n",
    "            #if nup ==num_page:################\n",
    "            if num_page == 1:\n",
    "                print('Одна страница')\n",
    "                break\n",
    "            else:\n",
    "                if nup == 1:\n",
    "                    browser.find_elements(By.XPATH,\"//div[@class='_n5hmn94']\")[0].click()\n",
    "                if nup == num_page:\n",
    "                    print('последняя страница')\n",
    "                    break\n",
    "                if nup != 1 and nup!=num_page:\n",
    "                    browser.find_elements(By.XPATH,\"//div[@class='_n5hmn94']\")[1].click()\n",
    "                time.sleep(2)\n",
    "                nup +=1\n",
    "\n",
    "\n",
    "        except IndexError:\n",
    "            print('ОШИБКА_ВЫШЕЛ_ЗА_ГРАНИЦЫ_ИНДЕКСАЦИИ')\n",
    "            continue\n",
    "    df.to_excel('output\\\\'+oblasty['область'][obl]+'.xlsx')"
   ]
  },
  {
   "cell_type": "code",
   "execution_count": 7,
   "metadata": {},
   "outputs": [
    {
     "ename": "WebDriverException",
     "evalue": "Message: unknown error: session deleted because of page crash\nfrom unknown error: cannot determine loading status\nfrom tab crashed\n  (Session info: chrome=121.0.6167.184)\nStacktrace:\n\tGetHandleVerifier [0x00007FF71F107012+3522402]\n\t(No symbol) [0x00007FF71ED28352]\n\t(No symbol) [0x00007FF71EBD596D]\n\t(No symbol) [0x00007FF71EBC2D23]\n\t(No symbol) [0x00007FF71EBC1385]\n\t(No symbol) [0x00007FF71EBC1E3F]\n\t(No symbol) [0x00007FF71EBCF30E]\n\t(No symbol) [0x00007FF71EBE1D43]\n\t(No symbol) [0x00007FF71EBE618A]\n\t(No symbol) [0x00007FF71EBC2400]\n\t(No symbol) [0x00007FF71EBE1913]\n\t(No symbol) [0x00007FF71EC5BC7A]\n\t(No symbol) [0x00007FF71EC3EE03]\n\t(No symbol) [0x00007FF71EC0F4D4]\n\t(No symbol) [0x00007FF71EC105F1]\n\tGetHandleVerifier [0x00007FF71F139B9D+3730157]\n\tGetHandleVerifier [0x00007FF71F18F02D+4079485]\n\tGetHandleVerifier [0x00007FF71F1875D3+4048163]\n\tGetHandleVerifier [0x00007FF71EE5A649+718233]\n\t(No symbol) [0x00007FF71ED34A3F]\n\t(No symbol) [0x00007FF71ED2FA94]\n\t(No symbol) [0x00007FF71ED2FBC2]\n\t(No symbol) [0x00007FF71ED1F2E4]\n\tBaseThreadInitThunk [0x00007FFF8425257D+29]\n\tRtlUserThreadStart [0x00007FFF8506AA78+40]\n",
     "output_type": "error",
     "traceback": [
      "\u001b[1;31m---------------------------------------------------------------------------\u001b[0m",
      "\u001b[1;31mWebDriverException\u001b[0m                        Traceback (most recent call last)",
      "Cell \u001b[1;32mIn[7], line 1\u001b[0m\n\u001b[1;32m----> 1\u001b[0m browser\u001b[38;5;241m.\u001b[39mfind_elements(By\u001b[38;5;241m.\u001b[39mXPATH, \u001b[38;5;124m\"\u001b[39m\u001b[38;5;124m//div[@class=\u001b[39m\u001b[38;5;124m'\u001b[39m\u001b[38;5;124m_ubuirc\u001b[39m\u001b[38;5;124m'\u001b[39m\u001b[38;5;124m]/form/div/div/button\u001b[39m\u001b[38;5;124m\"\u001b[39m)\n",
      "File \u001b[1;32m~\\anaconda3\\Lib\\site-packages\\selenium\\webdriver\\remote\\webdriver.py:771\u001b[0m, in \u001b[0;36mWebDriver.find_elements\u001b[1;34m(self, by, value)\u001b[0m\n\u001b[0;32m    767\u001b[0m     value \u001b[38;5;241m=\u001b[39m \u001b[38;5;124mf\u001b[39m\u001b[38;5;124m'\u001b[39m\u001b[38;5;124m[name=\u001b[39m\u001b[38;5;124m\"\u001b[39m\u001b[38;5;132;01m{\u001b[39;00mvalue\u001b[38;5;132;01m}\u001b[39;00m\u001b[38;5;124m\"\u001b[39m\u001b[38;5;124m]\u001b[39m\u001b[38;5;124m'\u001b[39m\n\u001b[0;32m    769\u001b[0m \u001b[38;5;66;03m# Return empty list if driver returns null\u001b[39;00m\n\u001b[0;32m    770\u001b[0m \u001b[38;5;66;03m# See https://github.com/SeleniumHQ/selenium/issues/4555\u001b[39;00m\n\u001b[1;32m--> 771\u001b[0m \u001b[38;5;28;01mreturn\u001b[39;00m \u001b[38;5;28mself\u001b[39m\u001b[38;5;241m.\u001b[39mexecute(Command\u001b[38;5;241m.\u001b[39mFIND_ELEMENTS, {\u001b[38;5;124m\"\u001b[39m\u001b[38;5;124musing\u001b[39m\u001b[38;5;124m\"\u001b[39m: by, \u001b[38;5;124m\"\u001b[39m\u001b[38;5;124mvalue\u001b[39m\u001b[38;5;124m\"\u001b[39m: value})[\u001b[38;5;124m\"\u001b[39m\u001b[38;5;124mvalue\u001b[39m\u001b[38;5;124m\"\u001b[39m] \u001b[38;5;129;01mor\u001b[39;00m []\n",
      "File \u001b[1;32m~\\anaconda3\\Lib\\site-packages\\selenium\\webdriver\\remote\\webdriver.py:347\u001b[0m, in \u001b[0;36mWebDriver.execute\u001b[1;34m(self, driver_command, params)\u001b[0m\n\u001b[0;32m    345\u001b[0m response \u001b[38;5;241m=\u001b[39m \u001b[38;5;28mself\u001b[39m\u001b[38;5;241m.\u001b[39mcommand_executor\u001b[38;5;241m.\u001b[39mexecute(driver_command, params)\n\u001b[0;32m    346\u001b[0m \u001b[38;5;28;01mif\u001b[39;00m response:\n\u001b[1;32m--> 347\u001b[0m     \u001b[38;5;28mself\u001b[39m\u001b[38;5;241m.\u001b[39merror_handler\u001b[38;5;241m.\u001b[39mcheck_response(response)\n\u001b[0;32m    348\u001b[0m     response[\u001b[38;5;124m\"\u001b[39m\u001b[38;5;124mvalue\u001b[39m\u001b[38;5;124m\"\u001b[39m] \u001b[38;5;241m=\u001b[39m \u001b[38;5;28mself\u001b[39m\u001b[38;5;241m.\u001b[39m_unwrap_value(response\u001b[38;5;241m.\u001b[39mget(\u001b[38;5;124m\"\u001b[39m\u001b[38;5;124mvalue\u001b[39m\u001b[38;5;124m\"\u001b[39m, \u001b[38;5;28;01mNone\u001b[39;00m))\n\u001b[0;32m    349\u001b[0m     \u001b[38;5;28;01mreturn\u001b[39;00m response\n",
      "File \u001b[1;32m~\\anaconda3\\Lib\\site-packages\\selenium\\webdriver\\remote\\errorhandler.py:229\u001b[0m, in \u001b[0;36mErrorHandler.check_response\u001b[1;34m(self, response)\u001b[0m\n\u001b[0;32m    227\u001b[0m         alert_text \u001b[38;5;241m=\u001b[39m value[\u001b[38;5;124m\"\u001b[39m\u001b[38;5;124malert\u001b[39m\u001b[38;5;124m\"\u001b[39m]\u001b[38;5;241m.\u001b[39mget(\u001b[38;5;124m\"\u001b[39m\u001b[38;5;124mtext\u001b[39m\u001b[38;5;124m\"\u001b[39m)\n\u001b[0;32m    228\u001b[0m     \u001b[38;5;28;01mraise\u001b[39;00m exception_class(message, screen, stacktrace, alert_text)  \u001b[38;5;66;03m# type: ignore[call-arg]  # mypy is not smart enough here\u001b[39;00m\n\u001b[1;32m--> 229\u001b[0m \u001b[38;5;28;01mraise\u001b[39;00m exception_class(message, screen, stacktrace)\n",
      "\u001b[1;31mWebDriverException\u001b[0m: Message: unknown error: session deleted because of page crash\nfrom unknown error: cannot determine loading status\nfrom tab crashed\n  (Session info: chrome=121.0.6167.184)\nStacktrace:\n\tGetHandleVerifier [0x00007FF71F107012+3522402]\n\t(No symbol) [0x00007FF71ED28352]\n\t(No symbol) [0x00007FF71EBD596D]\n\t(No symbol) [0x00007FF71EBC2D23]\n\t(No symbol) [0x00007FF71EBC1385]\n\t(No symbol) [0x00007FF71EBC1E3F]\n\t(No symbol) [0x00007FF71EBCF30E]\n\t(No symbol) [0x00007FF71EBE1D43]\n\t(No symbol) [0x00007FF71EBE618A]\n\t(No symbol) [0x00007FF71EBC2400]\n\t(No symbol) [0x00007FF71EBE1913]\n\t(No symbol) [0x00007FF71EC5BC7A]\n\t(No symbol) [0x00007FF71EC3EE03]\n\t(No symbol) [0x00007FF71EC0F4D4]\n\t(No symbol) [0x00007FF71EC105F1]\n\tGetHandleVerifier [0x00007FF71F139B9D+3730157]\n\tGetHandleVerifier [0x00007FF71F18F02D+4079485]\n\tGetHandleVerifier [0x00007FF71F1875D3+4048163]\n\tGetHandleVerifier [0x00007FF71EE5A649+718233]\n\t(No symbol) [0x00007FF71ED34A3F]\n\t(No symbol) [0x00007FF71ED2FA94]\n\t(No symbol) [0x00007FF71ED2FBC2]\n\t(No symbol) [0x00007FF71ED1F2E4]\n\tBaseThreadInitThunk [0x00007FFF8425257D+29]\n\tRtlUserThreadStart [0x00007FFF8506AA78+40]\n"
     ]
    }
   ],
   "source": [
    "browser.find_elements(By.XPATH, \"//div[@class='_ubuirc']/form/div/div/button\")"
   ]
  },
  {
   "cell_type": "code",
   "execution_count": null,
   "metadata": {},
   "outputs": [],
   "source": []
  }
 ],
 "metadata": {
  "kernelspec": {
   "display_name": "Python 3 (ipykernel)",
   "language": "python",
   "name": "python3"
  },
  "language_info": {
   "codemirror_mode": {
    "name": "ipython",
    "version": 3
   },
   "file_extension": ".py",
   "mimetype": "text/x-python",
   "name": "python",
   "nbconvert_exporter": "python",
   "pygments_lexer": "ipython3",
   "version": "3.11.5"
  }
 },
 "nbformat": 4,
 "nbformat_minor": 4
}
