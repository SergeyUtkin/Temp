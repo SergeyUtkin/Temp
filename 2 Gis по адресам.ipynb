{
 "cells": [
  {
   "cell_type": "code",
   "execution_count": 68,
   "metadata": {},
   "outputs": [],
   "source": [
    "import pandas as pd\n",
    "import time\n",
    "from selenium import webdriver\n",
    "from selenium.webdriver.common.by import By\n",
    "from selenium.common.exceptions import ElementClickInterceptedException,StaleElementReferenceException\n",
    "from selenium.webdriver.common.keys import Keys\n",
    "from selenium.webdriver.common.action_chains import ActionChains\n",
    "\n",
    "import pyautogui"
   ]
  },
  {
   "cell_type": "code",
   "execution_count": 12,
   "metadata": {},
   "outputs": [],
   "source": [
    "oblasty = pd.read_excel(r'C:\\Users\\Me\\Desktop\\Лист Microsoft Excel.xlsx')"
   ]
  },
  {
   "cell_type": "code",
   "execution_count": 69,
   "metadata": {},
   "outputs": [],
   "source": [
    "browser = webdriver.Chrome()#(r'C:\\Users\\18668450\\Downloads\\msedgedriver.exe')\n",
    "#browser.implicitly_wait(40)\n",
    "#browser.get('https://2gis.ru/kirov/search/' + 'Амурская область' + ' сбербанк отделения')"
   ]
  },
  {
   "cell_type": "code",
   "execution_count": 70,
   "metadata": {},
   "outputs": [],
   "source": [
    "browser.get(r'https://2gis.ru')"
   ]
  },
  {
   "cell_type": "code",
   "execution_count": 93,
   "metadata": {},
   "outputs": [],
   "source": [
    "ddf = pd.read_excel(r'C:\\Users\\utkin\\Downloads\\Адреса.xlsx')"
   ]
  },
  {
   "cell_type": "code",
   "execution_count": null,
   "metadata": {
    "scrolled": true
   },
   "outputs": [
    {
     "name": "stdout",
     "output_type": "stream",
     "text": [
      "0\n",
      "10\n"
     ]
    }
   ],
   "source": [
    "#browser.get('https://2gis.ru/spb/search/%D0%9B%D0%B5%D0%BD%D0%B8%D0%BD%D0%B3%D1%80%D0%B0%D0%B4%D1%81%D0%BA%D0%B0%D1%8F%20%D0%BE%D0%B1%D0%BB%D0%B0%D1%81%D1%82%D1%8C%20%D1%81%D0%B1%D0%B5%D1%80%D0%B1%D0%B0%D0%BD%D0%BA%20%D0%BE%D1%82%D0%B4%D0%B5%D0%BB%D0%B5%D0%BD%D0%B8%D0%B5/firm/5348552838580350/30.480115%2C59.90825?m=31.145613%2C65.816838%2F4.46')\n",
    "\n",
    "\n",
    "aa = []\n",
    "for c in range(len(ddf)):\n",
    "    if c%10==0:\n",
    "        print(c)\n",
    "#     print(c + 1)\n",
    "#     but_next = browser.find_elements(By.CLASS_NAME,'_n5hmn94')\n",
    "#     if c<0:\n",
    "#         browser.execute_script(\"arguments[0].scrollIntoView(true);\", but_next[max(0,len(but_next)-1)])\n",
    "#         time.sleep(1)\n",
    "#         but_next[max(0,len(but_next)-1)].click()\n",
    "#         time.sleep(3)\n",
    "#         continue\n",
    "\n",
    "#     g = browser.find_element(By.CLASS_NAME,'_awwm2v')\n",
    "    \n",
    "    try:\n",
    "        Poisk = browser.find_element(By.CLASS_NAME,'_1dhzhec9')\n",
    "    except:\n",
    "        Poisk = browser.find_element(By.CLASS_NAME,'_1gvu1zk')\n",
    "    \n",
    "    Poisk.send_keys(Keys.CONTROL + 'a')\n",
    "    Poisk.send_keys(Keys.DELETE)\n",
    "    time.sleep(1)\n",
    "\n",
    "\n",
    "    Poisk.send_keys('отделение Сбер ' + ddf['Юридический адрес по документам'][c].replace('.',' ').replace(',',' '))\n",
    "    time.sleep(2.5)\n",
    "    Poisk.send_keys(Keys.ENTER)\n",
    "    time.sleep(5)\n",
    "    \n",
    "    \n",
    "    elem = browser.find_elements(By.CLASS_NAME, \"_1kf6gff\")\n",
    "    \n",
    "    for i in range(len(elem)):\n",
    "        \n",
    "            \n",
    "        bb = []\n",
    "        \n",
    "        bb.append(ddf['Юридический адрес по документам'][c])\n",
    "        \n",
    "        bb.append(datetime.datetime.now())\n",
    "\n",
    "        #print(e.text)\n",
    "        #print(e.get_attribute('class'))\n",
    "\n",
    "\n",
    "        bb.append(browser.current_url)\n",
    "        browser.execute_script(\"arguments[0].scrollIntoView(true);\", elem[min(len(elem)-1,i)])\n",
    "        elem[i].click()\n",
    "        time.sleep(1)\n",
    "        try:\n",
    "            e = elem[i].find_element(By.CLASS_NAME, '_klarpw')\n",
    "        except:\n",
    "            e = elem[i].find_element(By.CLASS_NAME,'_jvhrnjy')\n",
    "        bb.append(e.text)\n",
    "        but = browser.find_elements(By.CLASS_NAME,'_1kmhi0c') #контакты\n",
    "        if len(but)<5:\n",
    "            continue\n",
    "        else:\n",
    "            time.sleep(3)\n",
    "            try:\n",
    "                e = browser.find_element(By.XPATH,'/html/body/div[2]/div/div/div[1]/div[1]/div[2]/div[2]/div/div/div/div/div[2]/div[2]/div/div[1]/div/div/div/div/div[2]/div[2]/div[1]/div[1]/div/div[2]/div[2]/div')\n",
    "                #print(e.text)                     /html/body/div[2]/div/div/div[1]/div[1]/div[2]/div[2]/div/div/div/div/div[2]/div[2]/div/div[1]/div/div/div/div/div[2]/div[2]/div[1]/div[1]/div/div[2]/div[2]/div\n",
    "                bb.append(e.text)\n",
    "            except:\n",
    "                bb.append('')\n",
    "            e = browser.find_elements(By.CLASS_NAME,'_z3fqkm')\n",
    "            for l in e:\n",
    "                try:\n",
    "                    browser.execute_script(\"arguments[0].scrollIntoView(true);\", l)\n",
    "                    l.click()\n",
    "                except:\n",
    "                    pass\n",
    "\n",
    "\n",
    "\n",
    "            #browser.execute_script(\"arguments[0].scrollIntoView(true);\", e[0])\n",
    "            #e[0].click()\n",
    "            try:\n",
    "                bb.append(browser.find_element(By.CLASS_NAME,'_dxfma7').text)\n",
    "            except:\n",
    "                bb.append('')\n",
    "            time.sleep(2)\n",
    "            cc = []\n",
    "            e = browser.find_elements(By.CLASS_NAME,'_1cuxhvo')            \n",
    "            for ee in e:\n",
    "                cc.append(ee.text)\n",
    "            e = browser.find_elements(By.CLASS_NAME,'_1y2nud6')            \n",
    "            for ee in e:\n",
    "                cc.append(ee.text)\n",
    "            bb.append(cc)\n",
    "\n",
    "            #\n",
    "            browser.execute_script(\"arguments[0].scrollIntoView(true);\", but[2])\n",
    "\n",
    "            but[2].click()\n",
    "            time.sleep(2)\n",
    "            e = browser.find_elements(By.CLASS_NAME,'_er2xx9')\n",
    "            cc = []\n",
    "            for ee in e:\n",
    "                cc.append(ee.text)\n",
    "            bb.append(cc)\n",
    "\n",
    "            e = browser.find_elements(By.CLASS_NAME,'_1rehek')\n",
    "            cc = []\n",
    "            for ee in e:\n",
    "                cc.append(ee.text)\n",
    "            bb.append(cc)\n",
    "\n",
    "\n",
    "\n",
    "\n",
    "            but[3].click()\n",
    "            time.sleep(2)\n",
    "            e = browser.find_elements(By.CLASS_NAME,'_49x36f')\n",
    "            h = 0\n",
    "            while h != len(e):\n",
    "                browser.execute_script(\"arguments[0].scrollIntoView(true);\", e[-1])\n",
    "                time.sleep(1)\n",
    "                h = len(e)\n",
    "                e = browser.find_elements(By.CLASS_NAME,'_49x36f')\n",
    "            e = browser.find_elements(By.CLASS_NAME,'_49x36f')\n",
    "            cc = []\n",
    "            for ee in e:\n",
    "                cc.append(ee.text)\n",
    "            bb.append(cc)\n",
    "\n",
    "\n",
    "\n",
    "\n",
    "            browser.execute_script(\"arguments[0].scrollIntoView(true);\", but[4])\n",
    "            time.sleep(1)\n",
    "\n",
    "            but[4].click()\n",
    "            time.sleep(2)\n",
    "            e = browser.find_elements(By.CLASS_NAME,'_11z8p3v')\n",
    "            cc = []\n",
    "            for ee in e:\n",
    "                cc.append(ee.text)\n",
    "            bb.append(cc)\n",
    "\n",
    "            e = browser.find_elements(By.CLASS_NAME,'_1e3jw2p2')\n",
    "            cc = []\n",
    "            for ee in e:\n",
    "                cc.append(ee.text)\n",
    "            bb.append(cc)\n",
    "\n",
    "            e = browser.find_elements(By.CLASS_NAME,'_8mqv20')\n",
    "            cc = []\n",
    "            for ee in e:\n",
    "                cc.append(ee.text)\n",
    "            bb.append(cc)\n",
    "\n",
    "        \n",
    "        \n",
    "        \n",
    "        \n",
    "        \n",
    "        #e2 = e.find_elements(By.XPATH,'//div[@class='']')\n",
    "        #,'/html/body/div[2]/div/div/div[1]/div[1]/div[2]/div[2]/div/div/div/div/div[2]/div[2]/div/div[1]/div/div/div/div/div[2]/div[2]/div[1]/div/div/div[1]/div[1]/div[2]/div/span')\n",
    "        #print(e.text)\n",
    "        #bb.append(e.text)\n",
    "        \n",
    "        \n",
    "        #e = browser.find_elements(By.CLASS_NAME,'_49kxlr')[3]\n",
    "        #'/html/body/div[2]/div/div/div[1]/div[1]/div[2]/div[2]/div/div/div/div/div[2]/div[2]/div/div[1]/div/div/div/div/div[2]/div[2]/div[1]/div/div/div[1]/div[2]/div[2]/div/span')\n",
    "        #print(e.text)                      \n",
    "        #bb.append(e.text)\n",
    "        #bb.append(browser.find_elements(By.CLASS_NAME,'_49kxlr')[7].text)\n",
    "        #bb.append(browser.find_elements(By.CLASS_NAME,'_49kxlr')[8].text)\n",
    "        \n",
    "        aa.append(bb)\n",
    "        \n",
    "    \n",
    "    \n",
    "    #but_next[max(0,len(but_next)-1)].click()\n",
    "    time.sleep(5)"
   ]
  },
  {
   "cell_type": "code",
   "execution_count": 98,
   "metadata": {},
   "outputs": [],
   "source": [
    "import datetime\n",
    "\n",
    "df = pd.DataFrame(aa)"
   ]
  },
  {
   "cell_type": "code",
   "execution_count": 99,
   "metadata": {},
   "outputs": [
    {
     "data": {
      "text/html": [
       "<div>\n",
       "<style scoped>\n",
       "    .dataframe tbody tr th:only-of-type {\n",
       "        vertical-align: middle;\n",
       "    }\n",
       "\n",
       "    .dataframe tbody tr th {\n",
       "        vertical-align: top;\n",
       "    }\n",
       "\n",
       "    .dataframe thead th {\n",
       "        text-align: right;\n",
       "    }\n",
       "</style>\n",
       "<table border=\"1\" class=\"dataframe\">\n",
       "  <thead>\n",
       "    <tr style=\"text-align: right;\">\n",
       "      <th></th>\n",
       "      <th>0</th>\n",
       "      <th>1</th>\n",
       "      <th>2</th>\n",
       "      <th>3</th>\n",
       "      <th>4</th>\n",
       "      <th>5</th>\n",
       "      <th>6</th>\n",
       "      <th>7</th>\n",
       "      <th>8</th>\n",
       "      <th>9</th>\n",
       "      <th>10</th>\n",
       "      <th>11</th>\n",
       "      <th>12</th>\n",
       "    </tr>\n",
       "  </thead>\n",
       "  <tbody>\n",
       "    <tr>\n",
       "      <th>0</th>\n",
       "      <td>г.Уфа, ул.Тукаева, 46</td>\n",
       "      <td>2024-03-19 10:39:43.826967</td>\n",
       "      <td>https://2gis.ru/ufa/search/%D0%BE%D1%82%D0%B4%...</td>\n",
       "      <td>Улица Тукаева, 46, Уфа91 филиал</td>\n",
       "      <td>Сегодня с 09:00 до 17:45, обед c 13:00 до 14:0...</td>\n",
       "      <td>Пн\\n09:00–17:4513:00–14:00\\nВт\\nвремя работы\\n...</td>\n",
       "      <td>[09:00–17:45, 13:00–14:00, 09:00–17:45, 13:00–...</td>\n",
       "      <td>[Оплата картой, Наличный расчёт, Оплата через ...</td>\n",
       "      <td>[СберБанк , 273 филиала, Сбер , 91 филиал, Рек...</td>\n",
       "      <td>[]</td>\n",
       "      <td>[, , , , , , ]</td>\n",
       "      <td>[]</td>\n",
       "      <td>[Ксерокопия документов\\nЦена не указана]</td>\n",
       "    </tr>\n",
       "  </tbody>\n",
       "</table>\n",
       "</div>"
      ],
      "text/plain": [
       "                      0                          1   \\\n",
       "0  г.Уфа, ул.Тукаева, 46 2024-03-19 10:39:43.826967   \n",
       "\n",
       "                                                  2   \\\n",
       "0  https://2gis.ru/ufa/search/%D0%BE%D1%82%D0%B4%...   \n",
       "\n",
       "                                3   \\\n",
       "0  Улица Тукаева, 46, Уфа91 филиал   \n",
       "\n",
       "                                                  4   \\\n",
       "0  Сегодня с 09:00 до 17:45, обед c 13:00 до 14:0...   \n",
       "\n",
       "                                                  5   \\\n",
       "0  Пн\\n09:00–17:4513:00–14:00\\nВт\\nвремя работы\\n...   \n",
       "\n",
       "                                                  6   \\\n",
       "0  [09:00–17:45, 13:00–14:00, 09:00–17:45, 13:00–...   \n",
       "\n",
       "                                                  7   \\\n",
       "0  [Оплата картой, Наличный расчёт, Оплата через ...   \n",
       "\n",
       "                                                  8   9               10  11  \\\n",
       "0  [СберБанк , 273 филиала, Сбер , 91 филиал, Рек...  []  [, , , , , , ]  []   \n",
       "\n",
       "                                         12  \n",
       "0  [Ксерокопия документов\\nЦена не указана]  "
      ]
     },
     "execution_count": 99,
     "metadata": {},
     "output_type": "execute_result"
    }
   ],
   "source": [
    "df"
   ]
  },
  {
   "cell_type": "code",
   "execution_count": 34,
   "metadata": {},
   "outputs": [],
   "source": [
    "df.to_excel('Вологодская область.xlsx',index=False)"
   ]
  },
  {
   "cell_type": "code",
   "execution_count": 18,
   "metadata": {},
   "outputs": [
    {
     "ename": "KeyError",
     "evalue": "Index(['1', '3', '4'], dtype='object')",
     "output_type": "error",
     "traceback": [
      "\u001b[1;31m---------------------------------------------------------------------------\u001b[0m",
      "\u001b[1;31mKeyError\u001b[0m                                  Traceback (most recent call last)",
      "\u001b[1;32m<ipython-input-18-19e061dbc4de>\u001b[0m in \u001b[0;36m<module>\u001b[1;34m\u001b[0m\n\u001b[1;32m----> 1\u001b[1;33m \u001b[0mdf\u001b[0m\u001b[1;33m.\u001b[0m\u001b[0mdrop_duplicates\u001b[0m\u001b[1;33m(\u001b[0m\u001b[0msubset\u001b[0m \u001b[1;33m=\u001b[0m \u001b[1;33m[\u001b[0m\u001b[1;34m'1'\u001b[0m\u001b[1;33m,\u001b[0m\u001b[1;34m'3'\u001b[0m\u001b[1;33m,\u001b[0m\u001b[1;34m'4'\u001b[0m\u001b[1;33m]\u001b[0m\u001b[1;33m)\u001b[0m\u001b[1;33m\u001b[0m\u001b[1;33m\u001b[0m\u001b[0m\n\u001b[0m",
      "\u001b[1;32m~\\anaconda3\\lib\\site-packages\\pandas\\core\\frame.py\u001b[0m in \u001b[0;36mdrop_duplicates\u001b[1;34m(self, subset, keep, inplace, ignore_index)\u001b[0m\n\u001b[0;32m   5269\u001b[0m         \u001b[0minplace\u001b[0m \u001b[1;33m=\u001b[0m \u001b[0mvalidate_bool_kwarg\u001b[0m\u001b[1;33m(\u001b[0m\u001b[0minplace\u001b[0m\u001b[1;33m,\u001b[0m \u001b[1;34m\"inplace\"\u001b[0m\u001b[1;33m)\u001b[0m\u001b[1;33m\u001b[0m\u001b[1;33m\u001b[0m\u001b[0m\n\u001b[0;32m   5270\u001b[0m         \u001b[0mignore_index\u001b[0m \u001b[1;33m=\u001b[0m \u001b[0mvalidate_bool_kwarg\u001b[0m\u001b[1;33m(\u001b[0m\u001b[0mignore_index\u001b[0m\u001b[1;33m,\u001b[0m \u001b[1;34m\"ignore_index\"\u001b[0m\u001b[1;33m)\u001b[0m\u001b[1;33m\u001b[0m\u001b[1;33m\u001b[0m\u001b[0m\n\u001b[1;32m-> 5271\u001b[1;33m         \u001b[0mduplicated\u001b[0m \u001b[1;33m=\u001b[0m \u001b[0mself\u001b[0m\u001b[1;33m.\u001b[0m\u001b[0mduplicated\u001b[0m\u001b[1;33m(\u001b[0m\u001b[0msubset\u001b[0m\u001b[1;33m,\u001b[0m \u001b[0mkeep\u001b[0m\u001b[1;33m=\u001b[0m\u001b[0mkeep\u001b[0m\u001b[1;33m)\u001b[0m\u001b[1;33m\u001b[0m\u001b[1;33m\u001b[0m\u001b[0m\n\u001b[0m\u001b[0;32m   5272\u001b[0m \u001b[1;33m\u001b[0m\u001b[0m\n\u001b[0;32m   5273\u001b[0m         \u001b[0mresult\u001b[0m \u001b[1;33m=\u001b[0m \u001b[0mself\u001b[0m\u001b[1;33m[\u001b[0m\u001b[1;33m-\u001b[0m\u001b[0mduplicated\u001b[0m\u001b[1;33m]\u001b[0m\u001b[1;33m\u001b[0m\u001b[1;33m\u001b[0m\u001b[0m\n",
      "\u001b[1;32m~\\anaconda3\\lib\\site-packages\\pandas\\core\\frame.py\u001b[0m in \u001b[0;36mduplicated\u001b[1;34m(self, subset, keep)\u001b[0m\n\u001b[0;32m   5403\u001b[0m         \u001b[0mdiff\u001b[0m \u001b[1;33m=\u001b[0m \u001b[0mIndex\u001b[0m\u001b[1;33m(\u001b[0m\u001b[0msubset\u001b[0m\u001b[1;33m)\u001b[0m\u001b[1;33m.\u001b[0m\u001b[0mdifference\u001b[0m\u001b[1;33m(\u001b[0m\u001b[0mself\u001b[0m\u001b[1;33m.\u001b[0m\u001b[0mcolumns\u001b[0m\u001b[1;33m)\u001b[0m\u001b[1;33m\u001b[0m\u001b[1;33m\u001b[0m\u001b[0m\n\u001b[0;32m   5404\u001b[0m         \u001b[1;32mif\u001b[0m \u001b[1;32mnot\u001b[0m \u001b[0mdiff\u001b[0m\u001b[1;33m.\u001b[0m\u001b[0mempty\u001b[0m\u001b[1;33m:\u001b[0m\u001b[1;33m\u001b[0m\u001b[1;33m\u001b[0m\u001b[0m\n\u001b[1;32m-> 5405\u001b[1;33m             \u001b[1;32mraise\u001b[0m \u001b[0mKeyError\u001b[0m\u001b[1;33m(\u001b[0m\u001b[0mdiff\u001b[0m\u001b[1;33m)\u001b[0m\u001b[1;33m\u001b[0m\u001b[1;33m\u001b[0m\u001b[0m\n\u001b[0m\u001b[0;32m   5406\u001b[0m \u001b[1;33m\u001b[0m\u001b[0m\n\u001b[0;32m   5407\u001b[0m         \u001b[0mvals\u001b[0m \u001b[1;33m=\u001b[0m \u001b[1;33m(\u001b[0m\u001b[0mcol\u001b[0m\u001b[1;33m.\u001b[0m\u001b[0mvalues\u001b[0m \u001b[1;32mfor\u001b[0m \u001b[0mname\u001b[0m\u001b[1;33m,\u001b[0m \u001b[0mcol\u001b[0m \u001b[1;32min\u001b[0m \u001b[0mself\u001b[0m\u001b[1;33m.\u001b[0m\u001b[0mitems\u001b[0m\u001b[1;33m(\u001b[0m\u001b[1;33m)\u001b[0m \u001b[1;32mif\u001b[0m \u001b[0mname\u001b[0m \u001b[1;32min\u001b[0m \u001b[0msubset\u001b[0m\u001b[1;33m)\u001b[0m\u001b[1;33m\u001b[0m\u001b[1;33m\u001b[0m\u001b[0m\n",
      "\u001b[1;31mKeyError\u001b[0m: Index(['1', '3', '4'], dtype='object')"
     ]
    }
   ],
   "source": [
    "df.drop_duplicates(subset = ['1','3','4'])"
   ]
  },
  {
   "cell_type": "code",
   "execution_count": 163,
   "metadata": {},
   "outputs": [],
   "source": [
    "ddf = pd.read_excel(r'C:\\Users\\utkin\\Downloads\\Нижегородская область 1-14.xlsx')"
   ]
  },
  {
   "cell_type": "code",
   "execution_count": 302,
   "metadata": {},
   "outputs": [],
   "source": [
    "browser.execute_script(\"arguments[0].scrollIntoView(true);\", l)"
   ]
  },
  {
   "cell_type": "code",
   "execution_count": 91,
   "metadata": {},
   "outputs": [
    {
     "data": {
      "text/plain": [
       "'Пн\\n09:00–17:4513:00–14:00\\nВт\\nвремя работы\\nобед\\n09:00–17:4513:00–14:00\\nСр\\n09:00–17:4513:00–14:00\\nЧт\\n09:00–17:4513:00–14:00\\nПт\\n09:00–17:4513:00–14:00\\nСб\\n——\\nВс\\n——'"
      ]
     },
     "execution_count": 91,
     "metadata": {},
     "output_type": "execute_result"
    }
   ],
   "source": [
    "browser.find_element(By.CLASS_NAME,'_dxfma7').text"
   ]
  },
  {
   "cell_type": "code",
   "execution_count": 204,
   "metadata": {},
   "outputs": [
    {
     "name": "stdout",
     "output_type": "stream",
     "text": [
      "https://2gis.ru/search/%D0%9D%D0%B8%D0%B6%D0%B5%D0%B3%D0%BE%D1%80%D0%BE%D0%B4%D1%81%D0%BA%D0%B0%D1%8F%20%D0%BE%D0%B1%D0%BB%D0%B0%D1%81%D1%82%D1%8C%20%D1%81%D0%B1%D0%B5%D1%80%D0%B1%D0%B0%D0%BD%D0%BA%20%D0%BE%D1%82%D0%B4%D0%B5%D0%BB%D0%B5%D0%BD%D0%B8%D0%B5/page/13/firm/70000001043771675/45.455093%2C56.000604?m=45.748881%2C55.931778%2F10.05\n"
     ]
    }
   ],
   "source": [
    "print(ddf[2][139])"
   ]
  },
  {
   "cell_type": "code",
   "execution_count": 37,
   "metadata": {},
   "outputs": [],
   "source": [
    "browser.get(r'https://2gis.ru/search/%D0%97%D0%B0%D0%B1%D0%B0%D0%B9%D0%BA%D0%B0%D0%BB%D1%8C%D1%81%D0%BA%D0%B8%D0%B9%20%D0%BA%D1%80%D0%B0%D0%B9%20%D1%81%D0%B1%D0%B5%D1%80%D0%B1%D0%B0%D0%BD%D0%BA%20%D0%B1%D0%B0%D0%BD%D0%BA%D0%BE%D0%BC%D0%B0%D1%82/firm/70000001044668458/114.544245%2C51.105327/tab/info?m=113.993704%2C58.105959%2F4.15')"
   ]
  },
  {
   "cell_type": "code",
   "execution_count": 255,
   "metadata": {},
   "outputs": [],
   "source": [
    "e = browser.find_elements(By.CLASS_NAME,'_z3fqkm')#_18zamfw"
   ]
  },
  {
   "cell_type": "code",
   "execution_count": 64,
   "metadata": {},
   "outputs": [
    {
     "name": "stdout",
     "output_type": "stream",
     "text": [
      "1\n",
      "2\n",
      "3\n",
      "4\n",
      "5\n",
      "6\n",
      "7\n",
      "8\n",
      "9\n",
      "10\n",
      "11\n",
      "12\n",
      "13\n",
      "14\n",
      "15\n",
      "16\n",
      "17\n",
      "18\n",
      "19\n",
      "20\n",
      "21\n",
      "22\n",
      "23\n",
      "24\n",
      "25\n",
      "26\n",
      "27\n",
      "28\n",
      "29\n",
      "30\n",
      "31\n",
      "32\n",
      "33\n",
      "34\n",
      "35\n",
      "36\n",
      "37\n",
      "38\n",
      "39\n",
      "40\n",
      "41\n",
      "42\n",
      "43\n",
      "44\n",
      "45\n",
      "46\n",
      "47\n",
      "48\n",
      "49\n",
      "50\n",
      "51\n",
      "52\n",
      "53\n",
      "54\n",
      "55\n",
      "56\n",
      "57\n",
      "58\n",
      "59\n",
      "60\n",
      "61\n",
      "62\n",
      "63\n",
      "64\n",
      "65\n",
      "66\n",
      "67\n"
     ]
    },
    {
     "ename": "KeyboardInterrupt",
     "evalue": "",
     "output_type": "error",
     "traceback": [
      "\u001b[1;31m---------------------------------------------------------------------------\u001b[0m",
      "\u001b[1;31mKeyboardInterrupt\u001b[0m                         Traceback (most recent call last)",
      "\u001b[1;32m<ipython-input-64-f33b13b9e08f>\u001b[0m in \u001b[0;36m<module>\u001b[1;34m\u001b[0m\n\u001b[0;32m     82\u001b[0m \u001b[1;33m\u001b[0m\u001b[0m\n\u001b[0;32m     83\u001b[0m     \u001b[0mbut_next\u001b[0m\u001b[1;33m[\u001b[0m\u001b[0mmax\u001b[0m\u001b[1;33m(\u001b[0m\u001b[1;36m0\u001b[0m\u001b[1;33m,\u001b[0m\u001b[0mlen\u001b[0m\u001b[1;33m(\u001b[0m\u001b[0mbut_next\u001b[0m\u001b[1;33m)\u001b[0m\u001b[1;33m-\u001b[0m\u001b[1;36m1\u001b[0m\u001b[1;33m)\u001b[0m\u001b[1;33m]\u001b[0m\u001b[1;33m.\u001b[0m\u001b[0mclick\u001b[0m\u001b[1;33m(\u001b[0m\u001b[1;33m)\u001b[0m\u001b[1;33m\u001b[0m\u001b[1;33m\u001b[0m\u001b[0m\n\u001b[1;32m---> 84\u001b[1;33m     \u001b[0mtime\u001b[0m\u001b[1;33m.\u001b[0m\u001b[0msleep\u001b[0m\u001b[1;33m(\u001b[0m\u001b[1;36m5\u001b[0m\u001b[1;33m)\u001b[0m\u001b[1;33m\u001b[0m\u001b[1;33m\u001b[0m\u001b[0m\n\u001b[0m",
      "\u001b[1;31mKeyboardInterrupt\u001b[0m: "
     ]
    }
   ],
   "source": [
    "#browser.get('https://2gis.ru/kirov/search/Калужская область сбербанк банкомат')\n",
    "\n",
    "\n",
    "aa = []\n",
    "for c in range(200):\n",
    "    \n",
    "    print(c + 1)\n",
    "    but_next = browser.find_elements(By.CLASS_NAME,'_n5hmn94')\n",
    "    if c<45:\n",
    "        browser.execute_script(\"arguments[0].scrollIntoView(true);\", but_next[max(0,len(but_next)-1)])\n",
    "        time.sleep(1)\n",
    "        but_next[max(0,len(but_next)-1)].click()\n",
    "        time.sleep(3)\n",
    "        continue\n",
    "    g = browser.find_element(By.CLASS_NAME,'_awwm2v')\n",
    "    elem = browser.find_elements(By.CLASS_NAME, \"_1kf6gff\")\n",
    "    \n",
    "    for i in range(len(elem)):\n",
    "        \n",
    "            \n",
    "        bb = []\n",
    "        bb.append(datetime.datetime.now())\n",
    "        try:\n",
    "            e = elem[i].find_element(By.CLASS_NAME, '_klarpw')\n",
    "        except:\n",
    "            e = elem[i].find_element(By.CLASS_NAME,'_jvhrnjy')\n",
    "        bb.append(e.text)\n",
    "        #print(e.text)\n",
    "        #print(e.get_attribute('class'))\n",
    "        \n",
    "        elem[i].find_elements(By.CLASS_NAME, \"_zjunba\")[0].click()\n",
    "        time.sleep(2)\n",
    "        bb.append(browser.current_url)\n",
    "        browser.execute_script(\"arguments[0].scrollIntoView(true);\", elem[min(len(elem)-1,i)])\n",
    "        e = browser.find_elements(By.CLASS_NAME,'_z3fqkm')\n",
    "        if len(e)<4:\n",
    "            try:\n",
    "                e = browser.find_element(By.XPATH,'/html/body/div[2]/div/div/div[1]/div[1]/div[2]/div[2]/div/div/div/div/div[2]/div[2]/div/div[1]/div/div/div/div/div[2]/div[2]/div[1]/div[1]/div/div[2]/div[2]/div')\n",
    "                #print(e.text)                     \n",
    "                bb.append(e.text)\n",
    "            except:\n",
    "                bb.append('')\n",
    "        else:\n",
    "            e[2].click()\n",
    "            time.sleep(1)\n",
    "            e = browser.find_elements(By.CLASS_NAME,'_1sd01sa')\n",
    "            cc = []\n",
    "            for ee in e:\n",
    "                cc.append(ee.text)\n",
    "            bb.append(cc)\n",
    "        but = browser.find_elements(By.CLASS_NAME,'_1kmhi0c')\n",
    "        but[2].click()\n",
    "        time.sleep(2)\n",
    "        e = browser.find_elements(By.CLASS_NAME,'_49kxlr')\n",
    "        cc = []\n",
    "        for ee in e:\n",
    "            cc.append(ee.text)\n",
    "        bb.append(cc)\n",
    "        \n",
    "        if but[3].text == 'Отзывы':\n",
    "            but[3].click()\n",
    "            time.sleep(2)\n",
    "            e = browser.find_elements(By.CLASS_NAME,'_49kxlr')\n",
    "            cc = []\n",
    "            for ee in e:\n",
    "                cc.append(ee.text)\n",
    "            bb.append(cc)\n",
    "        #e2 = e.find_elements(By.XPATH,'//div[@class='']')\n",
    "        #,'/html/body/div[2]/div/div/div[1]/div[1]/div[2]/div[2]/div/div/div/div/div[2]/div[2]/div/div[1]/div/div/div/div/div[2]/div[2]/div[1]/div/div/div[1]/div[1]/div[2]/div/span')\n",
    "        #print(e.text)\n",
    "        #bb.append(e.text)\n",
    "        \n",
    "        \n",
    "        #e = browser.find_elements(By.CLASS_NAME,'_49kxlr')[3]\n",
    "        #'/html/body/div[2]/div/div/div[1]/div[1]/div[2]/div[2]/div/div/div/div/div[2]/div[2]/div/div[1]/div/div/div/div/div[2]/div[2]/div[1]/div/div/div[1]/div[2]/div[2]/div/span')\n",
    "        #print(e.text)                      \n",
    "        #bb.append(e.text)\n",
    "        #bb.append(browser.find_elements(By.CLASS_NAME,'_49kxlr')[7].text)\n",
    "        #bb.append(browser.find_elements(By.CLASS_NAME,'_49kxlr')[8].text)\n",
    "        \n",
    "        aa.append(bb)\n",
    "        \n",
    "    but_next[max(0,len(but_next)-1)].click()\n",
    "    time.sleep(5)"
   ]
  },
  {
   "cell_type": "code",
   "execution_count": 65,
   "metadata": {},
   "outputs": [],
   "source": [
    "import datetime\n",
    "\n",
    "df = pd.DataFrame(aa)\n",
    "df.to_excel(r'C:\\Users\\utkin\\Downloads\\УС\\Ленинградская область 45-66 банкоматы.xlsx',index=False)"
   ]
  },
  {
   "cell_type": "code",
   "execution_count": 6,
   "metadata": {},
   "outputs": [],
   "source": [
    "import datetime"
   ]
  },
  {
   "cell_type": "code",
   "execution_count": 272,
   "metadata": {},
   "outputs": [],
   "source": [
    "e = browser.find_elements(By.CLASS_NAME,'_1cuxhvo')            \n",
    "for ee in e:\n",
    "    cc.append(ee.text)\n",
    "e = browser.find_elements(By.CLASS_NAME,'_1y2nud6')            \n",
    "for ee in e:\n",
    "    cc.append(ee.text)\n",
    "bb.append(cc)"
   ]
  },
  {
   "cell_type": "code",
   "execution_count": 287,
   "metadata": {},
   "outputs": [],
   "source": [
    "browser.execute_script(\"arguments[0].scrollIntoView(true);\", elem[min(len(elem)-1,i)])\n",
    "elem[i].click()"
   ]
  },
  {
   "cell_type": "code",
   "execution_count": 32,
   "metadata": {},
   "outputs": [],
   "source": [
    "cc = []\n",
    "for ee in e:\n",
    "    cc.append(ee.text)"
   ]
  },
  {
   "cell_type": "code",
   "execution_count": 16,
   "metadata": {},
   "outputs": [
    {
     "data": {
      "text/plain": [
       "[datetime.datetime(2024, 3, 13, 14, 58, 24, 936280),\n",
       " 'ТЦ Topcity, проспект 60-летия СССР, 1, Биробиджан15 филиалов',\n",
       " 'https://2gis.ru/birobidzhan/branches/70000001026872265?m=134.498594%2C48.286278%2F5.67']"
      ]
     },
     "execution_count": 16,
     "metadata": {},
     "output_type": "execute_result"
    }
   ],
   "source": [
    "bb"
   ]
  },
  {
   "cell_type": "code",
   "execution_count": 46,
   "metadata": {},
   "outputs": [],
   "source": [
    "e[2].click()"
   ]
  },
  {
   "cell_type": "code",
   "execution_count": 93,
   "metadata": {},
   "outputs": [],
   "source": [
    "browser.execute_script(\"arguments[0].scrollIntoView(true);\", elem[min(len(elem)-1,i+1)])"
   ]
  },
  {
   "cell_type": "code",
   "execution_count": 12,
   "metadata": {},
   "outputs": [],
   "source": [
    "df.to_excel('GOOGLE.xlsx',index=False)"
   ]
  },
  {
   "cell_type": "code",
   "execution_count": 14,
   "metadata": {},
   "outputs": [
    {
     "ename": "StaleElementReferenceException",
     "evalue": "Message: stale element reference: stale element not found\n  (Session info: chrome=122.0.6261.128); For documentation on this error, please visit: https://www.selenium.dev/documentation/webdriver/troubleshooting/errors#stale-element-reference-exception\nStacktrace:\n\tGetHandleVerifier [0x00007FF79A0BAD02+56930]\n\t(No symbol) [0x00007FF79A02F602]\n\t(No symbol) [0x00007FF799EE42E5]\n\t(No symbol) [0x00007FF799EE9261]\n\t(No symbol) [0x00007FF799EEB6EB]\n\t(No symbol) [0x00007FF799EEB7B0]\n\t(No symbol) [0x00007FF799F2B705]\n\t(No symbol) [0x00007FF799F1F526]\n\t(No symbol) [0x00007FF799F4BC9A]\n\t(No symbol) [0x00007FF799F1F09A]\n\t(No symbol) [0x00007FF799F4BEB0]\n\t(No symbol) [0x00007FF799F681E2]\n\t(No symbol) [0x00007FF799F4BA43]\n\t(No symbol) [0x00007FF799F1D438]\n\t(No symbol) [0x00007FF799F1E4D1]\n\tGetHandleVerifier [0x00007FF79A436F8D+3711213]\n\tGetHandleVerifier [0x00007FF79A4904CD+4077101]\n\tGetHandleVerifier [0x00007FF79A48865F+4044735]\n\tGetHandleVerifier [0x00007FF79A159736+706710]\n\t(No symbol) [0x00007FF79A03B8DF]\n\t(No symbol) [0x00007FF79A036AC4]\n\t(No symbol) [0x00007FF79A036C1C]\n\t(No symbol) [0x00007FF79A0268D4]\n\tBaseThreadInitThunk [0x00007FFDCF4E257D+29]\n\tRtlUserThreadStart [0x00007FFDD044AA58+40]\n",
     "output_type": "error",
     "traceback": [
      "\u001b[1;31m---------------------------------------------------------------------------\u001b[0m",
      "\u001b[1;31mStaleElementReferenceException\u001b[0m            Traceback (most recent call last)",
      "\u001b[1;32m<ipython-input-14-59dda5a57cc8>\u001b[0m in \u001b[0;36m<module>\u001b[1;34m\u001b[0m\n\u001b[1;32m----> 1\u001b[1;33m \u001b[0melem\u001b[0m\u001b[1;33m[\u001b[0m\u001b[0mi\u001b[0m\u001b[1;33m]\u001b[0m\u001b[1;33m.\u001b[0m\u001b[0mclick\u001b[0m\u001b[1;33m(\u001b[0m\u001b[1;33m)\u001b[0m\u001b[1;33m\u001b[0m\u001b[1;33m\u001b[0m\u001b[0m\n\u001b[0m",
      "\u001b[1;32m~\\anaconda3\\lib\\site-packages\\selenium\\webdriver\\remote\\webelement.py\u001b[0m in \u001b[0;36mclick\u001b[1;34m(self)\u001b[0m\n\u001b[0;32m     92\u001b[0m     \u001b[1;32mdef\u001b[0m \u001b[0mclick\u001b[0m\u001b[1;33m(\u001b[0m\u001b[0mself\u001b[0m\u001b[1;33m)\u001b[0m \u001b[1;33m->\u001b[0m \u001b[1;32mNone\u001b[0m\u001b[1;33m:\u001b[0m\u001b[1;33m\u001b[0m\u001b[1;33m\u001b[0m\u001b[0m\n\u001b[0;32m     93\u001b[0m         \u001b[1;34m\"\"\"Clicks the element.\"\"\"\u001b[0m\u001b[1;33m\u001b[0m\u001b[1;33m\u001b[0m\u001b[0m\n\u001b[1;32m---> 94\u001b[1;33m         \u001b[0mself\u001b[0m\u001b[1;33m.\u001b[0m\u001b[0m_execute\u001b[0m\u001b[1;33m(\u001b[0m\u001b[0mCommand\u001b[0m\u001b[1;33m.\u001b[0m\u001b[0mCLICK_ELEMENT\u001b[0m\u001b[1;33m)\u001b[0m\u001b[1;33m\u001b[0m\u001b[1;33m\u001b[0m\u001b[0m\n\u001b[0m\u001b[0;32m     95\u001b[0m \u001b[1;33m\u001b[0m\u001b[0m\n\u001b[0;32m     96\u001b[0m     \u001b[1;32mdef\u001b[0m \u001b[0msubmit\u001b[0m\u001b[1;33m(\u001b[0m\u001b[0mself\u001b[0m\u001b[1;33m)\u001b[0m\u001b[1;33m:\u001b[0m\u001b[1;33m\u001b[0m\u001b[1;33m\u001b[0m\u001b[0m\n",
      "\u001b[1;32m~\\anaconda3\\lib\\site-packages\\selenium\\webdriver\\remote\\webelement.py\u001b[0m in \u001b[0;36m_execute\u001b[1;34m(self, command, params)\u001b[0m\n\u001b[0;32m    393\u001b[0m             \u001b[0mparams\u001b[0m \u001b[1;33m=\u001b[0m \u001b[1;33m{\u001b[0m\u001b[1;33m}\u001b[0m\u001b[1;33m\u001b[0m\u001b[1;33m\u001b[0m\u001b[0m\n\u001b[0;32m    394\u001b[0m         \u001b[0mparams\u001b[0m\u001b[1;33m[\u001b[0m\u001b[1;34m\"id\"\u001b[0m\u001b[1;33m]\u001b[0m \u001b[1;33m=\u001b[0m \u001b[0mself\u001b[0m\u001b[1;33m.\u001b[0m\u001b[0m_id\u001b[0m\u001b[1;33m\u001b[0m\u001b[1;33m\u001b[0m\u001b[0m\n\u001b[1;32m--> 395\u001b[1;33m         \u001b[1;32mreturn\u001b[0m \u001b[0mself\u001b[0m\u001b[1;33m.\u001b[0m\u001b[0m_parent\u001b[0m\u001b[1;33m.\u001b[0m\u001b[0mexecute\u001b[0m\u001b[1;33m(\u001b[0m\u001b[0mcommand\u001b[0m\u001b[1;33m,\u001b[0m \u001b[0mparams\u001b[0m\u001b[1;33m)\u001b[0m\u001b[1;33m\u001b[0m\u001b[1;33m\u001b[0m\u001b[0m\n\u001b[0m\u001b[0;32m    396\u001b[0m \u001b[1;33m\u001b[0m\u001b[0m\n\u001b[0;32m    397\u001b[0m     \u001b[1;32mdef\u001b[0m \u001b[0mfind_element\u001b[0m\u001b[1;33m(\u001b[0m\u001b[0mself\u001b[0m\u001b[1;33m,\u001b[0m \u001b[0mby\u001b[0m\u001b[1;33m=\u001b[0m\u001b[0mBy\u001b[0m\u001b[1;33m.\u001b[0m\u001b[0mID\u001b[0m\u001b[1;33m,\u001b[0m \u001b[0mvalue\u001b[0m\u001b[1;33m=\u001b[0m\u001b[1;32mNone\u001b[0m\u001b[1;33m)\u001b[0m \u001b[1;33m->\u001b[0m \u001b[0mWebElement\u001b[0m\u001b[1;33m:\u001b[0m\u001b[1;33m\u001b[0m\u001b[1;33m\u001b[0m\u001b[0m\n",
      "\u001b[1;32m~\\anaconda3\\lib\\site-packages\\selenium\\webdriver\\remote\\webdriver.py\u001b[0m in \u001b[0;36mexecute\u001b[1;34m(self, driver_command, params)\u001b[0m\n\u001b[0;32m    345\u001b[0m         \u001b[0mresponse\u001b[0m \u001b[1;33m=\u001b[0m \u001b[0mself\u001b[0m\u001b[1;33m.\u001b[0m\u001b[0mcommand_executor\u001b[0m\u001b[1;33m.\u001b[0m\u001b[0mexecute\u001b[0m\u001b[1;33m(\u001b[0m\u001b[0mdriver_command\u001b[0m\u001b[1;33m,\u001b[0m \u001b[0mparams\u001b[0m\u001b[1;33m)\u001b[0m\u001b[1;33m\u001b[0m\u001b[1;33m\u001b[0m\u001b[0m\n\u001b[0;32m    346\u001b[0m         \u001b[1;32mif\u001b[0m \u001b[0mresponse\u001b[0m\u001b[1;33m:\u001b[0m\u001b[1;33m\u001b[0m\u001b[1;33m\u001b[0m\u001b[0m\n\u001b[1;32m--> 347\u001b[1;33m             \u001b[0mself\u001b[0m\u001b[1;33m.\u001b[0m\u001b[0merror_handler\u001b[0m\u001b[1;33m.\u001b[0m\u001b[0mcheck_response\u001b[0m\u001b[1;33m(\u001b[0m\u001b[0mresponse\u001b[0m\u001b[1;33m)\u001b[0m\u001b[1;33m\u001b[0m\u001b[1;33m\u001b[0m\u001b[0m\n\u001b[0m\u001b[0;32m    348\u001b[0m             \u001b[0mresponse\u001b[0m\u001b[1;33m[\u001b[0m\u001b[1;34m\"value\"\u001b[0m\u001b[1;33m]\u001b[0m \u001b[1;33m=\u001b[0m \u001b[0mself\u001b[0m\u001b[1;33m.\u001b[0m\u001b[0m_unwrap_value\u001b[0m\u001b[1;33m(\u001b[0m\u001b[0mresponse\u001b[0m\u001b[1;33m.\u001b[0m\u001b[0mget\u001b[0m\u001b[1;33m(\u001b[0m\u001b[1;34m\"value\"\u001b[0m\u001b[1;33m,\u001b[0m \u001b[1;32mNone\u001b[0m\u001b[1;33m)\u001b[0m\u001b[1;33m)\u001b[0m\u001b[1;33m\u001b[0m\u001b[1;33m\u001b[0m\u001b[0m\n\u001b[0;32m    349\u001b[0m             \u001b[1;32mreturn\u001b[0m \u001b[0mresponse\u001b[0m\u001b[1;33m\u001b[0m\u001b[1;33m\u001b[0m\u001b[0m\n",
      "\u001b[1;32m~\\anaconda3\\lib\\site-packages\\selenium\\webdriver\\remote\\errorhandler.py\u001b[0m in \u001b[0;36mcheck_response\u001b[1;34m(self, response)\u001b[0m\n\u001b[0;32m    227\u001b[0m                 \u001b[0malert_text\u001b[0m \u001b[1;33m=\u001b[0m \u001b[0mvalue\u001b[0m\u001b[1;33m[\u001b[0m\u001b[1;34m\"alert\"\u001b[0m\u001b[1;33m]\u001b[0m\u001b[1;33m.\u001b[0m\u001b[0mget\u001b[0m\u001b[1;33m(\u001b[0m\u001b[1;34m\"text\"\u001b[0m\u001b[1;33m)\u001b[0m\u001b[1;33m\u001b[0m\u001b[1;33m\u001b[0m\u001b[0m\n\u001b[0;32m    228\u001b[0m             \u001b[1;32mraise\u001b[0m \u001b[0mexception_class\u001b[0m\u001b[1;33m(\u001b[0m\u001b[0mmessage\u001b[0m\u001b[1;33m,\u001b[0m \u001b[0mscreen\u001b[0m\u001b[1;33m,\u001b[0m \u001b[0mstacktrace\u001b[0m\u001b[1;33m,\u001b[0m \u001b[0malert_text\u001b[0m\u001b[1;33m)\u001b[0m  \u001b[1;31m# type: ignore[call-arg]  # mypy is not smart enough here\u001b[0m\u001b[1;33m\u001b[0m\u001b[1;33m\u001b[0m\u001b[0m\n\u001b[1;32m--> 229\u001b[1;33m         \u001b[1;32mraise\u001b[0m \u001b[0mexception_class\u001b[0m\u001b[1;33m(\u001b[0m\u001b[0mmessage\u001b[0m\u001b[1;33m,\u001b[0m \u001b[0mscreen\u001b[0m\u001b[1;33m,\u001b[0m \u001b[0mstacktrace\u001b[0m\u001b[1;33m)\u001b[0m\u001b[1;33m\u001b[0m\u001b[1;33m\u001b[0m\u001b[0m\n\u001b[0m",
      "\u001b[1;31mStaleElementReferenceException\u001b[0m: Message: stale element reference: stale element not found\n  (Session info: chrome=122.0.6261.128); For documentation on this error, please visit: https://www.selenium.dev/documentation/webdriver/troubleshooting/errors#stale-element-reference-exception\nStacktrace:\n\tGetHandleVerifier [0x00007FF79A0BAD02+56930]\n\t(No symbol) [0x00007FF79A02F602]\n\t(No symbol) [0x00007FF799EE42E5]\n\t(No symbol) [0x00007FF799EE9261]\n\t(No symbol) [0x00007FF799EEB6EB]\n\t(No symbol) [0x00007FF799EEB7B0]\n\t(No symbol) [0x00007FF799F2B705]\n\t(No symbol) [0x00007FF799F1F526]\n\t(No symbol) [0x00007FF799F4BC9A]\n\t(No symbol) [0x00007FF799F1F09A]\n\t(No symbol) [0x00007FF799F4BEB0]\n\t(No symbol) [0x00007FF799F681E2]\n\t(No symbol) [0x00007FF799F4BA43]\n\t(No symbol) [0x00007FF799F1D438]\n\t(No symbol) [0x00007FF799F1E4D1]\n\tGetHandleVerifier [0x00007FF79A436F8D+3711213]\n\tGetHandleVerifier [0x00007FF79A4904CD+4077101]\n\tGetHandleVerifier [0x00007FF79A48865F+4044735]\n\tGetHandleVerifier [0x00007FF79A159736+706710]\n\t(No symbol) [0x00007FF79A03B8DF]\n\t(No symbol) [0x00007FF79A036AC4]\n\t(No symbol) [0x00007FF79A036C1C]\n\t(No symbol) [0x00007FF79A0268D4]\n\tBaseThreadInitThunk [0x00007FFDCF4E257D+29]\n\tRtlUserThreadStart [0x00007FFDD044AA58+40]\n"
     ]
    }
   ],
   "source": [
    "elem[i].click()"
   ]
  },
  {
   "cell_type": "code",
   "execution_count": 194,
   "metadata": {},
   "outputs": [],
   "source": []
  },
  {
   "cell_type": "code",
   "execution_count": 117,
   "metadata": {},
   "outputs": [],
   "source": [
    "browser.execute_script(\"arguments[0].scrollIntoView(true);\", but);"
   ]
  },
  {
   "cell_type": "code",
   "execution_count": 135,
   "metadata": {},
   "outputs": [
    {
     "data": {
      "text/plain": [
       "'_49kxlr'"
      ]
     },
     "execution_count": 135,
     "metadata": {},
     "output_type": "execute_result"
    }
   ],
   "source": [
    "browser.find_elements(By.XPATH, \"/html/body/div[2]/div/div/div[1]/div[1]/div[2]/div[2]/div/div/div/div/div[2]/div[2]/div/div[1]/div/div/div/div/div[2]/div[2]/div[1]/div/div/div[1]/div[1]/div[2]/div\")[0].get_attribute('class')"
   ]
  },
  {
   "cell_type": "code",
   "execution_count": 148,
   "metadata": {},
   "outputs": [
    {
     "data": {
      "text/plain": [
       "'Бесконтактное обслуживание (NFC)Приём наличныхОплата кредитов'"
      ]
     },
     "execution_count": 148,
     "metadata": {},
     "output_type": "execute_result"
    }
   ],
   "source": [
    "browser.find_elements(By.CLASS_NAME,'_49kxlr')[1].text"
   ]
  },
  {
   "cell_type": "code",
   "execution_count": 174,
   "metadata": {},
   "outputs": [],
   "source": [
    "but_next = browser.find_elements(By.CLASS_NAME,'_n5hmn94')"
   ]
  },
  {
   "cell_type": "code",
   "execution_count": 67,
   "metadata": {},
   "outputs": [],
   "source": [
    "import pandas as pd\n",
    "import time\n",
    "from selenium import webdriver\n",
    "from selenium.webdriver.common.by import By\n",
    "from selenium.common.exceptions import ElementClickInterceptedException,StaleElementReferenceException\n",
    "from selenium.webdriver.common.keys import Keys\n",
    "from selenium.webdriver.common.action_chains import ActionChains\n",
    "import pyautogui"
   ]
  },
  {
   "cell_type": "code",
   "execution_count": 66,
   "metadata": {},
   "outputs": [],
   "source": [
    "browser = webdriver.Chrome()\n",
    "browser.get('https://www.google.com/maps/search/Камчатский+край+сбербанк+банкомат')"
   ]
  },
  {
   "cell_type": "code",
   "execution_count": 72,
   "metadata": {},
   "outputs": [
    {
     "name": "stdout",
     "output_type": "stream",
     "text": [
      "0\n",
      "1\n",
      "2\n",
      "3\n",
      "4\n",
      "5\n",
      "6\n",
      "7\n",
      "8\n",
      "9\n",
      "10\n",
      "11\n",
      "12\n",
      "13\n",
      "14\n",
      "15\n",
      "16\n",
      "17\n",
      "18\n",
      "19\n",
      "20\n",
      "21\n",
      "22\n",
      "23\n",
      "24\n",
      "25\n",
      "26\n",
      "27\n",
      "28\n",
      "29\n",
      "30\n",
      "31\n",
      "32\n",
      "33\n",
      "34\n",
      "35\n",
      "36\n",
      "37\n",
      "38\n",
      "39\n",
      "40\n",
      "41\n",
      "42\n",
      "43\n",
      "44\n",
      "45\n",
      "46\n",
      "47\n",
      "48\n",
      "49\n",
      "50\n",
      "51\n",
      "52\n",
      "53\n",
      "54\n",
      "55\n",
      "56\n",
      "57\n",
      "58\n",
      "59\n",
      "60\n",
      "61\n",
      "62\n",
      "63\n",
      "64\n",
      "65\n",
      "66\n",
      "67\n",
      "68\n",
      "69\n",
      "70\n",
      "71\n",
      "72\n",
      "73\n",
      "74\n",
      "75\n",
      "76\n",
      "77\n",
      "78\n",
      "79\n",
      "80\n",
      "81\n",
      "82\n",
      "83\n",
      "84\n",
      "85\n",
      "86\n",
      "87\n",
      "88\n"
     ]
    },
    {
     "ename": "WebDriverException",
     "evalue": "Message: disconnected: not connected to DevTools\n  (failed to check if window was closed: disconnected: not connected to DevTools)\n  (Session info: chrome=122.0.6261.94)\nStacktrace:\n\tGetHandleVerifier [0x00007FF78018AD22+56930]\n\t(No symbol) [0x00007FF7800FF622]\n\t(No symbol) [0x00007FF77FFB42E5]\n\t(No symbol) [0x00007FF77FFA191F]\n\t(No symbol) [0x00007FF77FFA1490]\n\t(No symbol) [0x00007FF77FFB6411]\n\t(No symbol) [0x00007FF7800378B9]\n\t(No symbol) [0x00007FF78001BA43]\n\t(No symbol) [0x00007FF77FFED438]\n\t(No symbol) [0x00007FF77FFEE4D1]\n\tGetHandleVerifier [0x00007FF780506AAD+3709933]\n\tGetHandleVerifier [0x00007FF78055FFED+4075821]\n\tGetHandleVerifier [0x00007FF78055817F+4043455]\n\tGetHandleVerifier [0x00007FF780229756+706710]\n\t(No symbol) [0x00007FF78010B8FF]\n\t(No symbol) [0x00007FF780106AE4]\n\t(No symbol) [0x00007FF780106C3C]\n\t(No symbol) [0x00007FF7800F68F4]\n\tBaseThreadInitThunk [0x00007FFDDC1F7344+20]\n\tRtlUserThreadStart [0x00007FFDDD3426B1+33]\n",
     "output_type": "error",
     "traceback": [
      "\u001b[1;31m---------------------------------------------------------------------------\u001b[0m",
      "\u001b[1;31mWebDriverException\u001b[0m                        Traceback (most recent call last)",
      "Cell \u001b[1;32mIn[72], line 95\u001b[0m\n\u001b[0;32m     93\u001b[0m     but[\u001b[38;5;241m0\u001b[39m]\u001b[38;5;241m.\u001b[39mclick()  \n\u001b[0;32m     94\u001b[0m time\u001b[38;5;241m.\u001b[39msleep(\u001b[38;5;241m9\u001b[39m)\n\u001b[1;32m---> 95\u001b[0m back \u001b[38;5;241m=\u001b[39m browser\u001b[38;5;241m.\u001b[39mfind_elements(By\u001b[38;5;241m.\u001b[39mCLASS_NAME,\u001b[38;5;124m'\u001b[39m\u001b[38;5;124mbDDiq\u001b[39m\u001b[38;5;124m'\u001b[39m)\n\u001b[0;32m     96\u001b[0m back[\u001b[38;5;241m0\u001b[39m]\u001b[38;5;241m.\u001b[39mclick()\n\u001b[0;32m     97\u001b[0m time\u001b[38;5;241m.\u001b[39msleep(\u001b[38;5;241m9\u001b[39m)\n",
      "File \u001b[1;32m~\\anaconda3\\Lib\\site-packages\\selenium\\webdriver\\remote\\webdriver.py:771\u001b[0m, in \u001b[0;36mWebDriver.find_elements\u001b[1;34m(self, by, value)\u001b[0m\n\u001b[0;32m    767\u001b[0m     value \u001b[38;5;241m=\u001b[39m \u001b[38;5;124mf\u001b[39m\u001b[38;5;124m'\u001b[39m\u001b[38;5;124m[name=\u001b[39m\u001b[38;5;124m\"\u001b[39m\u001b[38;5;132;01m{\u001b[39;00mvalue\u001b[38;5;132;01m}\u001b[39;00m\u001b[38;5;124m\"\u001b[39m\u001b[38;5;124m]\u001b[39m\u001b[38;5;124m'\u001b[39m\n\u001b[0;32m    769\u001b[0m \u001b[38;5;66;03m# Return empty list if driver returns null\u001b[39;00m\n\u001b[0;32m    770\u001b[0m \u001b[38;5;66;03m# See https://github.com/SeleniumHQ/selenium/issues/4555\u001b[39;00m\n\u001b[1;32m--> 771\u001b[0m \u001b[38;5;28;01mreturn\u001b[39;00m \u001b[38;5;28mself\u001b[39m\u001b[38;5;241m.\u001b[39mexecute(Command\u001b[38;5;241m.\u001b[39mFIND_ELEMENTS, {\u001b[38;5;124m\"\u001b[39m\u001b[38;5;124musing\u001b[39m\u001b[38;5;124m\"\u001b[39m: by, \u001b[38;5;124m\"\u001b[39m\u001b[38;5;124mvalue\u001b[39m\u001b[38;5;124m\"\u001b[39m: value})[\u001b[38;5;124m\"\u001b[39m\u001b[38;5;124mvalue\u001b[39m\u001b[38;5;124m\"\u001b[39m] \u001b[38;5;129;01mor\u001b[39;00m []\n",
      "File \u001b[1;32m~\\anaconda3\\Lib\\site-packages\\selenium\\webdriver\\remote\\webdriver.py:347\u001b[0m, in \u001b[0;36mWebDriver.execute\u001b[1;34m(self, driver_command, params)\u001b[0m\n\u001b[0;32m    345\u001b[0m response \u001b[38;5;241m=\u001b[39m \u001b[38;5;28mself\u001b[39m\u001b[38;5;241m.\u001b[39mcommand_executor\u001b[38;5;241m.\u001b[39mexecute(driver_command, params)\n\u001b[0;32m    346\u001b[0m \u001b[38;5;28;01mif\u001b[39;00m response:\n\u001b[1;32m--> 347\u001b[0m     \u001b[38;5;28mself\u001b[39m\u001b[38;5;241m.\u001b[39merror_handler\u001b[38;5;241m.\u001b[39mcheck_response(response)\n\u001b[0;32m    348\u001b[0m     response[\u001b[38;5;124m\"\u001b[39m\u001b[38;5;124mvalue\u001b[39m\u001b[38;5;124m\"\u001b[39m] \u001b[38;5;241m=\u001b[39m \u001b[38;5;28mself\u001b[39m\u001b[38;5;241m.\u001b[39m_unwrap_value(response\u001b[38;5;241m.\u001b[39mget(\u001b[38;5;124m\"\u001b[39m\u001b[38;5;124mvalue\u001b[39m\u001b[38;5;124m\"\u001b[39m, \u001b[38;5;28;01mNone\u001b[39;00m))\n\u001b[0;32m    349\u001b[0m     \u001b[38;5;28;01mreturn\u001b[39;00m response\n",
      "File \u001b[1;32m~\\anaconda3\\Lib\\site-packages\\selenium\\webdriver\\remote\\errorhandler.py:229\u001b[0m, in \u001b[0;36mErrorHandler.check_response\u001b[1;34m(self, response)\u001b[0m\n\u001b[0;32m    227\u001b[0m         alert_text \u001b[38;5;241m=\u001b[39m value[\u001b[38;5;124m\"\u001b[39m\u001b[38;5;124malert\u001b[39m\u001b[38;5;124m\"\u001b[39m]\u001b[38;5;241m.\u001b[39mget(\u001b[38;5;124m\"\u001b[39m\u001b[38;5;124mtext\u001b[39m\u001b[38;5;124m\"\u001b[39m)\n\u001b[0;32m    228\u001b[0m     \u001b[38;5;28;01mraise\u001b[39;00m exception_class(message, screen, stacktrace, alert_text)  \u001b[38;5;66;03m# type: ignore[call-arg]  # mypy is not smart enough here\u001b[39;00m\n\u001b[1;32m--> 229\u001b[0m \u001b[38;5;28;01mraise\u001b[39;00m exception_class(message, screen, stacktrace)\n",
      "\u001b[1;31mWebDriverException\u001b[0m: Message: disconnected: not connected to DevTools\n  (failed to check if window was closed: disconnected: not connected to DevTools)\n  (Session info: chrome=122.0.6261.94)\nStacktrace:\n\tGetHandleVerifier [0x00007FF78018AD22+56930]\n\t(No symbol) [0x00007FF7800FF622]\n\t(No symbol) [0x00007FF77FFB42E5]\n\t(No symbol) [0x00007FF77FFA191F]\n\t(No symbol) [0x00007FF77FFA1490]\n\t(No symbol) [0x00007FF77FFB6411]\n\t(No symbol) [0x00007FF7800378B9]\n\t(No symbol) [0x00007FF78001BA43]\n\t(No symbol) [0x00007FF77FFED438]\n\t(No symbol) [0x00007FF77FFEE4D1]\n\tGetHandleVerifier [0x00007FF780506AAD+3709933]\n\tGetHandleVerifier [0x00007FF78055FFED+4075821]\n\tGetHandleVerifier [0x00007FF78055817F+4043455]\n\tGetHandleVerifier [0x00007FF780229756+706710]\n\t(No symbol) [0x00007FF78010B8FF]\n\t(No symbol) [0x00007FF780106AE4]\n\t(No symbol) [0x00007FF780106C3C]\n\t(No symbol) [0x00007FF7800F68F4]\n\tBaseThreadInitThunk [0x00007FFDDC1F7344+20]\n\tRtlUserThreadStart [0x00007FFDDD3426B1+33]\n"
     ]
    }
   ],
   "source": [
    "browser.get('https://www.google.com/maps/search/Камчатский+край+сбербанк+банкомат')\n",
    "\n",
    "aa = []\n",
    "time.sleep(6)\n",
    "elem = browser.find_elements(By.CLASS_NAME,'Nv2PK')\n",
    "hh = len(elem)\n",
    "j = 0\n",
    "while j!=hh:\n",
    "    print(j)\n",
    "    elem = browser.find_elements(By.CLASS_NAME,'Nv2PK')\n",
    "    fl = False\n",
    "    pp = 0\n",
    "    time.sleep(7)\n",
    "    while fl == False:\n",
    "        try:\n",
    "            elem[j].click()\n",
    "            fl = True\n",
    "        except:\n",
    "            pp = pp + 1\n",
    "            time.sleep(pp+1)\n",
    "            elem = browser.find_elements(By.CLASS_NAME,'Nv2PK') \n",
    "            try:\n",
    "                elem[j].click()\n",
    "                fl = True\n",
    "            except:\n",
    "                pp = pp + 1\n",
    "                time.sleep(pp+1)\n",
    "                elem = browser.find_elements(By.CLASS_NAME,'Nv2PK') \n",
    "                elem[j].click()\n",
    "    time.sleep(8)\n",
    "    bb=[]\n",
    "    try:\n",
    "        e = browser.find_elements(By.CLASS_NAME,'RcCsl')\n",
    "        bb.append(e[0].text)\n",
    "    except:\n",
    "        e = browser.find_elements(By.CLASS_NAME,'Io6YTe')\n",
    "        bb.append(e[0].text)\n",
    "    e = browser.find_elements(By.CLASS_NAME,'o0Svhf')\n",
    "    if len(e)>0:\n",
    "        e[0].click()\n",
    "        time.sleep(2)\n",
    "        tim = browser.find_elements(By.CLASS_NAME,'y0skZc')\n",
    "        cc = []\n",
    "        for i in tim:\n",
    "            cc.append(i.text)\n",
    "    \n",
    "    but = browser.find_elements(By.CLASS_NAME,'Gpq6kf')\n",
    "    bb.append(cc)\n",
    "    cc=[]\n",
    "    if len(but)>2:\n",
    "        if but[2].text == 'Информация':\n",
    "            but[2].click()\n",
    "            time.sleep(2)\n",
    "            inf_fl = browser.find_elements(By.CLASS_NAME,'grnAab')\n",
    "            inf = browser.find_elements(By.CLASS_NAME,'ZQ6we')\n",
    "            cc = []\n",
    "            for i in inf:        \n",
    "                cc.append(i.text)\n",
    "            for i in inf_fl:\n",
    "                cc.append(i.get_attribute('src'))\n",
    "    if len(but)>1:\n",
    "        if but[1].text == 'Информация':\n",
    "            but[1].click()\n",
    "            time.sleep(2)\n",
    "            inf_fl = browser.find_elements(By.CLASS_NAME,'grnAab')\n",
    "            inf = browser.find_elements(By.CLASS_NAME,'ZQ6we')\n",
    "            c=[]\n",
    "            for i in inf:        \n",
    "                cc.append(i.text)\n",
    "            for i in inf_fl:\n",
    "                cc.append(i.get_attribute('src'))\n",
    "        bb.append(cc)\n",
    "    cc=[]\n",
    "    if len(but)>1:\n",
    "        if but[1].text == 'Отзывы':       \n",
    "            but[1].click()\n",
    "            time.sleep(5)\n",
    "            comm = browser.find_elements(By.CLASS_NAME,'d4r55 ')\n",
    "            l = 0\n",
    "            cc = []\n",
    "            while l!= len(comm):\n",
    "                l = len(comm)\n",
    "                browser.execute_script(\"arguments[0].scrollIntoView(true);\",comm[-1])\n",
    "                comm = browser.find_elements(By.CLASS_NAME,'d4r55')\n",
    "                time.sleep(3)\n",
    "                browser.execute_script(\"arguments[0].scrollIntoView(true);\",comm[-1])\n",
    "                comm = browser.find_elements(By.CLASS_NAME,'d4r55')       \n",
    "            comm = browser.find_elements(By.CLASS_NAME,'wiI7pd ')  \n",
    "            for i in comm:\n",
    "                cc.append(i.text)\n",
    "        bb.append(cc)\n",
    "    if len(but)>0:\n",
    "        but[0].click()  \n",
    "    time.sleep(9)\n",
    "    back = browser.find_elements(By.CLASS_NAME,'bDDiq')\n",
    "    back[0].click()\n",
    "    time.sleep(9)\n",
    "    aa.append(bb)\n",
    "    j = j + 1\n",
    "    elem = browser.find_elements(By.CLASS_NAME,'Nv2PK')\n",
    "    hh = len(elem)\n",
    "    browser.execute_script(\"arguments[0].scrollIntoView(true);\",elem[min(j+1,hh-1)])\n",
    "    \"\"\"if j == hh:\n",
    "        print(1)\n",
    "        browser.execute_script(\"arguments[0].scrollIntoView(true);\",elem[min(j,hh-1)])\n",
    "        time.sleep(3)\n",
    "        elem = browser.find_elements(By.CLASS_NAME,'Nv2PK')\n",
    "        hh = len(elem)\n",
    "        #browser.execute_script(\"arguments[0].scrollIntoView(true);\",elem[min(j,hh-1)])\n",
    "        #time.sleep(2)\n",
    "        if j==hh:\n",
    "            print(2)\n",
    "            pyautogui.moveTo(415,567)\n",
    "            pyautogui.scroll(-300)\n",
    "            time.sleep(5)\n",
    "            elem = browser.find_elements(By.CLASS_NAME,'Nv2PK')\n",
    "            hh = len(elem)\n",
    "            time.sleep(1.5)\n",
    "            browser.execute_script(\"arguments[0].scrollIntoView(true);\",elem[min(j,hh-1)])\n",
    "        #browser.execute_script(\"arguments[0].scrollIntoView(true);\",elem[-1])\n",
    "        #time.sleep(2)\n",
    "        #elem = browser.find_elements(By.CLASS_NAME,'hfpxzc')\n",
    "        #hh = len(elem)\n",
    "        #browser.execute_script(\"arguments[0].scrollIntoView(true);\",elem[-1])\n",
    "        #time.sleep(2)\n",
    "    \"\"\""
   ]
  },
  {
   "cell_type": "code",
   "execution_count": 71,
   "metadata": {},
   "outputs": [],
   "source": [
    "df = pd.DataFrame(aa)\n",
    "df.to_excel('Google Киров.xlsx',index=False)"
   ]
  },
  {
   "cell_type": "code",
   "execution_count": 42,
   "metadata": {},
   "outputs": [],
   "source": [
    "e = browser.find_element(By.CLASS_NAME,'bDDiq')"
   ]
  },
  {
   "cell_type": "code",
   "execution_count": 43,
   "metadata": {},
   "outputs": [],
   "source": [
    "e.click()"
   ]
  },
  {
   "cell_type": "code",
   "execution_count": 11,
   "metadata": {},
   "outputs": [],
   "source": [
    "time.sleep(2)\n",
    "pyautogui.moveTo(415,567)\n",
    "pyautogui.scroll(-70)"
   ]
  },
  {
   "cell_type": "code",
   "execution_count": 10,
   "metadata": {},
   "outputs": [
    {
     "ename": "IndexError",
     "evalue": "list index out of range",
     "output_type": "error",
     "traceback": [
      "\u001b[1;31m---------------------------------------------------------------------------\u001b[0m",
      "\u001b[1;31mIndexError\u001b[0m                                Traceback (most recent call last)",
      "Cell \u001b[1;32mIn[10], line 1\u001b[0m\n\u001b[1;32m----> 1\u001b[0m browser\u001b[38;5;241m.\u001b[39mfind_elements(By\u001b[38;5;241m.\u001b[39mCLASS_NAME,\u001b[38;5;124m'\u001b[39m\u001b[38;5;124mIo6YTe\u001b[39m\u001b[38;5;124m'\u001b[39m)[\u001b[38;5;241m0\u001b[39m]\u001b[38;5;241m.\u001b[39mtext\n",
      "\u001b[1;31mIndexError\u001b[0m: list index out of range"
     ]
    }
   ],
   "source": [
    "browser.find_elements(By.CLASS_NAME,'Io6YTe')[0].text"
   ]
  },
  {
   "cell_type": "code",
   "execution_count": 9,
   "metadata": {},
   "outputs": [
    {
     "data": {
      "text/plain": [
       "20"
      ]
     },
     "execution_count": 9,
     "metadata": {},
     "output_type": "execute_result"
    }
   ],
   "source": [
    "hh"
   ]
  },
  {
   "cell_type": "code",
   "execution_count": 434,
   "metadata": {},
   "outputs": [],
   "source": [
    "comm = browser.find_elements(By.CLASS_NAME,'hfpxzc')"
   ]
  },
  {
   "cell_type": "code",
   "execution_count": 7,
   "metadata": {},
   "outputs": [
    {
     "data": {
      "text/plain": [
       "['Московский пр., 123А, Калининград, Калининградская обл., 236006',\n",
       " ['среда\\n08:00–23:00',\n",
       "  'четверг\\n08:00–23:00',\n",
       "  'пятница\\n(День защитника Отечества)\\n08:00–23:00\\nЧасы работы могут меняться',\n",
       "  'суббота\\n08:00–23:00',\n",
       "  'воскресенье\\n08:00–23:00',\n",
       "  'понедельник\\n08:00–23:00',\n",
       "  'вторник\\n08:00–23:00']]"
      ]
     },
     "execution_count": 7,
     "metadata": {},
     "output_type": "execute_result"
    }
   ],
   "source": [
    "aa[-1]"
   ]
  },
  {
   "cell_type": "code",
   "execution_count": 527,
   "metadata": {},
   "outputs": [
    {
     "data": {
      "text/plain": [
       "1"
      ]
     },
     "execution_count": 527,
     "metadata": {},
     "output_type": "execute_result"
    }
   ],
   "source": [
    "pp"
   ]
  },
  {
   "cell_type": "code",
   "execution_count": 433,
   "metadata": {},
   "outputs": [],
   "source": [
    "browser.execute_script(\"arguments[0].scrollIntoView(true);\",comm[-1])"
   ]
  },
  {
   "cell_type": "code",
   "execution_count": 400,
   "metadata": {},
   "outputs": [],
   "source": [
    "e= browser.find_element(By.CLASS_NAME,'m6QErb ')"
   ]
  },
  {
   "cell_type": "code",
   "execution_count": 404,
   "metadata": {},
   "outputs": [
    {
     "ename": "AttributeError",
     "evalue": "'WebElement' object has no attribute 'execute_script'",
     "output_type": "error",
     "traceback": [
      "\u001b[1;31m---------------------------------------------------------------------------\u001b[0m",
      "\u001b[1;31mAttributeError\u001b[0m                            Traceback (most recent call last)",
      "Cell \u001b[1;32mIn[404], line 1\u001b[0m\n\u001b[1;32m----> 1\u001b[0m e\u001b[38;5;241m.\u001b[39mexecute_script(\u001b[38;5;124m\"\u001b[39m\u001b[38;5;124mwindow.scrollTo(0, document.body.scrollHeight);\u001b[39m\u001b[38;5;124m\"\u001b[39m)\n",
      "\u001b[1;31mAttributeError\u001b[0m: 'WebElement' object has no attribute 'execute_script'"
     ]
    }
   ],
   "source": [
    "e.execute_script(\"window.scrollTo(0, document.body.scrollHeight);\")"
   ]
  },
  {
   "cell_type": "code",
   "execution_count": 242,
   "metadata": {},
   "outputs": [
    {
     "name": "stdout",
     "output_type": "stream",
     "text": [
      "вторник\n",
      "09:00–19:00\n",
      "среда\n",
      "09:00–19:00\n",
      "четверг\n",
      "09:00–19:00\n",
      "пятница\n",
      "(День защитника Отечества)\n",
      "09:00–19:00\n",
      "Часы работы могут меняться\n",
      "суббота\n",
      "08:30–18:00\n",
      "воскресенье\n",
      "Закрыто\n",
      "понедельник\n",
      "09:00–19:00\n"
     ]
    }
   ],
   "source": [
    "e.aria_role"
   ]
  },
  {
   "cell_type": "code",
   "execution_count": 243,
   "metadata": {},
   "outputs": [],
   "source": []
  },
  {
   "cell_type": "code",
   "execution_count": 244,
   "metadata": {},
   "outputs": [],
   "source": []
  },
  {
   "cell_type": "code",
   "execution_count": 274,
   "metadata": {},
   "outputs": [
    {
     "name": "stdout",
     "output_type": "stream",
     "text": [
      "Вход для людей на инвалидных колясках\n",
      "Парковка с доступом для инвалидов-колясочников\n",
      "Кредит наличными\n",
      "https://www.gstatic.com/images/icons/material/system_gm/2x/check_black_18dp.png\n",
      "https://www.gstatic.com/images/icons/material/system_gm/2x/not_interested_gm_grey_18dp.png\n",
      "https://www.gstatic.com/images/icons/material/system_gm/2x/check_black_18dp.png\n"
     ]
    }
   ],
   "source": [
    "\n",
    "    "
   ]
  },
  {
   "cell_type": "code",
   "execution_count": 272,
   "metadata": {},
   "outputs": [],
   "source": [
    "inf = browser.find_elements(By.CLASS_NAME,'grnAab')"
   ]
  },
  {
   "cell_type": "code",
   "execution_count": 273,
   "metadata": {},
   "outputs": [
    {
     "name": "stdout",
     "output_type": "stream",
     "text": [
      "https://www.gstatic.com/images/icons/material/system_gm/2x/check_black_18dp.png\n"
     ]
    }
   ],
   "source": [
    "print(inf[2].get_attribute('src'))"
   ]
  },
  {
   "cell_type": "code",
   "execution_count": 264,
   "metadata": {},
   "outputs": [
    {
     "data": {
      "text/plain": [
       "[<selenium.webdriver.remote.webelement.WebElement (session=\"a724c8c52960a1f72332dd5683217fb7\", element=\"2071FE3A33006C700F4AE715EAB75A49_element_29930\")>,\n",
       " <selenium.webdriver.remote.webelement.WebElement (session=\"a724c8c52960a1f72332dd5683217fb7\", element=\"2071FE3A33006C700F4AE715EAB75A49_element_29933\")>,\n",
       " <selenium.webdriver.remote.webelement.WebElement (session=\"a724c8c52960a1f72332dd5683217fb7\", element=\"2071FE3A33006C700F4AE715EAB75A49_element_29941\")>]"
      ]
     },
     "execution_count": 264,
     "metadata": {},
     "output_type": "execute_result"
    }
   ],
   "source": [
    "inf"
   ]
  },
  {
   "cell_type": "code",
   "execution_count": 304,
   "metadata": {},
   "outputs": [],
   "source": []
  },
  {
   "cell_type": "code",
   "execution_count": 296,
   "metadata": {},
   "outputs": [],
   "source": []
  },
  {
   "cell_type": "code",
   "execution_count": 291,
   "metadata": {},
   "outputs": [
    {
     "name": "stdout",
     "output_type": "stream",
     "text": [
      "Обслуживание в этом отделении нулевое. В зале терминалов никогда нет консультантов. Две девочки постоянно на перерыве. Взял два толона и 40 минут просидел не дождавшись когда подойдёт моя очередь. Обратился к старшей этим отделением в 4 ое окошко. Ответ был шакирующий: ваша очередь прошла. Клоуны. Работать здесь не торопятся.\n",
      "\n",
      "Получил сегодня карту, девушка позвонила, напомнила, выяснила когда удобно, народу не много, без очереди, на все про все 10 минут, предложила какие то доп услуги, но это ее работа.  Прям вот только хорошее впечатление.\n",
      "\n",
      "Обслуживанием порадовали, мой вопрос решили и быстро и четко, раннее обращалась в другие отделения мне не помогли, здесь все объяснили и решили мой вопрос, сотрудники вежливы и доброжелательны.\n",
      "\n",
      "Меняю оценку на 4. Только тут помогли разобраться!!! В  остальных банках хамили и отправляли подальше.по поводу выдачи денег-Сказали не можем ничего выдать много людей, и ещё много отговорок. Снять евро не получилось, тоже куча отговорок! Зря в очереди просидела.\n",
      "\n",
      "Неспешное обслуживание, позиционируют работа без обеда, однако пришлось обождать пол часа пока сотрудник поест и позже 20 минут с талочиком для получения консультации\n",
      "\n",
      "Новые быстрые банкоматы очень радуют. Нетипичный для балтрайона вежливый сервис\n",
      "\n",
      "Много посетителей, приходится ждать. Но общением с сотрудниками остался доволен.\n",
      "\n",
      "для меня - удобно и быстро можно пополнить счет или снять наличку :)\n",
      "\n",
      "Обычное отделение: электронная очередь, есть консультанты\n",
      "\n",
      "Когда уже банкоматы нн перестанут жрать карты\n",
      "\n"
     ]
    }
   ],
   "source": [
    "for c in comm:\n",
    "    print(c.text)\n",
    "    print()"
   ]
  },
  {
   "cell_type": "code",
   "execution_count": 362,
   "metadata": {},
   "outputs": [],
   "source": [
    "a = 7\n",
    "for i in range(a):\n",
    "    a = a + 1"
   ]
  },
  {
   "cell_type": "code",
   "execution_count": 363,
   "metadata": {},
   "outputs": [
    {
     "data": {
      "text/plain": [
       "6"
      ]
     },
     "execution_count": 363,
     "metadata": {},
     "output_type": "execute_result"
    }
   ],
   "source": [
    "i"
   ]
  },
  {
   "cell_type": "code",
   "execution_count": null,
   "metadata": {},
   "outputs": [],
   "source": []
  }
 ],
 "metadata": {
  "kernelspec": {
   "display_name": "Python 3",
   "language": "python",
   "name": "python3"
  },
  "language_info": {
   "codemirror_mode": {
    "name": "ipython",
    "version": 3
   },
   "file_extension": ".py",
   "mimetype": "text/x-python",
   "name": "python",
   "nbconvert_exporter": "python",
   "pygments_lexer": "ipython3",
   "version": "3.8.8"
  }
 },
 "nbformat": 4,
 "nbformat_minor": 4
}
